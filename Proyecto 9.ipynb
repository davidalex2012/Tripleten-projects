{
 "cells": [
  {
   "cell_type": "markdown",
   "metadata": {},
   "source": [
    "# Descripción"
   ]
  },
  {
   "cell_type": "markdown",
   "metadata": {},
   "source": [
    "La compañía de seguros Sure Tomorrow quiere resolver varias tareas con la ayuda de machine learning y te pide que evalúes esa posibilidad.\n",
    "- Tarea 1: encontrar clientes que sean similares a un cliente determinado. Esto ayudará a los agentes de la compañía con el marketing.\n",
    "- Tarea 2: predecir la probabilidad de que un nuevo cliente reciba una prestación del seguro. ¿Puede un modelo de predictivo funcionar mejor que un modelo dummy?\n",
    "- Tarea 3: predecir el número de prestaciones de seguro que un nuevo cliente pueda recibir utilizando un modelo de regresión lineal.\n",
    "- Tarea 4: proteger los datos personales de los clientes sin afectar al modelo del ejercicio anterior. Es necesario desarrollar un algoritmo de transformación de datos que dificulte la recuperación de la información personal si los datos caen en manos equivocadas. Esto se denomina enmascaramiento u ofuscación de datos. Pero los datos deben protegerse de tal manera que no se vea afectada la calidad de los modelos de machine learning. No es necesario elegir el mejor modelo, basta con demostrar que el algoritmo funciona correctamente.\n"
   ]
  },
  {
   "cell_type": "markdown",
   "metadata": {},
   "source": [
    "# Preprocesamiento y exploración de datos\n",
    "\n",
    "## Inicialización"
   ]
  },
  {
   "cell_type": "code",
   "execution_count": 1,
   "metadata": {},
   "outputs": [
    {
     "name": "stdout",
     "output_type": "stream",
     "text": [
      "\u001b[33mWARNING: Ignoring invalid distribution - (/opt/conda/envs/python3/lib/python3.9/site-packages)\u001b[0m\u001b[33m\n",
      "\u001b[0m\u001b[33mWARNING: Ignoring invalid distribution -ikit-learn (/opt/conda/envs/python3/lib/python3.9/site-packages)\u001b[0m\u001b[33m\n",
      "\u001b[0m\u001b[33mWARNING: Ignoring invalid distribution -ikit-learn (/opt/conda/envs/python3/lib/python3.9/site-packages)\u001b[0m\u001b[33m\n",
      "\u001b[0m\u001b[33mWARNING: Ignoring invalid distribution -cikit-learn (/opt/conda/envs/python3/lib/python3.9/site-packages)\u001b[0m\u001b[33m\n",
      "\u001b[0mRequirement already satisfied: scikit-learn in /opt/conda/envs/python3/lib/python3.9/site-packages (0.24.1)\n",
      "Collecting scikit-learn\n",
      "  Using cached scikit_learn-1.4.2-cp39-cp39-manylinux_2_17_x86_64.manylinux2014_x86_64.whl.metadata (11 kB)\n",
      "Requirement already satisfied: numpy>=1.19.5 in /opt/conda/envs/python3/lib/python3.9/site-packages (from scikit-learn) (1.21.2)\n",
      "Requirement already satisfied: scipy>=1.6.0 in /opt/conda/envs/python3/lib/python3.9/site-packages (from scikit-learn) (1.10.1)\n",
      "Requirement already satisfied: joblib>=1.2.0 in /opt/conda/envs/python3/lib/python3.9/site-packages (from scikit-learn) (1.4.2)\n",
      "Requirement already satisfied: threadpoolctl>=2.0.0 in /opt/conda/envs/python3/lib/python3.9/site-packages (from scikit-learn) (3.5.0)\n",
      "Using cached scikit_learn-1.4.2-cp39-cp39-manylinux_2_17_x86_64.manylinux2014_x86_64.whl (12.2 MB)\n",
      "\u001b[33mWARNING: Ignoring invalid distribution - (/opt/conda/envs/python3/lib/python3.9/site-packages)\u001b[0m\u001b[33m\n",
      "\u001b[0m\u001b[33mWARNING: Ignoring invalid distribution -ikit-learn (/opt/conda/envs/python3/lib/python3.9/site-packages)\u001b[0m\u001b[33m\n",
      "\u001b[0m\u001b[33mWARNING: Ignoring invalid distribution -ikit-learn (/opt/conda/envs/python3/lib/python3.9/site-packages)\u001b[0m\u001b[33m\n",
      "\u001b[0m\u001b[33mWARNING: Ignoring invalid distribution -cikit-learn (/opt/conda/envs/python3/lib/python3.9/site-packages)\u001b[0m\u001b[33m\n",
      "\u001b[0mInstalling collected packages: scikit-learn\n",
      "  Attempting uninstall: scikit-learn\n",
      "    Found existing installation: scikit-learn 0.24.1\n",
      "    Uninstalling scikit-learn-0.24.1:\n",
      "\u001b[31mERROR: Could not install packages due to an OSError: [Errno 13] Permission denied: 'COPYING'\n",
      "Consider using the `--user` option or check the permissions.\n",
      "\u001b[0m\u001b[31m\n",
      "\u001b[0mNote: you may need to restart the kernel to use updated packages.\n"
     ]
    }
   ],
   "source": [
    "pip install scikit-learn --upgrade"
   ]
  },
  {
   "cell_type": "code",
   "execution_count": 2,
   "metadata": {},
   "outputs": [],
   "source": [
    "import numpy as np\n",
    "import pandas as pd\n",
    "\n",
    "import seaborn as sns\n",
    "import matplotlib.pyplot as plt\n",
    "\n",
    "import sklearn.linear_model\n",
    "import sklearn.metrics\n",
    "import sklearn.neighbors\n",
    "import sklearn.preprocessing\n",
    "\n",
    "from sklearn.model_selection import train_test_split\n",
    "import math\n",
    "\n",
    "from IPython.display import display"
   ]
  },
  {
   "cell_type": "markdown",
   "metadata": {},
   "source": [
    "## Carga de datos"
   ]
  },
  {
   "cell_type": "markdown",
   "metadata": {},
   "source": [
    "Carga los datos y haz una revisión básica para comprobar que no hay problemas obvios."
   ]
  },
  {
   "cell_type": "code",
   "execution_count": 3,
   "metadata": {},
   "outputs": [],
   "source": [
    "df = pd.read_csv('/datasets/insurance_us.csv')"
   ]
  },
  {
   "cell_type": "markdown",
   "metadata": {},
   "source": [
    "Renombramos las columnas para que el código se vea más coherente con su estilo."
   ]
  },
  {
   "cell_type": "code",
   "execution_count": 4,
   "metadata": {},
   "outputs": [],
   "source": [
    "df = df.rename(columns={'Gender': 'gender', 'Age': 'age', 'Salary': 'income', 'Family members': 'family_members', 'Insurance benefits': 'insurance_benefits'})"
   ]
  },
  {
   "cell_type": "code",
   "execution_count": 5,
   "metadata": {},
   "outputs": [
    {
     "data": {
      "text/html": [
       "<div>\n",
       "<style scoped>\n",
       "    .dataframe tbody tr th:only-of-type {\n",
       "        vertical-align: middle;\n",
       "    }\n",
       "\n",
       "    .dataframe tbody tr th {\n",
       "        vertical-align: top;\n",
       "    }\n",
       "\n",
       "    .dataframe thead th {\n",
       "        text-align: right;\n",
       "    }\n",
       "</style>\n",
       "<table border=\"1\" class=\"dataframe\">\n",
       "  <thead>\n",
       "    <tr style=\"text-align: right;\">\n",
       "      <th></th>\n",
       "      <th>gender</th>\n",
       "      <th>age</th>\n",
       "      <th>income</th>\n",
       "      <th>family_members</th>\n",
       "      <th>insurance_benefits</th>\n",
       "    </tr>\n",
       "  </thead>\n",
       "  <tbody>\n",
       "    <tr>\n",
       "      <th>227</th>\n",
       "      <td>0</td>\n",
       "      <td>28.0</td>\n",
       "      <td>54300.0</td>\n",
       "      <td>1</td>\n",
       "      <td>0</td>\n",
       "    </tr>\n",
       "    <tr>\n",
       "      <th>1713</th>\n",
       "      <td>1</td>\n",
       "      <td>35.0</td>\n",
       "      <td>42600.0</td>\n",
       "      <td>0</td>\n",
       "      <td>0</td>\n",
       "    </tr>\n",
       "    <tr>\n",
       "      <th>963</th>\n",
       "      <td>1</td>\n",
       "      <td>20.0</td>\n",
       "      <td>64100.0</td>\n",
       "      <td>0</td>\n",
       "      <td>0</td>\n",
       "    </tr>\n",
       "    <tr>\n",
       "      <th>3993</th>\n",
       "      <td>1</td>\n",
       "      <td>24.0</td>\n",
       "      <td>49700.0</td>\n",
       "      <td>1</td>\n",
       "      <td>0</td>\n",
       "    </tr>\n",
       "    <tr>\n",
       "      <th>2636</th>\n",
       "      <td>1</td>\n",
       "      <td>19.0</td>\n",
       "      <td>37000.0</td>\n",
       "      <td>2</td>\n",
       "      <td>0</td>\n",
       "    </tr>\n",
       "    <tr>\n",
       "      <th>4447</th>\n",
       "      <td>1</td>\n",
       "      <td>20.0</td>\n",
       "      <td>38800.0</td>\n",
       "      <td>1</td>\n",
       "      <td>0</td>\n",
       "    </tr>\n",
       "    <tr>\n",
       "      <th>3322</th>\n",
       "      <td>1</td>\n",
       "      <td>33.0</td>\n",
       "      <td>50900.0</td>\n",
       "      <td>3</td>\n",
       "      <td>0</td>\n",
       "    </tr>\n",
       "    <tr>\n",
       "      <th>2468</th>\n",
       "      <td>1</td>\n",
       "      <td>32.0</td>\n",
       "      <td>20600.0</td>\n",
       "      <td>2</td>\n",
       "      <td>0</td>\n",
       "    </tr>\n",
       "    <tr>\n",
       "      <th>1374</th>\n",
       "      <td>1</td>\n",
       "      <td>19.0</td>\n",
       "      <td>41600.0</td>\n",
       "      <td>2</td>\n",
       "      <td>0</td>\n",
       "    </tr>\n",
       "    <tr>\n",
       "      <th>3096</th>\n",
       "      <td>0</td>\n",
       "      <td>25.0</td>\n",
       "      <td>57600.0</td>\n",
       "      <td>4</td>\n",
       "      <td>0</td>\n",
       "    </tr>\n",
       "  </tbody>\n",
       "</table>\n",
       "</div>"
      ],
      "text/plain": [
       "      gender   age   income  family_members  insurance_benefits\n",
       "227        0  28.0  54300.0               1                   0\n",
       "1713       1  35.0  42600.0               0                   0\n",
       "963        1  20.0  64100.0               0                   0\n",
       "3993       1  24.0  49700.0               1                   0\n",
       "2636       1  19.0  37000.0               2                   0\n",
       "4447       1  20.0  38800.0               1                   0\n",
       "3322       1  33.0  50900.0               3                   0\n",
       "2468       1  32.0  20600.0               2                   0\n",
       "1374       1  19.0  41600.0               2                   0\n",
       "3096       0  25.0  57600.0               4                   0"
      ]
     },
     "execution_count": 5,
     "metadata": {},
     "output_type": "execute_result"
    }
   ],
   "source": [
    "df.sample(10)"
   ]
  },
  {
   "cell_type": "code",
   "execution_count": 6,
   "metadata": {},
   "outputs": [
    {
     "name": "stdout",
     "output_type": "stream",
     "text": [
      "<class 'pandas.core.frame.DataFrame'>\n",
      "RangeIndex: 5000 entries, 0 to 4999\n",
      "Data columns (total 5 columns):\n",
      " #   Column              Non-Null Count  Dtype  \n",
      "---  ------              --------------  -----  \n",
      " 0   gender              5000 non-null   int64  \n",
      " 1   age                 5000 non-null   float64\n",
      " 2   income              5000 non-null   float64\n",
      " 3   family_members      5000 non-null   int64  \n",
      " 4   insurance_benefits  5000 non-null   int64  \n",
      "dtypes: float64(2), int64(3)\n",
      "memory usage: 195.4 KB\n"
     ]
    }
   ],
   "source": [
    "df.info()"
   ]
  },
  {
   "cell_type": "code",
   "execution_count": 7,
   "metadata": {},
   "outputs": [],
   "source": [
    "# puede que queramos cambiar el tipo de edad (de float a int) aunque esto no es crucial\n",
    "\n",
    "# escribe tu conversión aquí si lo deseas:\n",
    "df[['age', 'income']] = df [['age', 'income']].astype(int)"
   ]
  },
  {
   "cell_type": "code",
   "execution_count": 8,
   "metadata": {},
   "outputs": [
    {
     "name": "stdout",
     "output_type": "stream",
     "text": [
      "<class 'pandas.core.frame.DataFrame'>\n",
      "RangeIndex: 5000 entries, 0 to 4999\n",
      "Data columns (total 5 columns):\n",
      " #   Column              Non-Null Count  Dtype\n",
      "---  ------              --------------  -----\n",
      " 0   gender              5000 non-null   int64\n",
      " 1   age                 5000 non-null   int64\n",
      " 2   income              5000 non-null   int64\n",
      " 3   family_members      5000 non-null   int64\n",
      " 4   insurance_benefits  5000 non-null   int64\n",
      "dtypes: int64(5)\n",
      "memory usage: 195.4 KB\n"
     ]
    }
   ],
   "source": [
    "# comprueba que la conversión se haya realizado con éxito\n",
    "df.info()"
   ]
  },
  {
   "cell_type": "code",
   "execution_count": 9,
   "metadata": {},
   "outputs": [
    {
     "data": {
      "text/html": [
       "<div>\n",
       "<style scoped>\n",
       "    .dataframe tbody tr th:only-of-type {\n",
       "        vertical-align: middle;\n",
       "    }\n",
       "\n",
       "    .dataframe tbody tr th {\n",
       "        vertical-align: top;\n",
       "    }\n",
       "\n",
       "    .dataframe thead th {\n",
       "        text-align: right;\n",
       "    }\n",
       "</style>\n",
       "<table border=\"1\" class=\"dataframe\">\n",
       "  <thead>\n",
       "    <tr style=\"text-align: right;\">\n",
       "      <th></th>\n",
       "      <th>gender</th>\n",
       "      <th>age</th>\n",
       "      <th>income</th>\n",
       "      <th>family_members</th>\n",
       "      <th>insurance_benefits</th>\n",
       "    </tr>\n",
       "  </thead>\n",
       "  <tbody>\n",
       "    <tr>\n",
       "      <th>count</th>\n",
       "      <td>5000.000000</td>\n",
       "      <td>5000.000000</td>\n",
       "      <td>5000.000000</td>\n",
       "      <td>5000.000000</td>\n",
       "      <td>5000.000000</td>\n",
       "    </tr>\n",
       "    <tr>\n",
       "      <th>mean</th>\n",
       "      <td>0.499000</td>\n",
       "      <td>30.952800</td>\n",
       "      <td>39916.359400</td>\n",
       "      <td>1.194200</td>\n",
       "      <td>0.148000</td>\n",
       "    </tr>\n",
       "    <tr>\n",
       "      <th>std</th>\n",
       "      <td>0.500049</td>\n",
       "      <td>8.440807</td>\n",
       "      <td>9900.082063</td>\n",
       "      <td>1.091387</td>\n",
       "      <td>0.463183</td>\n",
       "    </tr>\n",
       "    <tr>\n",
       "      <th>min</th>\n",
       "      <td>0.000000</td>\n",
       "      <td>18.000000</td>\n",
       "      <td>5300.000000</td>\n",
       "      <td>0.000000</td>\n",
       "      <td>0.000000</td>\n",
       "    </tr>\n",
       "    <tr>\n",
       "      <th>25%</th>\n",
       "      <td>0.000000</td>\n",
       "      <td>24.000000</td>\n",
       "      <td>33300.000000</td>\n",
       "      <td>0.000000</td>\n",
       "      <td>0.000000</td>\n",
       "    </tr>\n",
       "    <tr>\n",
       "      <th>50%</th>\n",
       "      <td>0.000000</td>\n",
       "      <td>30.000000</td>\n",
       "      <td>40200.000000</td>\n",
       "      <td>1.000000</td>\n",
       "      <td>0.000000</td>\n",
       "    </tr>\n",
       "    <tr>\n",
       "      <th>75%</th>\n",
       "      <td>1.000000</td>\n",
       "      <td>37.000000</td>\n",
       "      <td>46600.000000</td>\n",
       "      <td>2.000000</td>\n",
       "      <td>0.000000</td>\n",
       "    </tr>\n",
       "    <tr>\n",
       "      <th>max</th>\n",
       "      <td>1.000000</td>\n",
       "      <td>65.000000</td>\n",
       "      <td>79000.000000</td>\n",
       "      <td>6.000000</td>\n",
       "      <td>5.000000</td>\n",
       "    </tr>\n",
       "  </tbody>\n",
       "</table>\n",
       "</div>"
      ],
      "text/plain": [
       "            gender          age        income  family_members  \\\n",
       "count  5000.000000  5000.000000   5000.000000     5000.000000   \n",
       "mean      0.499000    30.952800  39916.359400        1.194200   \n",
       "std       0.500049     8.440807   9900.082063        1.091387   \n",
       "min       0.000000    18.000000   5300.000000        0.000000   \n",
       "25%       0.000000    24.000000  33300.000000        0.000000   \n",
       "50%       0.000000    30.000000  40200.000000        1.000000   \n",
       "75%       1.000000    37.000000  46600.000000        2.000000   \n",
       "max       1.000000    65.000000  79000.000000        6.000000   \n",
       "\n",
       "       insurance_benefits  \n",
       "count         5000.000000  \n",
       "mean             0.148000  \n",
       "std              0.463183  \n",
       "min              0.000000  \n",
       "25%              0.000000  \n",
       "50%              0.000000  \n",
       "75%              0.000000  \n",
       "max              5.000000  "
      ]
     },
     "execution_count": 9,
     "metadata": {},
     "output_type": "execute_result"
    }
   ],
   "source": [
    "# ahora echa un vistazo a las estadísticas descriptivas de los datos.# ¿Se ve todo bien?\n",
    "df.describe()"
   ]
  },
  {
   "cell_type": "code",
   "execution_count": 10,
   "metadata": {},
   "outputs": [
    {
     "data": {
      "text/plain": [
       "153"
      ]
     },
     "execution_count": 10,
     "metadata": {},
     "output_type": "execute_result"
    }
   ],
   "source": [
    "# Revisión de duplicados\n",
    "\n",
    "df.duplicated().sum()"
   ]
  },
  {
   "cell_type": "code",
   "execution_count": 11,
   "metadata": {
    "scrolled": true
   },
   "outputs": [
    {
     "name": "stdout",
     "output_type": "stream",
     "text": [
      "3.06 %\n"
     ]
    }
   ],
   "source": [
    "# Calculo del porcentaje de duplicados\n",
    "\n",
    "print(df.duplicated().sum() / df.shape [0] * 100, \"%\")"
   ]
  },
  {
   "cell_type": "code",
   "execution_count": 12,
   "metadata": {},
   "outputs": [],
   "source": [
    "# Eliminar duplicados\n",
    "\n",
    "df = df.drop_duplicates().reset_index(drop=True)"
   ]
  },
  {
   "cell_type": "code",
   "execution_count": 13,
   "metadata": {},
   "outputs": [
    {
     "data": {
      "text/plain": [
       "(4847, 5)"
      ]
     },
     "execution_count": 13,
     "metadata": {},
     "output_type": "execute_result"
    }
   ],
   "source": [
    "# Tamaño del dataset\n",
    "\n",
    "df.shape"
   ]
  },
  {
   "cell_type": "markdown",
   "metadata": {},
   "source": [
    "## Análisis exploratorio de datos"
   ]
  },
  {
   "cell_type": "markdown",
   "metadata": {},
   "source": [
    "Vamos a comprobar rápidamente si existen determinados grupos de clientes observando el gráfico de pares."
   ]
  },
  {
   "cell_type": "code",
   "execution_count": 14,
   "metadata": {},
   "outputs": [
    {
     "data": {
      "image/png": "[encoded data removed]",
      "text/plain": [
       "<Figure size 1200x1200 with 30 Axes>"
      ]
     },
     "metadata": {},
     "output_type": "display_data"
    }
   ],
   "source": [
    "g = sns.pairplot(df, kind='hist')\n",
    "g.fig.set_size_inches(12, 12)"
   ]
  },
  {
   "cell_type": "markdown",
   "metadata": {},
   "source": [
    "De acuerdo, es un poco complicado detectar grupos obvios (clústeres) ya que es difícil combinar diversas variables simultáneamente (para analizar distribuciones multivariadas). Ahí es donde LA y ML pueden ser bastante útiles."
   ]
  },
  {
   "cell_type": "markdown",
   "metadata": {},
   "source": [
    "# Tarea 1. Clientes similares"
   ]
  },
  {
   "cell_type": "markdown",
   "metadata": {},
   "source": [
    "En el lenguaje de ML, es necesario desarrollar un procedimiento que devuelva los k vecinos más cercanos (objetos) para un objeto dado basándose en la distancia entre los objetos.\n",
    "Es posible que quieras revisar las siguientes lecciones (capítulo -> lección)- Distancia entre vectores -> Distancia euclidiana\n",
    "- Distancia entre vectores -> Distancia Manhattan\n",
    "\n",
    "Para resolver la tarea, podemos probar diferentes métricas de distancia."
   ]
  },
  {
   "cell_type": "markdown",
   "metadata": {},
   "source": [
    "Escribe una función que devuelva los k vecinos más cercanos para un $n^{th}$ objeto basándose en una métrica de distancia especificada. A la hora de realizar esta tarea no debe tenerse en cuenta el número de prestaciones de seguro recibidas.\n",
    "Puedes utilizar una implementación ya existente del algoritmo kNN de scikit-learn (consulta [el enlace](https://scikit-learn.org/stable/modules/generated/sklearn.neighbors.NearestNeighbors.html#sklearn.neighbors.NearestNeighbors)) o tu propia implementación.\n",
    "Pruébalo para cuatro combinaciones de dos casos- Escalado\n",
    "  - los datos no están escalados\n",
    "  - los datos se escalan con el escalador [MaxAbsScaler](https://scikit-learn.org/stable/modules/generated/sklearn.preprocessing.MaxAbsScaler.html)\n",
    "- Métricas de distancia\n",
    "  - Euclidiana\n",
    "  - Manhattan\n",
    "\n",
    "Responde a estas preguntas:- ¿El hecho de que los datos no estén escalados afecta al algoritmo kNN? Si es así, ¿cómo se manifiesta?- ¿Qué tan similares son los resultados al utilizar la métrica de distancia Manhattan (independientemente del escalado)?"
   ]
  },
  {
   "cell_type": "code",
   "execution_count": 15,
   "metadata": {},
   "outputs": [],
   "source": [
    "feature_names = ['gender', 'age', 'income', 'family_members']"
   ]
  },
  {
   "cell_type": "code",
   "execution_count": 16,
   "metadata": {},
   "outputs": [],
   "source": [
    "def get_knn(df, n, k, metric):\n",
    "    \n",
    "    \"\"\"\n",
    "    Devuelve los k vecinos más cercanos\n",
    "\n",
    "    :param df: DataFrame de pandas utilizado para encontrar objetos similares dentro del mismo lugar    :param n: número de objetos para los que se buscan los vecinos más cercanos    :param k: número de vecinos más cercanos a devolver\n",
    "    :param métrica: nombre de la métrica de distancia    \"\"\"\n",
    "\n",
    "    nbrs = sklearn.neighbors.NearestNeighbors (n_neighbors = k, metric = metric, algorithm = 'brute')\n",
    "    nbrs.fit(df[feature_names])# <tu código aquí> \n",
    "    nbrs_distances, nbrs_indices = nbrs.kneighbors([df.iloc[n][feature_names]], k, return_distance=True)\n",
    "    \n",
    "    df_res = pd.concat([\n",
    "        df.iloc[nbrs_indices[0]], \n",
    "        pd.DataFrame(nbrs_distances.T, index=nbrs_indices[0], columns=['distance'])\n",
    "        ], axis=1)\n",
    "    \n",
    "    return df_res"
   ]
  },
  {
   "cell_type": "markdown",
   "metadata": {},
   "source": [
    "Escalar datos."
   ]
  },
  {
   "cell_type": "code",
   "execution_count": 17,
   "metadata": {},
   "outputs": [],
   "source": [
    "feature_names = ['gender', 'age', 'income', 'family_members']\n",
    "\n",
    "transformer_mas = sklearn.preprocessing.MaxAbsScaler().fit(df[feature_names].to_numpy())\n",
    "\n",
    "df_scaled = df.copy()\n",
    "df_scaled.loc[:, feature_names] = transformer_mas.transform(df[feature_names].to_numpy())"
   ]
  },
  {
   "cell_type": "code",
   "execution_count": 18,
   "metadata": {},
   "outputs": [
    {
     "data": {
      "text/html": [
       "<div>\n",
       "<style scoped>\n",
       "    .dataframe tbody tr th:only-of-type {\n",
       "        vertical-align: middle;\n",
       "    }\n",
       "\n",
       "    .dataframe tbody tr th {\n",
       "        vertical-align: top;\n",
       "    }\n",
       "\n",
       "    .dataframe thead th {\n",
       "        text-align: right;\n",
       "    }\n",
       "</style>\n",
       "<table border=\"1\" class=\"dataframe\">\n",
       "  <thead>\n",
       "    <tr style=\"text-align: right;\">\n",
       "      <th></th>\n",
       "      <th>gender</th>\n",
       "      <th>age</th>\n",
       "      <th>income</th>\n",
       "      <th>family_members</th>\n",
       "      <th>insurance_benefits</th>\n",
       "    </tr>\n",
       "  </thead>\n",
       "  <tbody>\n",
       "    <tr>\n",
       "      <th>2347</th>\n",
       "      <td>1.0</td>\n",
       "      <td>0.553846</td>\n",
       "      <td>0.413924</td>\n",
       "      <td>0.166667</td>\n",
       "      <td>0</td>\n",
       "    </tr>\n",
       "    <tr>\n",
       "      <th>4670</th>\n",
       "      <td>0.0</td>\n",
       "      <td>0.507692</td>\n",
       "      <td>0.496203</td>\n",
       "      <td>0.000000</td>\n",
       "      <td>0</td>\n",
       "    </tr>\n",
       "    <tr>\n",
       "      <th>2043</th>\n",
       "      <td>1.0</td>\n",
       "      <td>0.307692</td>\n",
       "      <td>0.369620</td>\n",
       "      <td>0.000000</td>\n",
       "      <td>0</td>\n",
       "    </tr>\n",
       "    <tr>\n",
       "      <th>4148</th>\n",
       "      <td>1.0</td>\n",
       "      <td>0.615385</td>\n",
       "      <td>0.656962</td>\n",
       "      <td>0.000000</td>\n",
       "      <td>0</td>\n",
       "    </tr>\n",
       "    <tr>\n",
       "      <th>4619</th>\n",
       "      <td>0.0</td>\n",
       "      <td>0.369231</td>\n",
       "      <td>0.469620</td>\n",
       "      <td>0.500000</td>\n",
       "      <td>0</td>\n",
       "    </tr>\n",
       "  </tbody>\n",
       "</table>\n",
       "</div>"
      ],
      "text/plain": [
       "      gender       age    income  family_members  insurance_benefits\n",
       "2347     1.0  0.553846  0.413924        0.166667                   0\n",
       "4670     0.0  0.507692  0.496203        0.000000                   0\n",
       "2043     1.0  0.307692  0.369620        0.000000                   0\n",
       "4148     1.0  0.615385  0.656962        0.000000                   0\n",
       "4619     0.0  0.369231  0.469620        0.500000                   0"
      ]
     },
     "execution_count": 18,
     "metadata": {},
     "output_type": "execute_result"
    }
   ],
   "source": [
    "df_scaled.sample(5)"
   ]
  },
  {
   "cell_type": "markdown",
   "metadata": {},
   "source": [
    "Ahora, vamos a obtener registros similares para uno determinado, para cada combinación"
   ]
  },
  {
   "cell_type": "markdown",
   "metadata": {},
   "source": [
    "#### Métrica Euclidiana "
   ]
  },
  {
   "cell_type": "code",
   "execution_count": 19,
   "metadata": {},
   "outputs": [
    {
     "data": {
      "text/html": [
       "<div>\n",
       "<style scoped>\n",
       "    .dataframe tbody tr th:only-of-type {\n",
       "        vertical-align: middle;\n",
       "    }\n",
       "\n",
       "    .dataframe tbody tr th {\n",
       "        vertical-align: top;\n",
       "    }\n",
       "\n",
       "    .dataframe thead th {\n",
       "        text-align: right;\n",
       "    }\n",
       "</style>\n",
       "<table border=\"1\" class=\"dataframe\">\n",
       "  <thead>\n",
       "    <tr style=\"text-align: right;\">\n",
       "      <th></th>\n",
       "      <th>gender</th>\n",
       "      <th>age</th>\n",
       "      <th>income</th>\n",
       "      <th>family_members</th>\n",
       "      <th>insurance_benefits</th>\n",
       "      <th>distance</th>\n",
       "    </tr>\n",
       "  </thead>\n",
       "  <tbody>\n",
       "    <tr>\n",
       "      <th>1</th>\n",
       "      <td>0</td>\n",
       "      <td>46</td>\n",
       "      <td>38000</td>\n",
       "      <td>1</td>\n",
       "      <td>1</td>\n",
       "      <td>0.000000</td>\n",
       "    </tr>\n",
       "    <tr>\n",
       "      <th>3810</th>\n",
       "      <td>0</td>\n",
       "      <td>40</td>\n",
       "      <td>38000</td>\n",
       "      <td>0</td>\n",
       "      <td>0</td>\n",
       "      <td>6.082763</td>\n",
       "    </tr>\n",
       "    <tr>\n",
       "      <th>4796</th>\n",
       "      <td>1</td>\n",
       "      <td>37</td>\n",
       "      <td>38000</td>\n",
       "      <td>1</td>\n",
       "      <td>0</td>\n",
       "      <td>9.055385</td>\n",
       "    </tr>\n",
       "    <tr>\n",
       "      <th>2480</th>\n",
       "      <td>1</td>\n",
       "      <td>36</td>\n",
       "      <td>38000</td>\n",
       "      <td>0</td>\n",
       "      <td>0</td>\n",
       "      <td>10.099505</td>\n",
       "    </tr>\n",
       "    <tr>\n",
       "      <th>3498</th>\n",
       "      <td>0</td>\n",
       "      <td>33</td>\n",
       "      <td>38000</td>\n",
       "      <td>0</td>\n",
       "      <td>0</td>\n",
       "      <td>13.038405</td>\n",
       "    </tr>\n",
       "  </tbody>\n",
       "</table>\n",
       "</div>"
      ],
      "text/plain": [
       "      gender  age  income  family_members  insurance_benefits   distance\n",
       "1          0   46   38000               1                   1   0.000000\n",
       "3810       0   40   38000               0                   0   6.082763\n",
       "4796       1   37   38000               1                   0   9.055385\n",
       "2480       1   36   38000               0                   0  10.099505\n",
       "3498       0   33   38000               0                   0  13.038405"
      ]
     },
     "execution_count": 19,
     "metadata": {},
     "output_type": "execute_result"
    }
   ],
   "source": [
    "# Uso de la función en el dataset con la métrica euclidiana, obteniendo los 5 puntos más cercanos al índice 1\n",
    "\n",
    "get_knn(df, 1, 5, 'euclidean')"
   ]
  },
  {
   "cell_type": "code",
   "execution_count": 20,
   "metadata": {},
   "outputs": [
    {
     "data": {
      "text/html": [
       "<div>\n",
       "<style scoped>\n",
       "    .dataframe tbody tr th:only-of-type {\n",
       "        vertical-align: middle;\n",
       "    }\n",
       "\n",
       "    .dataframe tbody tr th {\n",
       "        vertical-align: top;\n",
       "    }\n",
       "\n",
       "    .dataframe thead th {\n",
       "        text-align: right;\n",
       "    }\n",
       "</style>\n",
       "<table border=\"1\" class=\"dataframe\">\n",
       "  <thead>\n",
       "    <tr style=\"text-align: right;\">\n",
       "      <th></th>\n",
       "      <th>gender</th>\n",
       "      <th>age</th>\n",
       "      <th>income</th>\n",
       "      <th>family_members</th>\n",
       "      <th>insurance_benefits</th>\n",
       "      <th>distance</th>\n",
       "    </tr>\n",
       "  </thead>\n",
       "  <tbody>\n",
       "    <tr>\n",
       "      <th>1</th>\n",
       "      <td>0.0</td>\n",
       "      <td>0.707692</td>\n",
       "      <td>0.481013</td>\n",
       "      <td>0.166667</td>\n",
       "      <td>1</td>\n",
       "      <td>0.000000</td>\n",
       "    </tr>\n",
       "    <tr>\n",
       "      <th>4041</th>\n",
       "      <td>0.0</td>\n",
       "      <td>0.707692</td>\n",
       "      <td>0.477215</td>\n",
       "      <td>0.166667</td>\n",
       "      <td>1</td>\n",
       "      <td>0.003797</td>\n",
       "    </tr>\n",
       "    <tr>\n",
       "      <th>1835</th>\n",
       "      <td>0.0</td>\n",
       "      <td>0.707692</td>\n",
       "      <td>0.492405</td>\n",
       "      <td>0.166667</td>\n",
       "      <td>1</td>\n",
       "      <td>0.011392</td>\n",
       "    </tr>\n",
       "    <tr>\n",
       "      <th>4833</th>\n",
       "      <td>0.0</td>\n",
       "      <td>0.723077</td>\n",
       "      <td>0.491139</td>\n",
       "      <td>0.166667</td>\n",
       "      <td>1</td>\n",
       "      <td>0.018418</td>\n",
       "    </tr>\n",
       "    <tr>\n",
       "      <th>4341</th>\n",
       "      <td>0.0</td>\n",
       "      <td>0.692308</td>\n",
       "      <td>0.459494</td>\n",
       "      <td>0.166667</td>\n",
       "      <td>1</td>\n",
       "      <td>0.026453</td>\n",
       "    </tr>\n",
       "  </tbody>\n",
       "</table>\n",
       "</div>"
      ],
      "text/plain": [
       "      gender       age    income  family_members  insurance_benefits  distance\n",
       "1        0.0  0.707692  0.481013        0.166667                   1  0.000000\n",
       "4041     0.0  0.707692  0.477215        0.166667                   1  0.003797\n",
       "1835     0.0  0.707692  0.492405        0.166667                   1  0.011392\n",
       "4833     0.0  0.723077  0.491139        0.166667                   1  0.018418\n",
       "4341     0.0  0.692308  0.459494        0.166667                   1  0.026453"
      ]
     },
     "execution_count": 20,
     "metadata": {},
     "output_type": "execute_result"
    }
   ],
   "source": [
    "# Uso de la función en el dataset escalado con la métrica euclidiana\n",
    "\n",
    "get_knn(df_scaled, 1 , 5, 'euclidean')"
   ]
  },
  {
   "cell_type": "markdown",
   "metadata": {},
   "source": [
    "#### Métrica Manhattan"
   ]
  },
  {
   "cell_type": "code",
   "execution_count": 21,
   "metadata": {},
   "outputs": [
    {
     "data": {
      "text/html": [
       "<div>\n",
       "<style scoped>\n",
       "    .dataframe tbody tr th:only-of-type {\n",
       "        vertical-align: middle;\n",
       "    }\n",
       "\n",
       "    .dataframe tbody tr th {\n",
       "        vertical-align: top;\n",
       "    }\n",
       "\n",
       "    .dataframe thead th {\n",
       "        text-align: right;\n",
       "    }\n",
       "</style>\n",
       "<table border=\"1\" class=\"dataframe\">\n",
       "  <thead>\n",
       "    <tr style=\"text-align: right;\">\n",
       "      <th></th>\n",
       "      <th>gender</th>\n",
       "      <th>age</th>\n",
       "      <th>income</th>\n",
       "      <th>family_members</th>\n",
       "      <th>insurance_benefits</th>\n",
       "      <th>distance</th>\n",
       "    </tr>\n",
       "  </thead>\n",
       "  <tbody>\n",
       "    <tr>\n",
       "      <th>1</th>\n",
       "      <td>0</td>\n",
       "      <td>46</td>\n",
       "      <td>38000</td>\n",
       "      <td>1</td>\n",
       "      <td>1</td>\n",
       "      <td>0.0</td>\n",
       "    </tr>\n",
       "    <tr>\n",
       "      <th>3810</th>\n",
       "      <td>0</td>\n",
       "      <td>40</td>\n",
       "      <td>38000</td>\n",
       "      <td>0</td>\n",
       "      <td>0</td>\n",
       "      <td>7.0</td>\n",
       "    </tr>\n",
       "    <tr>\n",
       "      <th>4796</th>\n",
       "      <td>1</td>\n",
       "      <td>37</td>\n",
       "      <td>38000</td>\n",
       "      <td>1</td>\n",
       "      <td>0</td>\n",
       "      <td>10.0</td>\n",
       "    </tr>\n",
       "    <tr>\n",
       "      <th>2480</th>\n",
       "      <td>1</td>\n",
       "      <td>36</td>\n",
       "      <td>38000</td>\n",
       "      <td>0</td>\n",
       "      <td>0</td>\n",
       "      <td>12.0</td>\n",
       "    </tr>\n",
       "    <tr>\n",
       "      <th>3498</th>\n",
       "      <td>0</td>\n",
       "      <td>33</td>\n",
       "      <td>38000</td>\n",
       "      <td>0</td>\n",
       "      <td>0</td>\n",
       "      <td>14.0</td>\n",
       "    </tr>\n",
       "  </tbody>\n",
       "</table>\n",
       "</div>"
      ],
      "text/plain": [
       "      gender  age  income  family_members  insurance_benefits  distance\n",
       "1          0   46   38000               1                   1       0.0\n",
       "3810       0   40   38000               0                   0       7.0\n",
       "4796       1   37   38000               1                   0      10.0\n",
       "2480       1   36   38000               0                   0      12.0\n",
       "3498       0   33   38000               0                   0      14.0"
      ]
     },
     "execution_count": 21,
     "metadata": {},
     "output_type": "execute_result"
    }
   ],
   "source": [
    "#Uso de la función en el dataset con la métrica Manhattan, obteniendo los 5 puntos más cercanos al indice 1\n",
    "\n",
    "get_knn(df, 1, 5, 'manhattan')"
   ]
  },
  {
   "cell_type": "code",
   "execution_count": 22,
   "metadata": {},
   "outputs": [
    {
     "data": {
      "text/html": [
       "<div>\n",
       "<style scoped>\n",
       "    .dataframe tbody tr th:only-of-type {\n",
       "        vertical-align: middle;\n",
       "    }\n",
       "\n",
       "    .dataframe tbody tr th {\n",
       "        vertical-align: top;\n",
       "    }\n",
       "\n",
       "    .dataframe thead th {\n",
       "        text-align: right;\n",
       "    }\n",
       "</style>\n",
       "<table border=\"1\" class=\"dataframe\">\n",
       "  <thead>\n",
       "    <tr style=\"text-align: right;\">\n",
       "      <th></th>\n",
       "      <th>gender</th>\n",
       "      <th>age</th>\n",
       "      <th>income</th>\n",
       "      <th>family_members</th>\n",
       "      <th>insurance_benefits</th>\n",
       "      <th>distance</th>\n",
       "    </tr>\n",
       "  </thead>\n",
       "  <tbody>\n",
       "    <tr>\n",
       "      <th>1</th>\n",
       "      <td>0.0</td>\n",
       "      <td>0.707692</td>\n",
       "      <td>0.481013</td>\n",
       "      <td>0.166667</td>\n",
       "      <td>1</td>\n",
       "      <td>0.000000</td>\n",
       "    </tr>\n",
       "    <tr>\n",
       "      <th>4041</th>\n",
       "      <td>0.0</td>\n",
       "      <td>0.707692</td>\n",
       "      <td>0.477215</td>\n",
       "      <td>0.166667</td>\n",
       "      <td>1</td>\n",
       "      <td>0.003797</td>\n",
       "    </tr>\n",
       "    <tr>\n",
       "      <th>1835</th>\n",
       "      <td>0.0</td>\n",
       "      <td>0.707692</td>\n",
       "      <td>0.492405</td>\n",
       "      <td>0.166667</td>\n",
       "      <td>1</td>\n",
       "      <td>0.011392</td>\n",
       "    </tr>\n",
       "    <tr>\n",
       "      <th>4833</th>\n",
       "      <td>0.0</td>\n",
       "      <td>0.723077</td>\n",
       "      <td>0.491139</td>\n",
       "      <td>0.166667</td>\n",
       "      <td>1</td>\n",
       "      <td>0.025511</td>\n",
       "    </tr>\n",
       "    <tr>\n",
       "      <th>2394</th>\n",
       "      <td>0.0</td>\n",
       "      <td>0.676923</td>\n",
       "      <td>0.482278</td>\n",
       "      <td>0.166667</td>\n",
       "      <td>1</td>\n",
       "      <td>0.032035</td>\n",
       "    </tr>\n",
       "  </tbody>\n",
       "</table>\n",
       "</div>"
      ],
      "text/plain": [
       "      gender       age    income  family_members  insurance_benefits  distance\n",
       "1        0.0  0.707692  0.481013        0.166667                   1  0.000000\n",
       "4041     0.0  0.707692  0.477215        0.166667                   1  0.003797\n",
       "1835     0.0  0.707692  0.492405        0.166667                   1  0.011392\n",
       "4833     0.0  0.723077  0.491139        0.166667                   1  0.025511\n",
       "2394     0.0  0.676923  0.482278        0.166667                   1  0.032035"
      ]
     },
     "execution_count": 22,
     "metadata": {},
     "output_type": "execute_result"
    }
   ],
   "source": [
    "# Uso de la función en el dataset escalado con la métrica Manhattan\n",
    "\n",
    "get_knn(df_scaled, 1 , 5, 'manhattan')"
   ]
  },
  {
   "cell_type": "markdown",
   "metadata": {},
   "source": [
    "Respuestas a las preguntas"
   ]
  },
  {
   "cell_type": "markdown",
   "metadata": {},
   "source": [
    "**¿El hecho de que los datos no estén escalados afecta al algoritmo kNN? Si es así, ¿cómo se manifiesta?** \n",
    "\n",
    "- Los datos no escalados afectan el algoritmo kNN de manera significativa. Comparandolo con los datos escalados, generando resultados diferentes.\n",
    "\n",
    "- Se puede notar más esta afectación en la columna objetivo '**insurance_benefits**' de los datos no escalados llevan a predicciones incorrectas, como en la que ciertos puntos objetivos con valor de 1 se agrupan con otros de valor de 0\n",
    "\n",
    "- El uso de los datos escalados genera resultados más precisos."
   ]
  },
  {
   "cell_type": "markdown",
   "metadata": {},
   "source": [
    "**¿Qué tan similares son los resultados al utilizar la métrica de distancia Manhattan (independientemente del escalado)?** \n",
    "\n",
    "- Los resultados con ambas métricas son similares con los datos no escalados, con sus diferencias propias por ser diferentes métricas.\n",
    "\n",
    "- Pero en los datos escalados, las métricas dan resultados diferentes, particularmente la del quinto punto. Euclidiana (4341), Manhattan (2394)."
   ]
  },
  {
   "cell_type": "markdown",
   "metadata": {},
   "source": [
    "# Tarea 2. ¿Es probable que el cliente reciba una prestación del seguro?"
   ]
  },
  {
   "cell_type": "markdown",
   "metadata": {},
   "source": [
    "En términos de machine learning podemos considerarlo como una tarea de clasificación binaria."
   ]
  },
  {
   "cell_type": "markdown",
   "metadata": {},
   "source": [
    "Con el valor de `insurance_benefits` superior a cero como objetivo, evalúa si el enfoque de clasificación kNN puede funcionar mejor que el modelo dummy.\n",
    "Instrucciones:\n",
    "- Construye un clasificador basado en KNN y mide su calidad con la métrica F1 para k=1...10 tanto para los datos originales como para los escalados. Sería interesante observar cómo k puede influir en la métrica de evaluación y si el escalado de los datos provoca alguna diferencia. Puedes utilizar una implementación ya existente del algoritmo de clasificación kNN de scikit-learn (consulta [el enlace](https://scikit-learn.org/stable/modules/generated/sklearn.neighbors.KNeighborsClassifier.html)) o tu propia implementación.- Construye un modelo dummy que, en este caso, es simplemente un modelo aleatorio. Debería devolver \"1\" con cierta probabilidad. Probemos el modelo con cuatro valores de probabilidad: 0, la probabilidad de pagar cualquier prestación del seguro, 0.5, 1.\n",
    "La probabilidad de pagar cualquier prestación del seguro puede definirse como\n",
    "$$\n",
    "P\\{\\text{prestación de seguro recibida}\\}=\\frac{\\text{número de clientes que han recibido alguna prestación de seguro}}{\\text{número total de clientes}}.\n",
    "$$\n",
    "\n",
    "Divide todos los datos correspondientes a las etapas de entrenamiento/prueba respetando la proporción 70:30."
   ]
  },
  {
   "cell_type": "code",
   "execution_count": 23,
   "metadata": {},
   "outputs": [],
   "source": [
    "# сalcula el objetivo\n",
    "df['insurance_benefits_received'] = np.where(df['insurance_benefits'] == 0, 0 , 1)"
   ]
  },
  {
   "cell_type": "code",
   "execution_count": 24,
   "metadata": {},
   "outputs": [
    {
     "data": {
      "text/plain": [
       "0    4284\n",
       "1     563\n",
       "Name: insurance_benefits_received, dtype: int64"
      ]
     },
     "metadata": {},
     "output_type": "display_data"
    },
    {
     "data": {
      "text/plain": [
       "<AxesSubplot:>"
      ]
     },
     "execution_count": 24,
     "metadata": {},
     "output_type": "execute_result"
    },
    {
     "data": {
      "image/png": "[encoded data removed]",
      "text/plain": [
       "<Figure size 640x480 with 1 Axes>"
      ]
     },
     "metadata": {},
     "output_type": "display_data"
    }
   ],
   "source": [
    "# comprueba el desequilibrio de clases con value_counts()\n",
    "\n",
    "display(df['insurance_benefits_received'].value_counts())\n",
    "df['insurance_benefits_received'].value_counts().plot(kind='bar')"
   ]
  },
  {
   "cell_type": "markdown",
   "metadata": {},
   "source": [
    "La clase no está balanceada, ya que la mayoría de clientes no recibe una prestación del seguro."
   ]
  },
  {
   "cell_type": "code",
   "execution_count": 25,
   "metadata": {},
   "outputs": [],
   "source": [
    "def eval_classifier(y_true, y_pred):\n",
    "    \n",
    "    f1_score = sklearn.metrics.f1_score(y_true, y_pred)\n",
    "    print(f'F1: {f1_score:.2f}')\n",
    "    \n",
    "# si tienes algún problema con la siguiente línea, reinicia el kernel y ejecuta el cuaderno de nuevo    cm = sklearn.metrics.confusion_matrix(y_true, y_pred, normalize='all')\n",
    "    cm = sklearn.metrics.confusion_matrix(y_true, y_pred, normalize = 'all')\n",
    "    print('Matriz de confusión')\n",
    "    print(cm)"
   ]
  },
  {
   "cell_type": "code",
   "execution_count": 26,
   "metadata": {},
   "outputs": [],
   "source": [
    "# generar la salida de un modelo aleatorio\n",
    "\n",
    "def rnd_model_predict(P, size, seed=42):\n",
    "\n",
    "    rng = np.random.default_rng(seed=seed)\n",
    "    return rng.binomial(n=1, p=P, size=size)"
   ]
  },
  {
   "cell_type": "code",
   "execution_count": 27,
   "metadata": {},
   "outputs": [
    {
     "name": "stdout",
     "output_type": "stream",
     "text": [
      "La probabilidad: 0.00\n",
      "F1: 0.00\n",
      "Matriz de confusión\n",
      "[[0.88384568 0.        ]\n",
      " [0.11615432 0.        ]]\n",
      "\n",
      "La probabilidad: 0.12\n",
      "F1: 0.13\n",
      "Matriz de confusión\n",
      "[[0.78502166 0.09882401]\n",
      " [0.1017124  0.01444192]]\n",
      "\n",
      "La probabilidad: 0.50\n",
      "F1: 0.19\n",
      "Matriz de confusión\n",
      "[[0.44873117 0.4351145 ]\n",
      " [0.05921188 0.05694244]]\n",
      "\n",
      "La probabilidad: 1.00\n",
      "F1: 0.21\n",
      "Matriz de confusión\n",
      "[[0.         0.88384568]\n",
      " [0.         0.11615432]]\n",
      "\n"
     ]
    }
   ],
   "source": [
    "for P in [0, df['insurance_benefits_received'].sum() / len(df), 0.5, 1]:\n",
    "\n",
    "    print(f'La probabilidad: {P:.2f}')\n",
    "    y_pred_rnd = rnd_model_predict (P, size = len(df), seed = 42) # <tu código aquí> \n",
    "        \n",
    "    eval_classifier(df['insurance_benefits_received'], y_pred_rnd)\n",
    "    \n",
    "    print()"
   ]
  },
  {
   "cell_type": "code",
   "execution_count": 28,
   "metadata": {},
   "outputs": [],
   "source": [
    "# División 70:30 del conjunto de entrenamiento\n",
    "\n",
    "y = df['insurance_benefits_received']\n",
    "x = df.drop(['insurance_benefits_received', 'insurance_benefits'], axis = 1)\n",
    "\n",
    "x_train, x_test, y_train, y_test = train_test_split( x, y, test_size = 0.3, random_state= 12345)"
   ]
  },
  {
   "cell_type": "code",
   "execution_count": 29,
   "metadata": {},
   "outputs": [],
   "source": [
    "# Modelo para examinar el valor f1 en los datos no escalados\n",
    "\n",
    "model1 = sklearn.neighbors.KNeighborsClassifier()\n",
    "model1.fit(x_train, y_train)\n",
    "predict_test = model1.predict(x_test)"
   ]
  },
  {
   "cell_type": "code",
   "execution_count": 30,
   "metadata": {},
   "outputs": [
    {
     "name": "stdout",
     "output_type": "stream",
     "text": [
      "F1: 0.23\n",
      "Matriz de confusión\n",
      "[[0.87766323 0.00687285]\n",
      " [0.09965636 0.01580756]]\n"
     ]
    }
   ],
   "source": [
    "# Uso de la función 'eval_classifier' previamente creada\n",
    "\n",
    "eval_classifier (y_test, predict_test)"
   ]
  },
  {
   "cell_type": "code",
   "execution_count": 31,
   "metadata": {},
   "outputs": [],
   "source": [
    "# Escalando los datasets\n",
    "scaler = sklearn.preprocessing.MaxAbsScaler()\n",
    "x_train_scaled = scaler.fit_transform(x_train)\n",
    "x_test_scaled = scaler.transform(x_test)"
   ]
  },
  {
   "cell_type": "code",
   "execution_count": 32,
   "metadata": {},
   "outputs": [],
   "source": [
    "# Modelos basados en datos escalados\n",
    "model2 = sklearn.neighbors.KNeighborsClassifier()\n",
    "model2.fit(x_train_scaled, y_train)\n",
    "predict_test_sc = model2.predict(x_test_scaled)"
   ]
  },
  {
   "cell_type": "code",
   "execution_count": 33,
   "metadata": {},
   "outputs": [
    {
     "name": "stdout",
     "output_type": "stream",
     "text": [
      "F1: 0.90\n",
      "Matriz de confusión\n",
      "[[0.87972509 0.004811  ]\n",
      " [0.01786942 0.0975945 ]]\n"
     ]
    }
   ],
   "source": [
    "# Uso de la función eval_classifier \n",
    "eval_classifier (y_test, predict_test_sc)"
   ]
  },
  {
   "cell_type": "markdown",
   "metadata": {},
   "source": [
    "# Tarea 3. Regresión (con regresión lineal)"
   ]
  },
  {
   "cell_type": "markdown",
   "metadata": {},
   "source": [
    "Con `insurance_benefits` como objetivo, evalúa cuál sería la RECM de un modelo de regresión lineal."
   ]
  },
  {
   "cell_type": "markdown",
   "metadata": {},
   "source": [
    "Construye tu propia implementación de regresión lineal. Para ello, recuerda cómo está formulada la solución de la tarea de regresión lineal en términos de LA. Comprueba la RECM tanto para los datos originales como para los escalados. ¿Puedes ver alguna diferencia en la RECM con respecto a estos dos casos?\n",
    "\n",
    "Denotemos- $X$: matriz de características; cada fila es un caso, cada columna es una característica, la primera columna está formada por unidades- $y$ — objetivo (un vector)- $\\hat{y}$ — objetivo estimado (un vector)- $w$ — vector de pesos\n",
    "La tarea de regresión lineal en el lenguaje de las matrices puede formularse así:\n",
    "$$\n",
    "y = Xw\n",
    "$$\n",
    "\n",
    "El objetivo de entrenamiento es entonces encontrar esa $w$ w que minimice la distancia L2 (ECM) entre $Xw$ y $y$:\n",
    "\n",
    "$$\n",
    "\\min_w d_2(Xw, y) \\quad \\text{or} \\quad \\min_w \\text{MSE}(Xw, y)\n",
    "$$\n",
    "\n",
    "Parece que hay una solución analítica para lo anteriormente expuesto:\n",
    "$$\n",
    "w = (X^T X)^{-1} X^T y\n",
    "$$\n",
    "\n",
    "La fórmula anterior puede servir para encontrar los pesos $w$ y estos últimos pueden utilizarse para calcular los valores predichos\n",
    "$$\n",
    "\\hat{y} = X_{val}w\n",
    "$$"
   ]
  },
  {
   "cell_type": "markdown",
   "metadata": {},
   "source": [
    "Divide todos los datos correspondientes a las etapas de entrenamiento/prueba respetando la proporción 70:30. Utiliza la métrica RECM para evaluar el modelo."
   ]
  },
  {
   "cell_type": "code",
   "execution_count": 34,
   "metadata": {},
   "outputs": [],
   "source": [
    "class MyLinearRegression:\n",
    "    \n",
    "    def __init__(self):\n",
    "        \n",
    "        self.weights = None\n",
    "    \n",
    "    def fit(self, X, y):\n",
    "        \n",
    "        # añadir las unidades\n",
    "        X2 = np.append(np.ones([len(X), 1]), X, axis=1)\n",
    "        self.weights = np.linalg.inv(X2.T.dot(X2)).dot(X2.T).dot(y) # <tu código aquí>\n",
    "\n",
    "    def predict(self, X):\n",
    "        \n",
    "        # añadir las unidades\n",
    "        X2 = np.append(np.ones([X.shape[0], 1]), X, axis = 1 ) # <tu código aquí>\n",
    "        y_pred = np.dot(X2, self.weights) # <tu código aquí>\n",
    "        \n",
    "        return y_pred"
   ]
  },
  {
   "cell_type": "code",
   "execution_count": 35,
   "metadata": {},
   "outputs": [],
   "source": [
    "def eval_regressor(y_true, y_pred):\n",
    "    \n",
    "    rmse = math.sqrt(sklearn.metrics.mean_squared_error(y_true, y_pred))\n",
    "    print(f'RMSE: {rmse:.2f}')\n",
    "    \n",
    "    r2_score = math.sqrt(sklearn.metrics.r2_score(y_true, y_pred))\n",
    "    print(f'R2: {r2_score:.2f}')    "
   ]
  },
  {
   "cell_type": "markdown",
   "metadata": {},
   "source": [
    "### Evaluación RMSE para datos no escalados"
   ]
  },
  {
   "cell_type": "code",
   "execution_count": 36,
   "metadata": {},
   "outputs": [
    {
     "name": "stdout",
     "output_type": "stream",
     "text": [
      "[-9.77366679e-01  3.58042290e-02  1.95594897e-02  5.85335011e-07\n",
      " -1.21618426e-02]\n",
      "RMSE: 0.36\n",
      "R2: 0.66\n"
     ]
    }
   ],
   "source": [
    "X = df[['age', 'gender', 'income', 'family_members']].to_numpy()\n",
    "y = df['insurance_benefits'].to_numpy()\n",
    "\n",
    "X_train, X_test, y_train, y_test = train_test_split(X, y, test_size=0.3, random_state=12345)\n",
    "\n",
    "lr = MyLinearRegression()\n",
    "\n",
    "lr.fit(X_train, y_train)\n",
    "print(lr.weights)\n",
    "\n",
    "y_test_pred = lr.predict(X_test)\n",
    "eval_regressor(y_test, y_test_pred)"
   ]
  },
  {
   "cell_type": "markdown",
   "metadata": {},
   "source": [
    "### Evaluación RMSE para datos escalados"
   ]
  },
  {
   "cell_type": "code",
   "execution_count": 37,
   "metadata": {},
   "outputs": [
    {
     "name": "stdout",
     "output_type": "stream",
     "text": [
      "[-0.97736668  2.32727489  0.01955949  0.04624147 -0.07297106]\n",
      "RMSE: 0.36\n",
      "R2: 0.66\n"
     ]
    }
   ],
   "source": [
    "X = df_scaled[['age', 'gender', 'income', 'family_members']].to_numpy()\n",
    "y = df_scaled['insurance_benefits'].to_numpy()\n",
    "\n",
    "X_train, X_test, y_train, y_test = train_test_split(X, y, test_size=0.3, random_state=12345)\n",
    "\n",
    "lr = MyLinearRegression()\n",
    "\n",
    "lr.fit(X_train, y_train)\n",
    "print(lr.weights)\n",
    "\n",
    "y_test_pred = lr.predict(X_test)\n",
    "eval_regressor(y_test, y_test_pred)"
   ]
  },
  {
   "cell_type": "markdown",
   "metadata": {},
   "source": [
    "###### Conclusión:\n",
    "\n",
    "Los valores del RMSE y R2 son relativamente similares entre los datos escalados y no escalados.\n",
    "\n",
    "El valor relativamente bajo del RMSE en los datos escalados y no escalados, indican que el modelo funciona bien.\n",
    "\n",
    "El valor R2 de 0.66 indcia un nivel de error relativamente bajo."
   ]
  },
  {
   "cell_type": "markdown",
   "metadata": {},
   "source": [
    "# Tarea 4. Ofuscar datos"
   ]
  },
  {
   "cell_type": "markdown",
   "metadata": {},
   "source": [
    "Lo mejor es ofuscar los datos multiplicando las características numéricas (recuerda que se pueden ver como la matriz $X$) por una matriz invertible $P$. \n",
    "\n",
    "$$\n",
    "X' = X \\times P\n",
    "$$\n",
    "\n",
    "Trata de hacerlo y comprueba cómo quedarán los valores de las características después de la transformación. Por cierto, la propiedad de invertibilidad es importante aquí, así que asegúrate de que $P$ sea realmente invertible.\n",
    "\n",
    "Puedes revisar la lección 'Matrices y operaciones matriciales -> Multiplicación de matrices' para recordar la regla de multiplicación de matrices y su implementación con NumPy."
   ]
  },
  {
   "cell_type": "code",
   "execution_count": 38,
   "metadata": {},
   "outputs": [],
   "source": [
    "personal_info_column_list = ['gender', 'age', 'income', 'family_members']\n",
    "df_pn = df[personal_info_column_list]"
   ]
  },
  {
   "cell_type": "code",
   "execution_count": 39,
   "metadata": {},
   "outputs": [],
   "source": [
    "X = df_pn.to_numpy()"
   ]
  },
  {
   "cell_type": "markdown",
   "metadata": {},
   "source": [
    "Generar una matriz aleatoria $P$."
   ]
  },
  {
   "cell_type": "code",
   "execution_count": 40,
   "metadata": {},
   "outputs": [
    {
     "data": {
      "text/plain": [
       "array([[0.77395605, 0.43887844, 0.85859792, 0.69736803],\n",
       "       [0.09417735, 0.97562235, 0.7611397 , 0.78606431],\n",
       "       [0.12811363, 0.45038594, 0.37079802, 0.92676499],\n",
       "       [0.64386512, 0.82276161, 0.4434142 , 0.22723872]])"
      ]
     },
     "execution_count": 40,
     "metadata": {},
     "output_type": "execute_result"
    }
   ],
   "source": [
    "rng = np.random.default_rng(seed=42)\n",
    "P = rng.random(size=(X.shape[1], X.shape[1]))\n",
    "\n",
    "P"
   ]
  },
  {
   "cell_type": "markdown",
   "metadata": {},
   "source": [
    "Comprobar que la matriz P sea invertible"
   ]
  },
  {
   "cell_type": "code",
   "execution_count": 41,
   "metadata": {},
   "outputs": [
    {
     "data": {
      "text/plain": [
       "array([[ 0.41467992, -1.43783972,  0.62798546,  1.14001268],\n",
       "       [-1.06101789,  0.44219337,  0.1329549 ,  1.18425933],\n",
       "       [ 1.42362442,  1.60461607, -2.0553823 , -1.53699695],\n",
       "       [-0.11128575, -0.65813802,  1.74995517, -0.11816316]])"
      ]
     },
     "execution_count": 41,
     "metadata": {},
     "output_type": "execute_result"
    }
   ],
   "source": [
    "P_inv = np.linalg.inv(P)\n",
    "P_inv"
   ]
  },
  {
   "cell_type": "code",
   "execution_count": 42,
   "metadata": {},
   "outputs": [
    {
     "data": {
      "text/plain": [
       "True"
      ]
     },
     "execution_count": 42,
     "metadata": {},
     "output_type": "execute_result"
    }
   ],
   "source": [
    "np.allclose(np.dot(P, np.linalg.inv(P)), np.dot(np.linalg.inv(P), P))"
   ]
  },
  {
   "cell_type": "markdown",
   "metadata": {},
   "source": [
    "La matriz es inversible"
   ]
  },
  {
   "cell_type": "markdown",
   "metadata": {},
   "source": [
    "¿Puedes adivinar la edad o los ingresos de los clientes después de la transformación?"
   ]
  },
  {
   "cell_type": "code",
   "execution_count": 43,
   "metadata": {},
   "outputs": [
    {
     "data": {
      "text/plain": [
       "array([[    1,    41, 49600,     1],\n",
       "       [    0,    46, 38000,     1],\n",
       "       [    0,    29, 21000,     0],\n",
       "       ...,\n",
       "       [    0,    20, 33900,     2],\n",
       "       [    1,    22, 32700,     3],\n",
       "       [    1,    28, 40600,     1]])"
      ]
     },
     "execution_count": 43,
     "metadata": {},
     "output_type": "execute_result"
    }
   ],
   "source": [
    "X"
   ]
  },
  {
   "cell_type": "code",
   "execution_count": 44,
   "metadata": {},
   "outputs": [
    {
     "data": {
      "text/plain": [
       "array([[ 6359.71527314, 22380.40467609, 18424.09074184, 46000.69669016],\n",
       "       [ 4873.29406479, 17160.36702982, 14125.78076133, 35253.45577301],\n",
       "       [ 2693.11742928,  9486.397744  ,  7808.83156024, 19484.86063067],\n",
       "       ...,\n",
       "       [ 4346.2234249 , 15289.24126492, 12586.16264392, 31433.50888552],\n",
       "       [ 4194.09324155, 14751.9910242 , 12144.02930637, 30323.88763426],\n",
       "       [ 5205.46827354, 18314.24814446, 15077.01370762, 37649.59295455]])"
      ]
     },
     "execution_count": 44,
     "metadata": {},
     "output_type": "execute_result"
    }
   ],
   "source": [
    "X_trans = X.dot(P)\n",
    "X_trans"
   ]
  },
  {
   "cell_type": "markdown",
   "metadata": {},
   "source": [
    "Los datos transformados no permite poder adivinar los datos originales"
   ]
  },
  {
   "cell_type": "markdown",
   "metadata": {},
   "source": [
    "¿Puedes recuperar los datos originales de $X'$ si conoces $P$? Intenta comprobarlo a través de los cálculos moviendo $P$ del lado derecho de la fórmula anterior al izquierdo. En este caso las reglas de la multiplicación matricial son realmente útiles"
   ]
  },
  {
   "cell_type": "code",
   "execution_count": 45,
   "metadata": {},
   "outputs": [
    {
     "data": {
      "text/plain": [
       "array([[ 1.00000000e+00,  4.10000000e+01,  4.96000000e+04,\n",
       "         1.00000000e+00],\n",
       "       [-4.47363596e-12,  4.60000000e+01,  3.80000000e+04,\n",
       "         1.00000000e+00],\n",
       "       [-2.51586878e-12,  2.90000000e+01,  2.10000000e+04,\n",
       "         9.52452315e-13],\n",
       "       ...,\n",
       "       [-1.92837871e-12,  2.00000000e+01,  3.39000000e+04,\n",
       "         2.00000000e+00],\n",
       "       [ 1.00000000e+00,  2.20000000e+01,  3.27000000e+04,\n",
       "         3.00000000e+00],\n",
       "       [ 1.00000000e+00,  2.80000000e+01,  4.06000000e+04,\n",
       "         1.00000000e+00]])"
      ]
     },
     "execution_count": 45,
     "metadata": {},
     "output_type": "execute_result"
    }
   ],
   "source": [
    "# Recuperación de datos\n",
    "\n",
    "X_rec = X_trans.dot(P_inv)\n",
    "X_rec"
   ]
  },
  {
   "cell_type": "markdown",
   "metadata": {},
   "source": [
    "Los datos originales pueden ser restaurados usando el valor inverso de la matriz P"
   ]
  },
  {
   "cell_type": "markdown",
   "metadata": {},
   "source": [
    "Muestra los tres casos para algunos clientes\n",
    "- Datos originales\n",
    "- El que está transformado\n",
    "- El que está invertido (recuperado)"
   ]
  },
  {
   "cell_type": "code",
   "execution_count": 46,
   "metadata": {},
   "outputs": [
    {
     "data": {
      "text/html": [
       "<div>\n",
       "<style scoped>\n",
       "    .dataframe tbody tr th:only-of-type {\n",
       "        vertical-align: middle;\n",
       "    }\n",
       "\n",
       "    .dataframe tbody tr th {\n",
       "        vertical-align: top;\n",
       "    }\n",
       "\n",
       "    .dataframe thead th {\n",
       "        text-align: right;\n",
       "    }\n",
       "</style>\n",
       "<table border=\"1\" class=\"dataframe\">\n",
       "  <thead>\n",
       "    <tr style=\"text-align: right;\">\n",
       "      <th></th>\n",
       "      <th>gender</th>\n",
       "      <th>age</th>\n",
       "      <th>income</th>\n",
       "      <th>family_members</th>\n",
       "    </tr>\n",
       "  </thead>\n",
       "  <tbody>\n",
       "    <tr>\n",
       "      <th>0</th>\n",
       "      <td>1</td>\n",
       "      <td>41</td>\n",
       "      <td>49600</td>\n",
       "      <td>1</td>\n",
       "    </tr>\n",
       "    <tr>\n",
       "      <th>1</th>\n",
       "      <td>0</td>\n",
       "      <td>46</td>\n",
       "      <td>38000</td>\n",
       "      <td>1</td>\n",
       "    </tr>\n",
       "    <tr>\n",
       "      <th>2</th>\n",
       "      <td>0</td>\n",
       "      <td>29</td>\n",
       "      <td>21000</td>\n",
       "      <td>0</td>\n",
       "    </tr>\n",
       "    <tr>\n",
       "      <th>3</th>\n",
       "      <td>0</td>\n",
       "      <td>21</td>\n",
       "      <td>41700</td>\n",
       "      <td>2</td>\n",
       "    </tr>\n",
       "    <tr>\n",
       "      <th>4</th>\n",
       "      <td>1</td>\n",
       "      <td>28</td>\n",
       "      <td>26100</td>\n",
       "      <td>0</td>\n",
       "    </tr>\n",
       "  </tbody>\n",
       "</table>\n",
       "</div>"
      ],
      "text/plain": [
       "   gender  age  income  family_members\n",
       "0       1   41   49600               1\n",
       "1       0   46   38000               1\n",
       "2       0   29   21000               0\n",
       "3       0   21   41700               2\n",
       "4       1   28   26100               0"
      ]
     },
     "execution_count": 46,
     "metadata": {},
     "output_type": "execute_result"
    }
   ],
   "source": [
    "#Datos originales\n",
    "\n",
    "pd.DataFrame (X, columns = personal_info_column_list).head()"
   ]
  },
  {
   "cell_type": "code",
   "execution_count": 47,
   "metadata": {},
   "outputs": [
    {
     "data": {
      "text/html": [
       "<div>\n",
       "<style scoped>\n",
       "    .dataframe tbody tr th:only-of-type {\n",
       "        vertical-align: middle;\n",
       "    }\n",
       "\n",
       "    .dataframe tbody tr th {\n",
       "        vertical-align: top;\n",
       "    }\n",
       "\n",
       "    .dataframe thead th {\n",
       "        text-align: right;\n",
       "    }\n",
       "</style>\n",
       "<table border=\"1\" class=\"dataframe\">\n",
       "  <thead>\n",
       "    <tr style=\"text-align: right;\">\n",
       "      <th></th>\n",
       "      <th>gender</th>\n",
       "      <th>age</th>\n",
       "      <th>income</th>\n",
       "      <th>family_members</th>\n",
       "    </tr>\n",
       "  </thead>\n",
       "  <tbody>\n",
       "    <tr>\n",
       "      <th>0</th>\n",
       "      <td>6359.715273</td>\n",
       "      <td>22380.404676</td>\n",
       "      <td>18424.090742</td>\n",
       "      <td>46000.696690</td>\n",
       "    </tr>\n",
       "    <tr>\n",
       "      <th>1</th>\n",
       "      <td>4873.294065</td>\n",
       "      <td>17160.367030</td>\n",
       "      <td>14125.780761</td>\n",
       "      <td>35253.455773</td>\n",
       "    </tr>\n",
       "    <tr>\n",
       "      <th>2</th>\n",
       "      <td>2693.117429</td>\n",
       "      <td>9486.397744</td>\n",
       "      <td>7808.831560</td>\n",
       "      <td>19484.860631</td>\n",
       "    </tr>\n",
       "    <tr>\n",
       "      <th>3</th>\n",
       "      <td>5345.603937</td>\n",
       "      <td>18803.227203</td>\n",
       "      <td>15479.148373</td>\n",
       "      <td>38663.061863</td>\n",
       "    </tr>\n",
       "    <tr>\n",
       "      <th>4</th>\n",
       "      <td>3347.176735</td>\n",
       "      <td>11782.829283</td>\n",
       "      <td>9699.998942</td>\n",
       "      <td>24211.273378</td>\n",
       "    </tr>\n",
       "  </tbody>\n",
       "</table>\n",
       "</div>"
      ],
      "text/plain": [
       "        gender           age        income  family_members\n",
       "0  6359.715273  22380.404676  18424.090742    46000.696690\n",
       "1  4873.294065  17160.367030  14125.780761    35253.455773\n",
       "2  2693.117429   9486.397744   7808.831560    19484.860631\n",
       "3  5345.603937  18803.227203  15479.148373    38663.061863\n",
       "4  3347.176735  11782.829283   9699.998942    24211.273378"
      ]
     },
     "execution_count": 47,
     "metadata": {},
     "output_type": "execute_result"
    }
   ],
   "source": [
    "# Datos después de la transformación\n",
    "\n",
    "pd.DataFrame (X_trans, columns = personal_info_column_list).head()"
   ]
  },
  {
   "cell_type": "code",
   "execution_count": 48,
   "metadata": {},
   "outputs": [
    {
     "data": {
      "text/html": [
       "<div>\n",
       "<style scoped>\n",
       "    .dataframe tbody tr th:only-of-type {\n",
       "        vertical-align: middle;\n",
       "    }\n",
       "\n",
       "    .dataframe tbody tr th {\n",
       "        vertical-align: top;\n",
       "    }\n",
       "\n",
       "    .dataframe thead th {\n",
       "        text-align: right;\n",
       "    }\n",
       "</style>\n",
       "<table border=\"1\" class=\"dataframe\">\n",
       "  <thead>\n",
       "    <tr style=\"text-align: right;\">\n",
       "      <th></th>\n",
       "      <th>gender</th>\n",
       "      <th>age</th>\n",
       "      <th>income</th>\n",
       "      <th>family_members</th>\n",
       "    </tr>\n",
       "  </thead>\n",
       "  <tbody>\n",
       "    <tr>\n",
       "      <th>0</th>\n",
       "      <td>1.000000e+00</td>\n",
       "      <td>41.0</td>\n",
       "      <td>49600.0</td>\n",
       "      <td>1.000000e+00</td>\n",
       "    </tr>\n",
       "    <tr>\n",
       "      <th>1</th>\n",
       "      <td>-4.473636e-12</td>\n",
       "      <td>46.0</td>\n",
       "      <td>38000.0</td>\n",
       "      <td>1.000000e+00</td>\n",
       "    </tr>\n",
       "    <tr>\n",
       "      <th>2</th>\n",
       "      <td>-2.515869e-12</td>\n",
       "      <td>29.0</td>\n",
       "      <td>21000.0</td>\n",
       "      <td>9.524523e-13</td>\n",
       "    </tr>\n",
       "    <tr>\n",
       "      <th>3</th>\n",
       "      <td>-4.844982e-12</td>\n",
       "      <td>21.0</td>\n",
       "      <td>41700.0</td>\n",
       "      <td>2.000000e+00</td>\n",
       "    </tr>\n",
       "    <tr>\n",
       "      <th>4</th>\n",
       "      <td>1.000000e+00</td>\n",
       "      <td>28.0</td>\n",
       "      <td>26100.0</td>\n",
       "      <td>-1.019907e-13</td>\n",
       "    </tr>\n",
       "  </tbody>\n",
       "</table>\n",
       "</div>"
      ],
      "text/plain": [
       "         gender   age   income  family_members\n",
       "0  1.000000e+00  41.0  49600.0    1.000000e+00\n",
       "1 -4.473636e-12  46.0  38000.0    1.000000e+00\n",
       "2 -2.515869e-12  29.0  21000.0    9.524523e-13\n",
       "3 -4.844982e-12  21.0  41700.0    2.000000e+00\n",
       "4  1.000000e+00  28.0  26100.0   -1.019907e-13"
      ]
     },
     "execution_count": 48,
     "metadata": {},
     "output_type": "execute_result"
    }
   ],
   "source": [
    "# Datos restaurados al estado original\n",
    "\n",
    "pd.DataFrame (X_rec, columns = personal_info_column_list).head()"
   ]
  },
  {
   "cell_type": "markdown",
   "metadata": {},
   "source": [
    "Seguramente puedes ver que algunos valores no son exactamente iguales a los de los datos originales. ¿Cuál podría ser la razón de ello?"
   ]
  },
  {
   "cell_type": "markdown",
   "metadata": {},
   "source": [
    "Los datos recuperados en las columnas 'gender' y 'family_members' producen valores ligeramente diferentets a los datos originales.\n",
    "\n",
    "Al haber calculos que involucran números con escalas bien amplias y distintas, como valores muy grandes y valores pequeños, puede haber una pequeña perdida en la precisión por la diferencia de escalas, conocido como error punto flotante."
   ]
  },
  {
   "cell_type": "markdown",
   "metadata": {},
   "source": [
    "## Prueba de que la ofuscación de datos puede funcionar con regresión lineal"
   ]
  },
  {
   "cell_type": "markdown",
   "metadata": {},
   "source": [
    "En este proyecto la tarea de regresión se ha resuelto con la regresión lineal. Tu siguiente tarea es demostrar _analytically_ que el método de ofuscación no afectará a la regresión lineal en términos de valores predichos, es decir, que sus valores seguirán siendo los mismos. ¿Lo puedes creer? Pues no hace falta que lo creas, ¡tienes que que demostrarlo!"
   ]
  },
  {
   "cell_type": "markdown",
   "metadata": {},
   "source": [
    "Entonces, los datos están ofuscados y ahora tenemos $X \\times P$ en lugar de tener solo $X$. En consecuencia, hay otros pesos $w_P$ como\n",
    "$$\n",
    "w = (X^T X)^{-1} X^T y \\quad \\Rightarrow \\quad w_P = [(XP)^T XP]^{-1} (XP)^T y\n",
    "$$\n",
    "\n",
    "¿Cómo se relacionarían $w$ y $w_P$ si simplificáramos la fórmula de $w_P$ anterior? \n",
    "\n",
    "¿Cuáles serían los valores predichos con $w_P$? \n",
    "\n",
    "¿Qué significa esto para la calidad de la regresión lineal si esta se mide mediante la RECM?\n",
    "Revisa el Apéndice B Propiedades de las matrices al final del cuaderno. ¡Allí encontrarás fórmulas muy útiles!\n",
    "\n",
    "No es necesario escribir código en esta sección, basta con una explicación analítica."
   ]
  },
  {
   "cell_type": "markdown",
   "metadata": {},
   "source": [
    "**Respuesta**"
   ]
  },
  {
   "cell_type": "markdown",
   "metadata": {},
   "source": [
    "La ofuscación de datos impacta las predicciones de regresión lineal\n",
    "\n",
    "La fórmula de calculo de pesos (w):\n",
    "\n",
    "$$w = (X^T X)^{-1} X^T y$$\n",
    "\n",
    "Después de la ofuscación, se tiene $X x P$ en vez de $X$ y los nuevos pesos se calcularían como:\n",
    "\n",
    "$$w_P = [(XP)^T XP]^{-1} (XP)^T y$$\n",
    "\n",
    "Se tratará demostrar que el $w_P$ no alterará los valores predichos comparados a el $w$ original obtenido de data no ofuscada"
   ]
  },
  {
   "cell_type": "markdown",
   "metadata": {},
   "source": [
    "**Parte 1:**\n",
    "\n",
    "Expresando $w$ en términos de $w_P$ y $P$:\n",
    "\n",
    "Primero se cambiará $w_P$:\n",
    "\n",
    "$$w_P = [(XP)^T XP]^{-1} (XP)^T y$$\n",
    "\n",
    "Expandir productos de matriz:\n",
    "\n",
    "$$w_P = (P^T X^T X P)^{-1} P^T X^T y$$\n",
    "\n",
    "Como $P$ es una matriz invertida, la ecuación sería:\n",
    "\n",
    "$$w_P = P^{-1} (X^T X)^{-1} P^{-1} P^T X^T y$$\n",
    "\n",
    "Identificar la matriz, teniendo en cuenta que $P^{-1} P = I$:\n",
    "\n",
    "$$w_P = P^{-1} (X^T X)^{-1} X^T y$$\n",
    "\n",
    "Como $w = (X^T X)^{-1} X^T y$ tenemos:\n",
    "\n",
    "$$w_P = P^{-1} w$$"
   ]
  },
  {
   "cell_type": "markdown",
   "metadata": {},
   "source": [
    "**Parte 2:**\n",
    "\n",
    "Implicaciones de $w_P = P^{-1} w$:\n",
    "\n",
    "La ecuación $w_P = P^{-1} w$ demuestra que los pesos obtenidos de la data ofuscada ($w_P$) tienen relación directa con los pesos de la data original ($w$) en la inversión de la matriz ofuscada $P$. Significa que la multiplicación de los pesos originales por la matriz ofuscada inversa($P^{-1}$) va a darnos los pesos obtenidos de la data ofuscada ($w_P$).\n",
    "\n",
    "**Parte 3:**\n",
    "\n",
    "Predicciones usando $w_P$\n",
    "\n",
    "Ahora veremos la predicción que usa $w_P$ esta relacionada con la predicción original que usaba $w$:\n",
    "\n",
    "Predicción $w$ original:\n",
    "\n",
    "$$\\hat{y} = Xw$$\n",
    "\n",
    "Predicción usando $w_P$:\n",
    "\n",
    "$$\\hat{y}_P = XPw_P$$\n",
    "\n",
    "Se sustituye $w_P = P^{-1} w$:\n",
    "\n",
    "$$\\hat{y}_P = XP (P^{-1} w)$$\n",
    "\n",
    "Podemos simplificar $XP(P^{-1})$ a $X$:\n",
    "\n",
    "$$\\hat{y}_P = Xw = \\hat{y}$$"
   ]
  },
  {
   "cell_type": "markdown",
   "metadata": {},
   "source": [
    "**Conclusión**:\n",
    "\n",
    "Se encontró que las predicciones realizadas con el peso original $w$ y los pesos de la data ofuscada $w_P$ son las mismas. Por lo tanto la ofuscación de datos no afecta los valores predichos por la regresión lineal."
   ]
  },
  {
   "cell_type": "markdown",
   "metadata": {},
   "source": [
    "## Prueba de regresión lineal con ofuscación de datos"
   ]
  },
  {
   "cell_type": "markdown",
   "metadata": {},
   "source": [
    "Ahora, probemos que la regresión lineal pueda funcionar, en términos computacionales, con la transformación de ofuscación elegida.\n",
    "Construye un procedimiento o una clase que ejecute la regresión lineal opcionalmente con la ofuscación. Puedes usar una implementación de regresión lineal de scikit-learn o tu propia implementación.\n",
    "Ejecuta la regresión lineal para los datos originales y los ofuscados, compara los valores predichos y los valores de las métricas RMSE y $R^2$. ¿Hay alguna diferencia?"
   ]
  },
  {
   "cell_type": "markdown",
   "metadata": {},
   "source": [
    "**Procedimiento**\n",
    "\n",
    "- Crea una matriz cuadrada $P$ de números aleatorios.- Comprueba que sea invertible. Si no lo es, repite el primer paso hasta obtener una matriz invertible.- <¡ tu comentario aquí !>\n",
    "- Utiliza $XP$ como la nueva matriz de características"
   ]
  },
  {
   "cell_type": "code",
   "execution_count": 49,
   "metadata": {},
   "outputs": [],
   "source": [
    "# Creación de matriz cuadrada\n",
    "\n",
    "rng = np.random.default_rng(seed = 12345)\n",
    "P2 = rng.random(size = (X.shape [1], X.shape[1]))"
   ]
  },
  {
   "cell_type": "code",
   "execution_count": 50,
   "metadata": {},
   "outputs": [
    {
     "data": {
      "text/plain": [
       "True"
      ]
     },
     "execution_count": 50,
     "metadata": {},
     "output_type": "execute_result"
    }
   ],
   "source": [
    "# Revisar si la  matriz es inversible\n",
    "\n",
    "np.allclose(np.dot(P2, np.linalg.inv(P2)), np.dot(np.linalg.inv(P2), P2))"
   ]
  },
  {
   "cell_type": "markdown",
   "metadata": {},
   "source": [
    "###### Creación de modelo de regresión lineal"
   ]
  },
  {
   "cell_type": "code",
   "execution_count": 51,
   "metadata": {},
   "outputs": [
    {
     "name": "stdout",
     "output_type": "stream",
     "text": [
      "[-0.97736668  2.32727489  0.01955949  0.04624147 -0.07297106]\n",
      "RMSE: 0.36\n",
      "R2: 0.66\n"
     ]
    }
   ],
   "source": [
    "# Uso de datos iniciales escalados, pero no ofuscados (no P2)\n",
    "\n",
    "X = df_scaled[['age', 'gender', 'income', 'family_members']].to_numpy()\n",
    "y = df_scaled['insurance_benefits'].to_numpy()\n",
    "\n",
    "X_train, X_test, y_train, y_test = train_test_split(X, y, test_size = 0.3, random_state = 12345)\n",
    "\n",
    "lr = MyLinearRegression()\n",
    "\n",
    "lr.fit(X_train, y_train)\n",
    "print(lr.weights)\n",
    "\n",
    "y_test_pred = lr.predict (X_test)\n",
    "eval_regressor(y_test, y_test_pred)"
   ]
  },
  {
   "cell_type": "code",
   "execution_count": 52,
   "metadata": {},
   "outputs": [
    {
     "name": "stdout",
     "output_type": "stream",
     "text": [
      "[-0.97736683 -0.05106697  0.02701986  0.05239091 -0.00431772]\n",
      "RMSE: 0.36\n",
      "R2: 0.66\n"
     ]
    }
   ],
   "source": [
    "# Uso no escalado, pero ofuscado (con P2)\n",
    "\n",
    "X = df[['age', 'gender', 'income', 'family_members']].to_numpy()\n",
    "y = df['insurance_benefits'].to_numpy()\n",
    "\n",
    "X_train_P, X_test_P, y_train_P, y_test_P = train_test_split(np.dot(X, P2), y, test_size = 0.3, random_state = 12345)\n",
    "\n",
    "lr = MyLinearRegression()\n",
    "\n",
    "lr.fit(X_train_P, y_train_P)\n",
    "print(lr.weights)\n",
    "\n",
    "y_test_pred_P = lr.predict (X_test_P)\n",
    "eval_regressor(y_test_P, y_test_pred_P)"
   ]
  },
  {
   "cell_type": "markdown",
   "metadata": {},
   "source": [
    "Los valores de precisión en ambos modelos es igual."
   ]
  },
  {
   "cell_type": "markdown",
   "metadata": {},
   "source": [
    "# Conclusiones"
   ]
  },
  {
   "cell_type": "markdown",
   "metadata": {},
   "source": [
    "En el proyecto se usó la álgebra linear en el análisis, dando los resultados:\n",
    "\n",
    "- Utilizando el algoritmo ´kNearestNeighbor' (kNN) para identificar los clientes similares al cliente objetivo, aplicando las distancias métricas Euclidianas y Manhattan.\n",
    "\n",
    "- El como los datos escalados en el algoritmo kNN, llevó a tener diferentes resultados al de los datos no escalados.\n",
    "\n",
    "- Se verificó el desempeño del algoritmo ante datasets de entrenamiento y prueba, encontrando que los datos escalados tenían una mayor precisión comparada a los datos no escalados.\n",
    "\n",
    "- Usando el modelo 'Linear Regression', no se encontró una diferencia significativa entre los valores de precisión de datos escalados y no escalados.\n",
    "\n",
    "- Usando el álgebra linear se aplicó la ofuscación de datos. Aunque los datos ofuscados volvian irreconocible a los datos originales, se podían reestablecer con pequeñas diferencias con el valor de la métrica P inversa.\n",
    "\n",
    "- Se comprobó analiticamente que los datos ofuscados seguían siendo viables para análisis con el algoritmo de Regresión Linear al demostrar la equivalencia entre los datos originales y los datos ofuscados.\n",
    "\n",
    "- Los valores de precisión iguales de RMSE y $R^2$ demostraron que el algoritmo de Regresión Linear funciona efectivamente en los datos ofuscados."
   ]
  },
  {
   "cell_type": "markdown",
   "metadata": {},
   "source": [
    "# Lista de control"
   ]
  },
  {
   "cell_type": "markdown",
   "metadata": {},
   "source": [
    "Escribe 'x' para verificar. Luego presiona Shift+Enter."
   ]
  },
  {
   "cell_type": "markdown",
   "metadata": {},
   "source": [
    "- [x]  Jupyter Notebook está abierto\n",
    "- [ ]  El código no tiene errores- [ ]  Las celdas están ordenadas de acuerdo con la lógica y el orden de ejecución\n",
    "- [ ]  Se ha realizado la tarea 1\n",
    "    - [ ]  Está presente el procedimiento que puede devolver k clientes similares para un cliente determinado\n",
    "    - [ ]  Se probó el procedimiento para las cuatro combinaciones propuestas    \n",
    "    - [ ]  Se respondieron las preguntas sobre la escala/distancia\n",
    "- [ ]  Se ha realizado la tarea 2\n",
    "    - [ ]  Se construyó y probó el modelo de clasificación aleatoria para todos los niveles de probabilidad    \n",
    "    - [ ]  Se construyó y probó el modelo de clasificación kNN tanto para los datos originales como para los escalados. Se calculó la métrica F1.\n",
    "- [ ]  Se ha realizado la tarea 3\n",
    "    - [ ]  Se implementó la solución de regresión lineal mediante operaciones matriciales    \n",
    "    - [ ]  Se calculó la RECM para la solución implementada\n",
    "- [ ]  Se ha realizado la tarea 4\n",
    "    - [ ]  Se ofuscaron los datos mediante una matriz aleatoria e invertible P    \n",
    "    - [ ]  Se recuperaron los datos ofuscados y se han mostrado algunos ejemplos    \n",
    "    - [ ]  Se proporcionó la prueba analítica de que la transformación no afecta a la RECM    \n",
    "    - [ ]  Se proporcionó la prueba computacional de que la transformación no afecta a la RECM\n",
    "    - [ ]  Se han sacado conclusiones"
   ]
  },
  {
   "cell_type": "markdown",
   "metadata": {},
   "source": [
    "# Apéndices\n",
    "\n",
    "## Apéndice A: Escribir fórmulas en los cuadernos de Jupyter"
   ]
  },
  {
   "cell_type": "markdown",
   "metadata": {},
   "source": [
    "Puedes escribir fórmulas en tu Jupyter Notebook utilizando un lenguaje de marcado proporcionado por un sistema de publicación de alta calidad llamado $\\LaTeX$ (se pronuncia como \"Lah-tech\"). Las fórmulas se verán como las de los libros de texto.\n",
    "\n",
    "Para incorporar una fórmula a un texto, pon el signo de dólar (\\\\$) antes y después del texto de la fórmula, por ejemplo: $\\frac{1}{2} \\times \\frac{3}{2} = \\frac{3}{4}$ or $y = x^2, x \\ge 1$.\n",
    "\n",
    "Si una fórmula debe estar en el mismo párrafo, pon el doble signo de dólar (\\\\$\\\\$) antes y después del texto de la fórmula, por ejemplo:\n",
    "$$\n",
    "\\bar{x} = \\frac{1}{n}\\sum_{i=1}^{n} x_i.\n",
    "$$\n",
    "\n",
    "El lenguaje de marcado de [LaTeX](https://es.wikipedia.org/wiki/LaTeX) es muy popular entre las personas que utilizan fórmulas en sus artículos, libros y textos. Puede resultar complicado, pero sus fundamentos son sencillos. Consulta esta [ficha de ayuda](http://tug.ctan.org/info/undergradmath/undergradmath.pdf) (materiales en inglés) de dos páginas para aprender a componer las fórmulas más comunes."
   ]
  },
  {
   "cell_type": "markdown",
   "metadata": {},
   "source": [
    "## Apéndice B: Propiedades de las matrices"
   ]
  },
  {
   "cell_type": "markdown",
   "metadata": {},
   "source": [
    "Las matrices tienen muchas propiedades en cuanto al álgebra lineal. Aquí se enumeran algunas de ellas que pueden ayudarte a la hora de realizar la prueba analítica de este proyecto."
   ]
  },
  {
   "cell_type": "markdown",
   "metadata": {},
   "source": [
    "<table>\n",
    "<tr>\n",
    "<td>Distributividad</td><td>$A(B+C)=AB+AC$</td>\n",
    "</tr>\n",
    "<tr>\n",
    "<td>No conmutatividad</td><td>$AB \\neq BA$</td>\n",
    "</tr>\n",
    "<tr>\n",
    "<td>Propiedad asociativa de la multiplicación</td><td>$(AB)C = A(BC)$</td>\n",
    "</tr>\n",
    "<tr>\n",
    "<td>Propiedad de identidad multiplicativa</td><td>$IA = AI = A$</td>\n",
    "</tr>\n",
    "<tr>\n",
    "<td></td><td>$A^{-1}A = AA^{-1} = I$\n",
    "</td>\n",
    "</tr>    \n",
    "<tr>\n",
    "<td></td><td>$(AB)^{-1} = B^{-1}A^{-1}$</td>\n",
    "</tr>    \n",
    "<tr>\n",
    "<td>Reversibilidad de la transposición de un producto de matrices,</td><td>$(AB)^T = B^TA^T$</td>\n",
    "</tr>    \n",
    "</table>"
   ]
  }
 ],
 "metadata": {
  "ExecuteTimeLog": [
   {
    "duration": 13,
    "start_time": "2024-05-18T12:49:44.462Z"
   },
   {
    "duration": 6,
    "start_time": "2024-05-18T12:51:31.851Z"
   },
   {
    "duration": 4295,
    "start_time": "2024-05-18T12:51:56.317Z"
   },
   {
    "duration": 5475,
    "start_time": "2024-05-18T12:52:00.616Z"
   },
   {
    "duration": 18,
    "start_time": "2024-05-18T12:52:06.096Z"
   },
   {
    "duration": 14,
    "start_time": "2024-05-18T12:52:06.117Z"
   },
   {
    "duration": 18,
    "start_time": "2024-05-18T12:52:06.136Z"
   },
   {
    "duration": 16,
    "start_time": "2024-05-18T12:52:06.159Z"
   },
   {
    "duration": 9,
    "start_time": "2024-05-18T12:52:06.179Z"
   },
   {
    "duration": 15,
    "start_time": "2024-05-18T12:52:06.231Z"
   },
   {
    "duration": 31,
    "start_time": "2024-05-18T12:52:06.249Z"
   },
   {
    "duration": 8,
    "start_time": "2024-05-18T12:52:06.283Z"
   },
   {
    "duration": 7,
    "start_time": "2024-05-18T12:52:06.330Z"
   },
   {
    "duration": 7,
    "start_time": "2024-05-18T12:52:06.340Z"
   },
   {
    "duration": 6,
    "start_time": "2024-05-18T12:52:06.350Z"
   },
   {
    "duration": 5052,
    "start_time": "2024-05-18T12:52:06.363Z"
   },
   {
    "duration": 4,
    "start_time": "2024-05-18T12:52:11.418Z"
   },
   {
    "duration": 8,
    "start_time": "2024-05-18T12:52:11.425Z"
   },
   {
    "duration": 13,
    "start_time": "2024-05-18T12:52:11.436Z"
   },
   {
    "duration": 14,
    "start_time": "2024-05-18T12:52:11.452Z"
   },
   {
    "duration": 70,
    "start_time": "2024-05-18T12:52:11.470Z"
   },
   {
    "duration": 97,
    "start_time": "2024-05-18T12:52:11.543Z"
   },
   {
    "duration": 91,
    "start_time": "2024-05-18T12:52:11.643Z"
   },
   {
    "duration": 29,
    "start_time": "2024-05-18T12:52:11.737Z"
   },
   {
    "duration": 9,
    "start_time": "2024-05-18T12:52:11.770Z"
   },
   {
    "duration": 206,
    "start_time": "2024-05-18T12:52:11.783Z"
   },
   {
    "duration": 7,
    "start_time": "2024-05-18T12:52:11.992Z"
   },
   {
    "duration": 5,
    "start_time": "2024-05-18T12:52:12.003Z"
   },
   {
    "duration": 62,
    "start_time": "2024-05-18T12:52:12.011Z"
   },
   {
    "duration": 9,
    "start_time": "2024-05-18T12:52:12.076Z"
   },
   {
    "duration": 109,
    "start_time": "2024-05-18T12:52:12.089Z"
   },
   {
    "duration": 31,
    "start_time": "2024-05-18T12:52:12.201Z"
   },
   {
    "duration": 14,
    "start_time": "2024-05-18T12:52:12.236Z"
   },
   {
    "duration": 111,
    "start_time": "2024-05-18T12:52:12.253Z"
   },
   {
    "duration": 11,
    "start_time": "2024-05-18T12:52:12.367Z"
   },
   {
    "duration": 9,
    "start_time": "2024-05-18T12:52:12.381Z"
   },
   {
    "duration": 5,
    "start_time": "2024-05-18T12:52:12.393Z"
   },
   {
    "duration": 708,
    "start_time": "2024-05-18T12:52:12.433Z"
   },
   {
    "duration": 0,
    "start_time": "2024-05-18T12:52:13.144Z"
   },
   {
    "duration": 0,
    "start_time": "2024-05-18T12:52:13.147Z"
   },
   {
    "duration": 0,
    "start_time": "2024-05-18T12:52:13.149Z"
   },
   {
    "duration": 3998,
    "start_time": "2024-05-18T12:55:53.199Z"
   },
   {
    "duration": 1555,
    "start_time": "2024-05-18T12:55:57.202Z"
   },
   {
    "duration": 11,
    "start_time": "2024-05-18T12:55:58.759Z"
   },
   {
    "duration": 5,
    "start_time": "2024-05-18T12:55:58.773Z"
   },
   {
    "duration": 18,
    "start_time": "2024-05-18T12:55:58.784Z"
   },
   {
    "duration": 16,
    "start_time": "2024-05-18T12:55:58.831Z"
   },
   {
    "duration": 7,
    "start_time": "2024-05-18T12:55:58.850Z"
   },
   {
    "duration": 14,
    "start_time": "2024-05-18T12:55:58.861Z"
   },
   {
    "duration": 71,
    "start_time": "2024-05-18T12:55:58.879Z"
   },
   {
    "duration": 9,
    "start_time": "2024-05-18T12:55:58.953Z"
   },
   {
    "duration": 7,
    "start_time": "2024-05-18T12:55:58.965Z"
   },
   {
    "duration": 7,
    "start_time": "2024-05-18T12:55:58.975Z"
   },
   {
    "duration": 6,
    "start_time": "2024-05-18T12:55:58.984Z"
   },
   {
    "duration": 5033,
    "start_time": "2024-05-18T12:55:59.038Z"
   },
   {
    "duration": 4,
    "start_time": "2024-05-18T12:56:04.075Z"
   },
   {
    "duration": 7,
    "start_time": "2024-05-18T12:56:04.082Z"
   },
   {
    "duration": 14,
    "start_time": "2024-05-18T12:56:04.092Z"
   },
   {
    "duration": 33,
    "start_time": "2024-05-18T12:56:04.109Z"
   },
   {
    "duration": 20,
    "start_time": "2024-05-18T12:56:04.145Z"
   },
   {
    "duration": 75,
    "start_time": "2024-05-18T12:56:04.170Z"
   },
   {
    "duration": 82,
    "start_time": "2024-05-18T12:56:04.250Z"
   },
   {
    "duration": 22,
    "start_time": "2024-05-18T12:56:04.335Z"
   },
   {
    "duration": 73,
    "start_time": "2024-05-18T12:56:04.360Z"
   },
   {
    "duration": 203,
    "start_time": "2024-05-18T12:56:04.437Z"
   },
   {
    "duration": 5,
    "start_time": "2024-05-18T12:56:04.643Z"
   },
   {
    "duration": 4,
    "start_time": "2024-05-18T12:56:04.652Z"
   },
   {
    "duration": 37,
    "start_time": "2024-05-18T12:56:04.659Z"
   },
   {
    "duration": 38,
    "start_time": "2024-05-18T12:56:04.699Z"
   },
   {
    "duration": 69,
    "start_time": "2024-05-18T12:56:04.742Z"
   },
   {
    "duration": 10,
    "start_time": "2024-05-18T12:56:04.833Z"
   },
   {
    "duration": 11,
    "start_time": "2024-05-18T12:56:04.846Z"
   },
   {
    "duration": 108,
    "start_time": "2024-05-18T12:56:04.861Z"
   },
   {
    "duration": 10,
    "start_time": "2024-05-18T12:56:04.972Z"
   },
   {
    "duration": 7,
    "start_time": "2024-05-18T12:56:04.985Z"
   },
   {
    "duration": 5,
    "start_time": "2024-05-18T12:56:04.995Z"
   },
   {
    "duration": 647,
    "start_time": "2024-05-18T12:56:05.030Z"
   },
   {
    "duration": 0,
    "start_time": "2024-05-18T12:56:05.680Z"
   },
   {
    "duration": 0,
    "start_time": "2024-05-18T12:56:05.682Z"
   },
   {
    "duration": 0,
    "start_time": "2024-05-18T12:56:05.684Z"
   },
   {
    "duration": 4455,
    "start_time": "2024-05-18T13:09:20.597Z"
   },
   {
    "duration": 1701,
    "start_time": "2024-05-18T13:09:25.057Z"
   },
   {
    "duration": 13,
    "start_time": "2024-05-18T13:09:26.762Z"
   },
   {
    "duration": 6,
    "start_time": "2024-05-18T13:09:26.780Z"
   },
   {
    "duration": 51,
    "start_time": "2024-05-18T13:09:26.790Z"
   },
   {
    "duration": 19,
    "start_time": "2024-05-18T13:09:26.845Z"
   },
   {
    "duration": 10,
    "start_time": "2024-05-18T13:09:26.867Z"
   },
   {
    "duration": 50,
    "start_time": "2024-05-18T13:09:26.883Z"
   },
   {
    "duration": 32,
    "start_time": "2024-05-18T13:09:26.936Z"
   },
   {
    "duration": 10,
    "start_time": "2024-05-18T13:09:26.975Z"
   },
   {
    "duration": 46,
    "start_time": "2024-05-18T13:09:26.988Z"
   },
   {
    "duration": 8,
    "start_time": "2024-05-18T13:09:27.037Z"
   },
   {
    "duration": 8,
    "start_time": "2024-05-18T13:09:27.049Z"
   },
   {
    "duration": 5158,
    "start_time": "2024-05-18T13:09:27.061Z"
   },
   {
    "duration": 4,
    "start_time": "2024-05-18T13:09:32.222Z"
   },
   {
    "duration": 10,
    "start_time": "2024-05-18T13:09:32.230Z"
   },
   {
    "duration": 21,
    "start_time": "2024-05-18T13:09:32.245Z"
   },
   {
    "duration": 15,
    "start_time": "2024-05-18T13:09:32.269Z"
   },
   {
    "duration": 68,
    "start_time": "2024-05-18T13:09:32.288Z"
   },
   {
    "duration": 33,
    "start_time": "2024-05-18T13:09:32.360Z"
   },
   {
    "duration": 20,
    "start_time": "2024-05-18T13:09:32.433Z"
   },
   {
    "duration": 87,
    "start_time": "2024-05-18T13:09:32.456Z"
   },
   {
    "duration": 7,
    "start_time": "2024-05-18T13:09:32.546Z"
   },
   {
    "duration": 227,
    "start_time": "2024-05-18T13:09:32.556Z"
   },
   {
    "duration": 6,
    "start_time": "2024-05-18T13:09:32.786Z"
   },
   {
    "duration": 6,
    "start_time": "2024-05-18T13:09:32.796Z"
   },
   {
    "duration": 43,
    "start_time": "2024-05-18T13:09:32.831Z"
   },
   {
    "duration": 10,
    "start_time": "2024-05-18T13:09:32.882Z"
   },
   {
    "duration": 110,
    "start_time": "2024-05-18T13:09:32.896Z"
   },
   {
    "duration": 26,
    "start_time": "2024-05-18T13:09:33.009Z"
   },
   {
    "duration": 12,
    "start_time": "2024-05-18T13:09:33.039Z"
   },
   {
    "duration": 110,
    "start_time": "2024-05-18T13:09:33.054Z"
   },
   {
    "duration": 10,
    "start_time": "2024-05-18T13:09:33.168Z"
   },
   {
    "duration": 7,
    "start_time": "2024-05-18T13:09:33.181Z"
   },
   {
    "duration": 6,
    "start_time": "2024-05-18T13:09:33.191Z"
   },
   {
    "duration": 631,
    "start_time": "2024-05-18T13:09:33.232Z"
   },
   {
    "duration": 0,
    "start_time": "2024-05-18T13:09:33.866Z"
   },
   {
    "duration": 0,
    "start_time": "2024-05-18T13:09:33.869Z"
   },
   {
    "duration": 0,
    "start_time": "2024-05-18T13:09:33.872Z"
   },
   {
    "duration": 3949,
    "start_time": "2024-05-18T13:10:53.070Z"
   },
   {
    "duration": 4239,
    "start_time": "2024-05-18T13:12:32.005Z"
   },
   {
    "duration": 1716,
    "start_time": "2024-05-18T13:12:36.248Z"
   },
   {
    "duration": 13,
    "start_time": "2024-05-18T13:12:37.967Z"
   },
   {
    "duration": 8,
    "start_time": "2024-05-18T13:12:37.985Z"
   },
   {
    "duration": 46,
    "start_time": "2024-05-18T13:12:37.997Z"
   },
   {
    "duration": 15,
    "start_time": "2024-05-18T13:12:38.046Z"
   },
   {
    "duration": 7,
    "start_time": "2024-05-18T13:12:38.065Z"
   },
   {
    "duration": 53,
    "start_time": "2024-05-18T13:12:38.079Z"
   },
   {
    "duration": 37,
    "start_time": "2024-05-18T13:12:38.136Z"
   },
   {
    "duration": 11,
    "start_time": "2024-05-18T13:12:38.183Z"
   },
   {
    "duration": 7,
    "start_time": "2024-05-18T13:12:38.230Z"
   },
   {
    "duration": 9,
    "start_time": "2024-05-18T13:12:38.241Z"
   },
   {
    "duration": 9,
    "start_time": "2024-05-18T13:12:38.254Z"
   },
   {
    "duration": 5292,
    "start_time": "2024-05-18T13:12:38.266Z"
   },
   {
    "duration": 4,
    "start_time": "2024-05-18T13:12:43.561Z"
   },
   {
    "duration": 14,
    "start_time": "2024-05-18T13:12:43.570Z"
   },
   {
    "duration": 16,
    "start_time": "2024-05-18T13:12:43.587Z"
   },
   {
    "duration": 21,
    "start_time": "2024-05-18T13:12:43.611Z"
   },
   {
    "duration": 20,
    "start_time": "2024-05-18T13:12:43.636Z"
   },
   {
    "duration": 79,
    "start_time": "2024-05-18T13:12:43.659Z"
   },
   {
    "duration": 94,
    "start_time": "2024-05-18T13:12:43.741Z"
   },
   {
    "duration": 22,
    "start_time": "2024-05-18T13:12:43.838Z"
   },
   {
    "duration": 5,
    "start_time": "2024-05-18T13:12:43.863Z"
   },
   {
    "duration": 213,
    "start_time": "2024-05-18T13:12:43.872Z"
   },
   {
    "duration": 5,
    "start_time": "2024-05-18T13:12:44.089Z"
   },
   {
    "duration": 6,
    "start_time": "2024-05-18T13:12:44.098Z"
   },
   {
    "duration": 66,
    "start_time": "2024-05-18T13:12:44.107Z"
   },
   {
    "duration": 11,
    "start_time": "2024-05-18T13:12:44.180Z"
   },
   {
    "duration": 109,
    "start_time": "2024-05-18T13:12:44.194Z"
   },
   {
    "duration": 10,
    "start_time": "2024-05-18T13:12:44.306Z"
   },
   {
    "duration": 11,
    "start_time": "2024-05-18T13:12:44.332Z"
   },
   {
    "duration": 106,
    "start_time": "2024-05-18T13:12:44.347Z"
   },
   {
    "duration": 10,
    "start_time": "2024-05-18T13:12:44.456Z"
   },
   {
    "duration": 8,
    "start_time": "2024-05-18T13:12:44.469Z"
   },
   {
    "duration": 6,
    "start_time": "2024-05-18T13:12:44.481Z"
   },
   {
    "duration": 44,
    "start_time": "2024-05-18T13:12:44.493Z"
   },
   {
    "duration": 5,
    "start_time": "2024-05-18T13:12:44.541Z"
   },
   {
    "duration": 4,
    "start_time": "2024-05-18T13:12:44.549Z"
   },
   {
    "duration": 5,
    "start_time": "2024-05-18T13:12:44.556Z"
   },
   {
    "duration": 14,
    "start_time": "2024-05-18T13:14:22.855Z"
   },
   {
    "duration": 11,
    "start_time": "2024-05-18T13:14:49.693Z"
   },
   {
    "duration": 5,
    "start_time": "2024-05-18T13:23:21.063Z"
   },
   {
    "duration": 4,
    "start_time": "2024-05-18T13:23:22.002Z"
   },
   {
    "duration": 9,
    "start_time": "2024-05-18T13:23:23.573Z"
   },
   {
    "duration": 9,
    "start_time": "2024-05-18T13:23:47.394Z"
   },
   {
    "duration": 520,
    "start_time": "2024-05-18T13:24:19.999Z"
   },
   {
    "duration": 11,
    "start_time": "2024-05-18T13:24:34.086Z"
   },
   {
    "duration": 7,
    "start_time": "2024-05-18T13:27:14.668Z"
   },
   {
    "duration": 14,
    "start_time": "2024-05-18T13:27:20.899Z"
   },
   {
    "duration": 6,
    "start_time": "2024-05-18T13:29:42.867Z"
   },
   {
    "duration": 7,
    "start_time": "2024-05-18T13:30:41.982Z"
   },
   {
    "duration": 8,
    "start_time": "2024-05-18T13:33:31.851Z"
   },
   {
    "duration": 6,
    "start_time": "2024-05-18T13:36:15.488Z"
   },
   {
    "duration": 11,
    "start_time": "2024-05-18T13:40:21.926Z"
   },
   {
    "duration": 11,
    "start_time": "2024-05-18T13:41:23.673Z"
   },
   {
    "duration": 14,
    "start_time": "2024-05-18T13:42:43.334Z"
   },
   {
    "duration": 5,
    "start_time": "2024-05-18T14:03:49.265Z"
   },
   {
    "duration": 8,
    "start_time": "2024-05-18T14:04:41.532Z"
   },
   {
    "duration": 17,
    "start_time": "2024-05-18T14:09:14.057Z"
   },
   {
    "duration": 27,
    "start_time": "2024-05-18T14:13:35.684Z"
   },
   {
    "duration": 15,
    "start_time": "2024-05-18T14:14:56.906Z"
   },
   {
    "duration": 188,
    "start_time": "2024-05-18T14:15:38.047Z"
   },
   {
    "duration": 24,
    "start_time": "2024-05-18T14:16:00.904Z"
   },
   {
    "duration": 4839,
    "start_time": "2024-05-18T17:38:08.098Z"
   },
   {
    "duration": 1642,
    "start_time": "2024-05-18T17:38:12.941Z"
   },
   {
    "duration": 17,
    "start_time": "2024-05-18T17:38:14.586Z"
   },
   {
    "duration": 5,
    "start_time": "2024-05-18T17:38:14.608Z"
   },
   {
    "duration": 18,
    "start_time": "2024-05-18T17:38:14.631Z"
   },
   {
    "duration": 15,
    "start_time": "2024-05-18T17:38:14.652Z"
   },
   {
    "duration": 7,
    "start_time": "2024-05-18T17:38:14.672Z"
   },
   {
    "duration": 57,
    "start_time": "2024-05-18T17:38:14.682Z"
   },
   {
    "duration": 31,
    "start_time": "2024-05-18T17:38:14.743Z"
   },
   {
    "duration": 11,
    "start_time": "2024-05-18T17:38:14.780Z"
   },
   {
    "duration": 41,
    "start_time": "2024-05-18T17:38:14.794Z"
   },
   {
    "duration": 8,
    "start_time": "2024-05-18T17:38:14.838Z"
   },
   {
    "duration": 6,
    "start_time": "2024-05-18T17:38:14.849Z"
   },
   {
    "duration": 5057,
    "start_time": "2024-05-18T17:38:14.858Z"
   },
   {
    "duration": 4,
    "start_time": "2024-05-18T17:38:19.918Z"
   },
   {
    "duration": 8,
    "start_time": "2024-05-18T17:38:19.925Z"
   },
   {
    "duration": 15,
    "start_time": "2024-05-18T17:38:19.935Z"
   },
   {
    "duration": 14,
    "start_time": "2024-05-18T17:38:19.953Z"
   },
   {
    "duration": 67,
    "start_time": "2024-05-18T17:38:19.970Z"
   },
   {
    "duration": 94,
    "start_time": "2024-05-18T17:38:20.040Z"
   },
   {
    "duration": 93,
    "start_time": "2024-05-18T17:38:20.143Z"
   },
   {
    "duration": 18,
    "start_time": "2024-05-18T17:38:20.239Z"
   },
   {
    "duration": 6,
    "start_time": "2024-05-18T17:38:20.260Z"
   },
   {
    "duration": 235,
    "start_time": "2024-05-18T17:38:20.270Z"
   },
   {
    "duration": 5,
    "start_time": "2024-05-18T17:38:20.509Z"
   },
   {
    "duration": 5,
    "start_time": "2024-05-18T17:38:20.529Z"
   },
   {
    "duration": 39,
    "start_time": "2024-05-18T17:38:20.537Z"
   },
   {
    "duration": 9,
    "start_time": "2024-05-18T17:38:20.584Z"
   },
   {
    "duration": 103,
    "start_time": "2024-05-18T17:38:20.595Z"
   },
   {
    "duration": 10,
    "start_time": "2024-05-18T17:38:20.700Z"
   },
   {
    "duration": 10,
    "start_time": "2024-05-18T17:38:20.730Z"
   },
   {
    "duration": 99,
    "start_time": "2024-05-18T17:38:20.744Z"
   },
   {
    "duration": 9,
    "start_time": "2024-05-18T17:38:20.846Z"
   },
   {
    "duration": 7,
    "start_time": "2024-05-18T17:38:20.859Z"
   },
   {
    "duration": 6,
    "start_time": "2024-05-18T17:38:20.869Z"
   },
   {
    "duration": 53,
    "start_time": "2024-05-18T17:38:20.878Z"
   },
   {
    "duration": 14,
    "start_time": "2024-05-18T17:38:20.934Z"
   },
   {
    "duration": 79,
    "start_time": "2024-05-18T17:38:20.951Z"
   },
   {
    "duration": 4,
    "start_time": "2024-05-18T17:38:21.033Z"
   },
   {
    "duration": 89,
    "start_time": "2024-05-18T17:38:21.040Z"
   },
   {
    "duration": 6,
    "start_time": "2024-05-18T17:38:21.133Z"
   },
   {
    "duration": 7,
    "start_time": "2024-05-18T17:38:21.142Z"
   },
   {
    "duration": 81,
    "start_time": "2024-05-18T17:38:21.152Z"
   },
   {
    "duration": 9,
    "start_time": "2024-05-18T17:38:21.236Z"
   },
   {
    "duration": 81,
    "start_time": "2024-05-18T17:38:21.252Z"
   },
   {
    "duration": 12,
    "start_time": "2024-05-18T17:38:21.335Z"
   },
   {
    "duration": 12,
    "start_time": "2024-05-18T17:38:21.350Z"
   },
   {
    "duration": 13,
    "start_time": "2024-05-18T17:38:21.365Z"
   },
   {
    "duration": 49,
    "start_time": "2024-05-18T17:38:21.381Z"
   },
   {
    "duration": 15,
    "start_time": "2024-05-18T17:38:21.434Z"
   },
   {
    "duration": 83,
    "start_time": "2024-05-18T17:38:21.452Z"
   },
   {
    "duration": 11,
    "start_time": "2024-05-18T17:38:21.538Z"
   }
  ],
  "kernelspec": {
   "display_name": "Python 3 (ipykernel)",
   "language": "python",
   "name": "python3"
  },
  "language_info": {
   "codemirror_mode": {
    "name": "ipython",
    "version": 3
   },
   "file_extension": ".py",
   "mimetype": "text/x-python",
   "name": "python",
   "nbconvert_exporter": "python",
   "pygments_lexer": "ipython3",
   "version": "3.9.19"
  },
  "toc": {
   "base_numbering": 1,
   "nav_menu": {},
   "number_sections": true,
   "sideBar": true,
   "skip_h1_title": true,
   "title_cell": "Table of Contents",
   "title_sidebar": "Contents",
   "toc_cell": false,
   "toc_position": {},
   "toc_section_display": true,
   "toc_window_display": false
  }
 },
 "nbformat": 4,
 "nbformat_minor": 4
}
