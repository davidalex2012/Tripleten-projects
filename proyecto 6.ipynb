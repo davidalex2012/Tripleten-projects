{
 "cells": [
  {
   "cell_type": "markdown",
   "metadata": {},
   "source": [
    "# Análisis de comportamiento de suscriptores de Megaline"
   ]
  },
  {
   "cell_type": "markdown",
   "metadata": {},
   "source": [
    "## Descripción del proyecto"
   ]
  },
  {
   "cell_type": "markdown",
   "metadata": {},
   "source": [
    "La compañía móvil Megaline no está satisfecha al ver que muchos de sus clientes utilizan planes heredados. Quieren desarrollar un modelo que pueda analizar el comportamiento de los clientes y recomendar uno de los nuevos planes de Megaline: Smart o Ultra.\n",
    "\n",
    "Tienes acceso a los datos de comportamiento de los suscriptores que ya se han cambiado a los planes nuevos (del proyecto del sprint de Análisis estadístico de datos). Para esta tarea de clasificación debes crear un modelo que escoja el plan correcto. Como ya hiciste el paso de procesar los datos, puedes lanzarte directo a crear el modelo.\n",
    "\n",
    "Desarrolla un modelo con la mayor exactitud posible. En este proyecto, el umbral de exactitud es 0.75. Usa el dataset para comprobar la exactitud"
   ]
  },
  {
   "cell_type": "markdown",
   "metadata": {},
   "source": [
    "### Descripción de datos"
   ]
  },
  {
   "cell_type": "markdown",
   "metadata": {},
   "source": [
    "Cada observación en el dataset contiene información del comportamiento mensual sobre un usuario. La información dada es la siguiente:\n",
    "\n",
    "- сalls — número de llamadas,\n",
    "\n",
    "- minutes — duración total de la llamada en minutos,\n",
    "\n",
    "- messages — número de mensajes de texto,\n",
    "\n",
    "- mb_used — Tráfico de Internet utilizado en MB,\n",
    "\n",
    "- is_ultra — plan para el mes actual (Ultra - 1, Smart - 0)."
   ]
  },
  {
   "cell_type": "markdown",
   "metadata": {},
   "source": [
    "## Inicialización"
   ]
  },
  {
   "cell_type": "markdown",
   "metadata": {},
   "source": [
    "### Cargar librerías"
   ]
  },
  {
   "cell_type": "code",
   "execution_count": 29,
   "metadata": {},
   "outputs": [],
   "source": [
    "#Cargar librerías\n",
    "import pandas as pd\n",
    "from sklearn.model_selection import train_test_split, GridSearchCV\n",
    "from sklearn.metrics import accuracy_score, mean_squared_error\n",
    "from sklearn.tree import DecisionTreeClassifier \n",
    "from sklearn.ensemble import RandomForestClassifier \n",
    "from sklearn.linear_model import LogisticRegression \n",
    "from sklearn.dummy import DummyClassifier"
   ]
  },
  {
   "cell_type": "code",
   "execution_count": 2,
   "metadata": {},
   "outputs": [],
   "source": [
    "#Cargar base de datos\n",
    "df = pd.read_csv('/datasets/users_behavior.csv')"
   ]
  },
  {
   "cell_type": "code",
   "execution_count": 3,
   "metadata": {},
   "outputs": [
    {
     "name": "stdout",
     "output_type": "stream",
     "text": [
      "<class 'pandas.core.frame.DataFrame'>\n",
      "RangeIndex: 3214 entries, 0 to 3213\n",
      "Data columns (total 5 columns):\n",
      " #   Column    Non-Null Count  Dtype  \n",
      "---  ------    --------------  -----  \n",
      " 0   calls     3214 non-null   float64\n",
      " 1   minutes   3214 non-null   float64\n",
      " 2   messages  3214 non-null   float64\n",
      " 3   mb_used   3214 non-null   float64\n",
      " 4   is_ultra  3214 non-null   int64  \n",
      "dtypes: float64(4), int64(1)\n",
      "memory usage: 125.7 KB\n"
     ]
    }
   ],
   "source": [
    "#Exploración básica del archivo\n",
    "df.info()"
   ]
  },
  {
   "cell_type": "code",
   "execution_count": 4,
   "metadata": {},
   "outputs": [
    {
     "data": {
      "text/html": [
       "<div>\n",
       "<style scoped>\n",
       "    .dataframe tbody tr th:only-of-type {\n",
       "        vertical-align: middle;\n",
       "    }\n",
       "\n",
       "    .dataframe tbody tr th {\n",
       "        vertical-align: top;\n",
       "    }\n",
       "\n",
       "    .dataframe thead th {\n",
       "        text-align: right;\n",
       "    }\n",
       "</style>\n",
       "<table border=\"1\" class=\"dataframe\">\n",
       "  <thead>\n",
       "    <tr style=\"text-align: right;\">\n",
       "      <th></th>\n",
       "      <th>calls</th>\n",
       "      <th>minutes</th>\n",
       "      <th>messages</th>\n",
       "      <th>mb_used</th>\n",
       "      <th>is_ultra</th>\n",
       "    </tr>\n",
       "  </thead>\n",
       "  <tbody>\n",
       "    <tr>\n",
       "      <th>count</th>\n",
       "      <td>3214.000000</td>\n",
       "      <td>3214.000000</td>\n",
       "      <td>3214.000000</td>\n",
       "      <td>3214.000000</td>\n",
       "      <td>3214.000000</td>\n",
       "    </tr>\n",
       "    <tr>\n",
       "      <th>mean</th>\n",
       "      <td>63.038892</td>\n",
       "      <td>438.208787</td>\n",
       "      <td>38.281269</td>\n",
       "      <td>17207.673836</td>\n",
       "      <td>0.306472</td>\n",
       "    </tr>\n",
       "    <tr>\n",
       "      <th>std</th>\n",
       "      <td>33.236368</td>\n",
       "      <td>234.569872</td>\n",
       "      <td>36.148326</td>\n",
       "      <td>7570.968246</td>\n",
       "      <td>0.461100</td>\n",
       "    </tr>\n",
       "    <tr>\n",
       "      <th>min</th>\n",
       "      <td>0.000000</td>\n",
       "      <td>0.000000</td>\n",
       "      <td>0.000000</td>\n",
       "      <td>0.000000</td>\n",
       "      <td>0.000000</td>\n",
       "    </tr>\n",
       "    <tr>\n",
       "      <th>25%</th>\n",
       "      <td>40.000000</td>\n",
       "      <td>274.575000</td>\n",
       "      <td>9.000000</td>\n",
       "      <td>12491.902500</td>\n",
       "      <td>0.000000</td>\n",
       "    </tr>\n",
       "    <tr>\n",
       "      <th>50%</th>\n",
       "      <td>62.000000</td>\n",
       "      <td>430.600000</td>\n",
       "      <td>30.000000</td>\n",
       "      <td>16943.235000</td>\n",
       "      <td>0.000000</td>\n",
       "    </tr>\n",
       "    <tr>\n",
       "      <th>75%</th>\n",
       "      <td>82.000000</td>\n",
       "      <td>571.927500</td>\n",
       "      <td>57.000000</td>\n",
       "      <td>21424.700000</td>\n",
       "      <td>1.000000</td>\n",
       "    </tr>\n",
       "    <tr>\n",
       "      <th>max</th>\n",
       "      <td>244.000000</td>\n",
       "      <td>1632.060000</td>\n",
       "      <td>224.000000</td>\n",
       "      <td>49745.730000</td>\n",
       "      <td>1.000000</td>\n",
       "    </tr>\n",
       "  </tbody>\n",
       "</table>\n",
       "</div>"
      ],
      "text/plain": [
       "             calls      minutes     messages       mb_used     is_ultra\n",
       "count  3214.000000  3214.000000  3214.000000   3214.000000  3214.000000\n",
       "mean     63.038892   438.208787    38.281269  17207.673836     0.306472\n",
       "std      33.236368   234.569872    36.148326   7570.968246     0.461100\n",
       "min       0.000000     0.000000     0.000000      0.000000     0.000000\n",
       "25%      40.000000   274.575000     9.000000  12491.902500     0.000000\n",
       "50%      62.000000   430.600000    30.000000  16943.235000     0.000000\n",
       "75%      82.000000   571.927500    57.000000  21424.700000     1.000000\n",
       "max     244.000000  1632.060000   224.000000  49745.730000     1.000000"
      ]
     },
     "execution_count": 4,
     "metadata": {},
     "output_type": "execute_result"
    }
   ],
   "source": [
    "#Descripción del dataframe\n",
    "df.describe()"
   ]
  },
  {
   "cell_type": "code",
   "execution_count": 5,
   "metadata": {},
   "outputs": [
    {
     "data": {
      "text/plain": [
       "0"
      ]
     },
     "execution_count": 5,
     "metadata": {},
     "output_type": "execute_result"
    }
   ],
   "source": [
    "#Revisión de duplicados\n",
    "df.duplicated().sum()"
   ]
  },
  {
   "cell_type": "code",
   "execution_count": 6,
   "metadata": {},
   "outputs": [
    {
     "data": {
      "text/html": [
       "<div>\n",
       "<style scoped>\n",
       "    .dataframe tbody tr th:only-of-type {\n",
       "        vertical-align: middle;\n",
       "    }\n",
       "\n",
       "    .dataframe tbody tr th {\n",
       "        vertical-align: top;\n",
       "    }\n",
       "\n",
       "    .dataframe thead th {\n",
       "        text-align: right;\n",
       "    }\n",
       "</style>\n",
       "<table border=\"1\" class=\"dataframe\">\n",
       "  <thead>\n",
       "    <tr style=\"text-align: right;\">\n",
       "      <th></th>\n",
       "      <th>calls</th>\n",
       "      <th>minutes</th>\n",
       "      <th>messages</th>\n",
       "      <th>mb_used</th>\n",
       "      <th>is_ultra</th>\n",
       "    </tr>\n",
       "  </thead>\n",
       "  <tbody>\n",
       "    <tr>\n",
       "      <th>0</th>\n",
       "      <td>40.0</td>\n",
       "      <td>311.90</td>\n",
       "      <td>83.0</td>\n",
       "      <td>19915.42</td>\n",
       "      <td>0</td>\n",
       "    </tr>\n",
       "    <tr>\n",
       "      <th>1</th>\n",
       "      <td>85.0</td>\n",
       "      <td>516.75</td>\n",
       "      <td>56.0</td>\n",
       "      <td>22696.96</td>\n",
       "      <td>0</td>\n",
       "    </tr>\n",
       "    <tr>\n",
       "      <th>2</th>\n",
       "      <td>77.0</td>\n",
       "      <td>467.66</td>\n",
       "      <td>86.0</td>\n",
       "      <td>21060.45</td>\n",
       "      <td>0</td>\n",
       "    </tr>\n",
       "    <tr>\n",
       "      <th>3</th>\n",
       "      <td>106.0</td>\n",
       "      <td>745.53</td>\n",
       "      <td>81.0</td>\n",
       "      <td>8437.39</td>\n",
       "      <td>1</td>\n",
       "    </tr>\n",
       "    <tr>\n",
       "      <th>4</th>\n",
       "      <td>66.0</td>\n",
       "      <td>418.74</td>\n",
       "      <td>1.0</td>\n",
       "      <td>14502.75</td>\n",
       "      <td>0</td>\n",
       "    </tr>\n",
       "  </tbody>\n",
       "</table>\n",
       "</div>"
      ],
      "text/plain": [
       "   calls  minutes  messages   mb_used  is_ultra\n",
       "0   40.0   311.90      83.0  19915.42         0\n",
       "1   85.0   516.75      56.0  22696.96         0\n",
       "2   77.0   467.66      86.0  21060.45         0\n",
       "3  106.0   745.53      81.0   8437.39         1\n",
       "4   66.0   418.74       1.0  14502.75         0"
      ]
     },
     "execution_count": 6,
     "metadata": {},
     "output_type": "execute_result"
    }
   ],
   "source": [
    "#vista previa del df\n",
    "df.head()"
   ]
  },
  {
   "cell_type": "markdown",
   "metadata": {},
   "source": [
    "### Hallazgos\n",
    "\n",
    "El dataframe no posee datos ausentes, ni duplicados y los datos son del tipo correcto, excepto la columna \"messages\" que deberia ser int y es float.\n",
    "\n",
    "La columna \"is_ultra\" tiene datos booleanos pero se la mantiene como tipo int para el análisis."
   ]
  },
  {
   "cell_type": "markdown",
   "metadata": {},
   "source": [
    "## Corregir datos"
   ]
  },
  {
   "cell_type": "code",
   "execution_count": 7,
   "metadata": {},
   "outputs": [],
   "source": [
    "#cambiar de float a int\n",
    "df['messages'] = df.astype('int')"
   ]
  },
  {
   "cell_type": "code",
   "execution_count": 8,
   "metadata": {},
   "outputs": [
    {
     "name": "stdout",
     "output_type": "stream",
     "text": [
      "<class 'pandas.core.frame.DataFrame'>\n",
      "RangeIndex: 3214 entries, 0 to 3213\n",
      "Data columns (total 5 columns):\n",
      " #   Column    Non-Null Count  Dtype  \n",
      "---  ------    --------------  -----  \n",
      " 0   calls     3214 non-null   float64\n",
      " 1   minutes   3214 non-null   float64\n",
      " 2   messages  3214 non-null   int64  \n",
      " 3   mb_used   3214 non-null   float64\n",
      " 4   is_ultra  3214 non-null   int64  \n",
      "dtypes: float64(3), int64(2)\n",
      "memory usage: 125.7 KB\n"
     ]
    }
   ],
   "source": [
    "#verificar cambio\n",
    "df.info()"
   ]
  },
  {
   "cell_type": "markdown",
   "metadata": {},
   "source": [
    "Ya acabado el preprocesamiento de datos se procederá a crear los modelos de aprendizaje."
   ]
  },
  {
   "cell_type": "markdown",
   "metadata": {},
   "source": [
    "## Modelos de aprendizaje"
   ]
  },
  {
   "cell_type": "markdown",
   "metadata": {},
   "source": [
    "Se crearán distintos modelos de aprendizaje para poder decidir cual es el más apropiado en su comparación.\n",
    "\n",
    "Se tiene en cuenta que el objetivo es una respuesta de categoría."
   ]
  },
  {
   "cell_type": "markdown",
   "metadata": {},
   "source": [
    "### Segmentación de  datos"
   ]
  },
  {
   "cell_type": "markdown",
   "metadata": {},
   "source": [
    "Se segmentará los datos en 3 conjuntos:\n",
    "\n",
    "- conjunto de entrenamiento (60%)\n",
    "\n",
    "- conjunto de validación (20%)\n",
    "\n",
    "- conjunto de prueba (20%)"
   ]
  },
  {
   "cell_type": "code",
   "execution_count": 9,
   "metadata": {},
   "outputs": [],
   "source": [
    "#Separar conjunto de datos de prueba\n",
    "df_t, df_test = train_test_split(df,test_size=0.2,random_state=12345)"
   ]
  },
  {
   "cell_type": "code",
   "execution_count": 10,
   "metadata": {},
   "outputs": [],
   "source": [
    "#Separar conjunto de datos de entrenamiento y validacion. El test_size aumenta para compensar la reducción de filas\n",
    "df_train, df_valid = train_test_split(df_t,test_size=0.25,random_state=12345)"
   ]
  },
  {
   "cell_type": "code",
   "execution_count": 11,
   "metadata": {},
   "outputs": [],
   "source": [
    "#Variables para el conjunto de entrenamiento\n",
    "df_train_features = df_train.drop('is_ultra',axis=1)\n",
    "df_train_target =  df_train['is_ultra']"
   ]
  },
  {
   "cell_type": "code",
   "execution_count": 12,
   "metadata": {},
   "outputs": [],
   "source": [
    "#Variables para el conjunto de validación\n",
    "df_valid_features = df_valid.drop('is_ultra',axis=1)\n",
    "df_valid_target = df_valid['is_ultra']"
   ]
  },
  {
   "cell_type": "code",
   "execution_count": 13,
   "metadata": {},
   "outputs": [],
   "source": [
    "#Variables para el conjunto de prueba\n",
    "df_test_features = df_test.drop('is_ultra',axis=1)\n",
    "df_test_target = df_test['is_ultra']"
   ]
  },
  {
   "cell_type": "code",
   "execution_count": 14,
   "metadata": {},
   "outputs": [
    {
     "name": "stdout",
     "output_type": "stream",
     "text": [
      "(643, 5)\n",
      "(1928, 5)\n",
      "(643, 5)\n"
     ]
    }
   ],
   "source": [
    "#Verificar tamaño de los datasets\n",
    "print(df_test.shape)\n",
    "print(df_train.shape)\n",
    "print(df_valid.shape)"
   ]
  },
  {
   "cell_type": "markdown",
   "metadata": {},
   "source": [
    "### Modelo: Árbol de decisión para clasificación"
   ]
  },
  {
   "cell_type": "code",
   "execution_count": 15,
   "metadata": {},
   "outputs": [
    {
     "name": "stdout",
     "output_type": "stream",
     "text": [
      "max_depth = 1 :  0.7387247278382582\n",
      "max_depth = 2 :  0.7573872472783826\n",
      "max_depth = 3 :  0.7620528771384136\n",
      "max_depth = 4 :  0.76049766718507\n",
      "max_depth = 5 :  0.7527216174183515\n",
      "max_depth = 6 :  0.7558320373250389\n",
      "max_depth = 7 :  0.7636080870917574\n",
      "max_depth = 8 :  0.7527216174183515\n",
      "max_depth = 9 :  0.7480559875583204\n",
      "max_depth = 10 :  0.749611197511664\n",
      "\n",
      "Best max_depth = 7 :  0.7636080870917574\n"
     ]
    }
   ],
   "source": [
    "#Pruebas con diferentes de profundidades de árbol para encontrar la más apropiada\n",
    "max_depth = 0\n",
    "best_accuracy = 0\n",
    "\n",
    "for depth in range(1, 11): \n",
    "    model = DecisionTreeClassifier(random_state=12345, max_depth=depth) \n",
    "    model.fit(df_train_features, df_train_target) \n",
    "    predictions_valid = model.predict(df_valid_features) \n",
    "    accuracy_s = accuracy_score(df_valid_target, predictions_valid)\n",
    "    print('max_depth =', depth, ': ',accuracy_s) \n",
    "    \n",
    "    if accuracy_s > best_accuracy:\n",
    "        best_accuracy = accuracy_s\n",
    "        max_depth = depth\n",
    "print()\n",
    "print('Best max_depth =', max_depth, ': ',best_accuracy)"
   ]
  },
  {
   "cell_type": "markdown",
   "metadata": {},
   "source": [
    "max_depth = 7, es la profundidad que se tomará en cuenta, el modelo cumple con umbral de exactitud > 0.75 ."
   ]
  },
  {
   "cell_type": "code",
   "execution_count": 16,
   "metadata": {},
   "outputs": [
    {
     "name": "stdout",
     "output_type": "stream",
     "text": [
      "Fitting 5 folds for each of 26 candidates, totalling 130 fits\n"
     ]
    },
    {
     "data": {
      "text/plain": [
       "DecisionTreeClassifier(max_depth=3, random_state=12345)"
      ]
     },
     "execution_count": 16,
     "metadata": {},
     "output_type": "execute_result"
    }
   ],
   "source": [
    "#usar GridSearchCV para buscar la mejor profundidad de árbol\n",
    "param_grid = {'max_depth': [1, 2, 3, 4, 5,6,7,8,9,10,20,30,40],'criterion':['gini','entropy'], }\n",
    "\n",
    "tree_clas = DecisionTreeClassifier(random_state=12345)\n",
    "grid_search = GridSearchCV(estimator=tree_clas, param_grid=param_grid, cv=5, verbose=True)\n",
    "grid_search.fit(df_train_features, df_train_target)\n",
    "\n",
    "final_model = grid_search.best_estimator_\n",
    "final_model"
   ]
  },
  {
   "cell_type": "code",
   "execution_count": 17,
   "metadata": {},
   "outputs": [
    {
     "data": {
      "text/plain": [
       "0.7620528771384136"
      ]
     },
     "execution_count": 17,
     "metadata": {},
     "output_type": "execute_result"
    }
   ],
   "source": [
    "# exactitud del modelo con gridsearch\n",
    "accuracy_score(df_valid_target, final_model.predict(df_valid_features) )"
   ]
  },
  {
   "cell_type": "markdown",
   "metadata": {},
   "source": [
    "- Este método dio como resultado max_depth = 3, sin embargo max_depth = 7 da una mejor exactitud."
   ]
  },
  {
   "cell_type": "code",
   "execution_count": 18,
   "metadata": {},
   "outputs": [],
   "source": [
    "# Fijación de modelo DecisionTreeClassifier con max_depth= 7\n",
    "model_dtc = DecisionTreeClassifier(random_state=12345, max_depth=7) \n",
    "model_dtc.fit(df_train_features, df_train_target) \n",
    "\n",
    "predictions_valid_dtc = model_dtc.predict(df_valid_features) "
   ]
  },
  {
   "cell_type": "code",
   "execution_count": 19,
   "metadata": {},
   "outputs": [
    {
     "name": "stdout",
     "output_type": "stream",
     "text": [
      "Exactitud\n",
      "Training set: 0.8340248962655602\n",
      "Validation set: 0.7636080870917574\n",
      "Test set: 0.7916018662519441\n"
     ]
    }
   ],
   "source": [
    "#Predicciones\n",
    "train_predictions = model_dtc.predict(df_train_features) \n",
    "test_predictions = model_dtc.predict(df_test_features) \n",
    "\n",
    "#comprobar calidad del modelo\n",
    "acc_tr_dtc  = accuracy_score(df_train_target, train_predictions)\n",
    "acc_val_dtc = best_accuracy\n",
    "acc_ts_dtc  = accuracy_score(df_test_target, test_predictions)\n",
    "\n",
    "print('Exactitud') \n",
    "print('Training set:', acc_tr_dtc)\n",
    "print('Validation set:', acc_val_dtc)\n",
    "print('Test set:', acc_ts_dtc) "
   ]
  },
  {
   "cell_type": "markdown",
   "metadata": {},
   "source": [
    "- La exactitud  es superior a 0.75 "
   ]
  },
  {
   "cell_type": "markdown",
   "metadata": {},
   "source": [
    "### Modelo: Bosque aleatorio para clasificación\n"
   ]
  },
  {
   "cell_type": "code",
   "execution_count": 20,
   "metadata": {},
   "outputs": [
    {
     "data": {
      "text/plain": [
       "{'max_depth': 4, 'max_features': 'auto', 'n_estimators': 4}"
      ]
     },
     "execution_count": 20,
     "metadata": {},
     "output_type": "execute_result"
    }
   ],
   "source": [
    "#buscar las mejores características para los datos disponibles\n",
    "model_rfc =RandomForestClassifier(random_state=12345)\n",
    "param_grid = {'n_estimators': [1,2,3,4,5,6,7,8,9,10], 'max_features': ['auto', 'sqrt', 'log2'],\n",
    "              'max_depth' : [3,4,5,6,7,8,9,10]}\n",
    "CV_rfc = GridSearchCV(estimator=model_rfc, param_grid=param_grid, cv= 5)\n",
    "CV_rfc.fit(df_train_features,df_train_target)\n",
    "CV_rfc.best_params_"
   ]
  },
  {
   "cell_type": "code",
   "execution_count": 27,
   "metadata": {},
   "outputs": [],
   "source": [
    "# Fijación de modelo RandomForestClassifier con parámetros óptimos encontrados\n",
    "model_rfc = RandomForestClassifier(random_state=12345, max_depth=4, max_features='auto',n_estimators=4)\n",
    "model_rfc.fit(df_train_features,df_train_target)  \n",
    "\n",
    "predictions_valid_rfc = model_rfc.predict(df_valid_features) "
   ]
  },
  {
   "cell_type": "code",
   "execution_count": 22,
   "metadata": {},
   "outputs": [
    {
     "name": "stdout",
     "output_type": "stream",
     "text": [
      "Exactitud\n",
      "Training set: 0.8029045643153527\n",
      "Validation set: 0.7651632970451011\n",
      "Test set: 0.7807153965785381\n"
     ]
    }
   ],
   "source": [
    "#Predicciones\n",
    "train_predictions = model_rfc.predict(df_train_features) \n",
    "test_predictions = model_rfc.predict(df_test_features)\n",
    "\n",
    "#Verificar la calidad del modelo\n",
    "acc_tr_rfc = accuracy_score(df_train_target, train_predictions)\n",
    "acc_val_rfc = accuracy_score(df_valid_target, predictions_valid_rfc)\n",
    "acc_ts_rfc = accuracy_score(df_test_target, test_predictions)\n",
    "\n",
    "print('Exactitud') \n",
    "print('Training set:', acc_tr_rfc)\n",
    "print('Validation set:', acc_val_rfc)\n",
    "print('Test set:', acc_ts_rfc) "
   ]
  },
  {
   "cell_type": "markdown",
   "metadata": {},
   "source": [
    "La exactitud es superior a 0.75."
   ]
  },
  {
   "cell_type": "markdown",
   "metadata": {},
   "source": [
    "### Modelo: Regresión logística"
   ]
  },
  {
   "cell_type": "code",
   "execution_count": 28,
   "metadata": {},
   "outputs": [],
   "source": [
    "#Inicializar modelo\n",
    "model_lr = LogisticRegression(random_state=12345, solver='liblinear') \n",
    "model_lr.fit(df_train_features,df_train_target)\n",
    " \n",
    "predictions_valid_lr = model_lr.predict(df_valid_features) "
   ]
  },
  {
   "cell_type": "code",
   "execution_count": 24,
   "metadata": {},
   "outputs": [
    {
     "name": "stdout",
     "output_type": "stream",
     "text": [
      "Accuracy\n",
      "Training set: 0.6955394190871369\n",
      "Validation set: 0.6905132192846034\n",
      "Test set: 0.6967340590979783\n"
     ]
    }
   ],
   "source": [
    "#Predicciones\n",
    "train_predictions = model_lr.predict(df_train_features) \n",
    "test_predictions = model_lr.predict(df_test_features)\n",
    "\n",
    "#comprobar calidad del modelo con el conjunto de prueba\n",
    "acc_tr_lr = accuracy_score(df_train_target, train_predictions)\n",
    "acc_val_lr = accuracy_score(df_valid_target, predictions_valid_lr)\n",
    "acc_ts_lr = accuracy_score(df_test_target, test_predictions)\n",
    "\n",
    "print('Accuracy') \n",
    "print('Training set:', acc_tr_lr)\n",
    "print('Validation set:', acc_val_lr)\n",
    "print('Test set:', acc_ts_lr) "
   ]
  },
  {
   "cell_type": "markdown",
   "metadata": {},
   "source": [
    "El modelo refleja una exactitud menor a la exactitud mínima requerida de 0.75."
   ]
  },
  {
   "cell_type": "markdown",
   "metadata": {},
   "source": [
    "## Prueba de cordura "
   ]
  },
  {
   "cell_type": "markdown",
   "metadata": {},
   "source": [
    "A continuación se aplica una prueba de cordura."
   ]
  },
  {
   "cell_type": "code",
   "execution_count": 44,
   "metadata": {},
   "outputs": [
    {
     "name": "stdout",
     "output_type": "stream",
     "text": [
      "[0.6889580093312597]\n"
     ]
    }
   ],
   "source": [
    "dummy = DummyClassifier(random_state = 12345, strategy = \"most_frequent\")\n",
    "test_scores = [] \n",
    "\n",
    "dummy.fit(df_train_features, df_train_target) \n",
    "score = dummy.score(df_valid_features, df_valid_target) \n",
    "test_scores.append(score)\n",
    "print(test_scores)"
   ]
  },
  {
   "cell_type": "markdown",
   "metadata": {},
   "source": [
    "Se obtiene una cordura de 68.8%"
   ]
  },
  {
   "cell_type": "markdown",
   "metadata": {},
   "source": [
    "## Conclusión"
   ]
  },
  {
   "cell_type": "code",
   "execution_count": 30,
   "metadata": {},
   "outputs": [
    {
     "data": {
      "text/html": [
       "<div>\n",
       "<style scoped>\n",
       "    .dataframe tbody tr th:only-of-type {\n",
       "        vertical-align: middle;\n",
       "    }\n",
       "\n",
       "    .dataframe tbody tr th {\n",
       "        vertical-align: top;\n",
       "    }\n",
       "\n",
       "    .dataframe thead th {\n",
       "        text-align: right;\n",
       "    }\n",
       "</style>\n",
       "<table border=\"1\" class=\"dataframe\">\n",
       "  <thead>\n",
       "    <tr style=\"text-align: right;\">\n",
       "      <th></th>\n",
       "      <th>Model</th>\n",
       "      <th>Training set accuracy</th>\n",
       "      <th>Validation set accuracy</th>\n",
       "      <th>Test set accuracy</th>\n",
       "    </tr>\n",
       "  </thead>\n",
       "  <tbody>\n",
       "    <tr>\n",
       "      <th>0</th>\n",
       "      <td>Decision Tree Classifier</td>\n",
       "      <td>0.834025</td>\n",
       "      <td>0.763608</td>\n",
       "      <td>0.791602</td>\n",
       "    </tr>\n",
       "    <tr>\n",
       "      <th>1</th>\n",
       "      <td>Random Forest Classifier</td>\n",
       "      <td>0.802905</td>\n",
       "      <td>0.765163</td>\n",
       "      <td>0.780715</td>\n",
       "    </tr>\n",
       "    <tr>\n",
       "      <th>2</th>\n",
       "      <td>Logistic Regression</td>\n",
       "      <td>0.695539</td>\n",
       "      <td>0.690513</td>\n",
       "      <td>0.696734</td>\n",
       "    </tr>\n",
       "  </tbody>\n",
       "</table>\n",
       "</div>"
      ],
      "text/plain": [
       "                      Model  Training set accuracy  Validation set accuracy  \\\n",
       "0  Decision Tree Classifier               0.834025                 0.763608   \n",
       "1  Random Forest Classifier               0.802905                 0.765163   \n",
       "2       Logistic Regression               0.695539                 0.690513   \n",
       "\n",
       "   Test set accuracy  \n",
       "0           0.791602  \n",
       "1           0.780715  \n",
       "2           0.696734  "
      ]
     },
     "execution_count": 30,
     "metadata": {},
     "output_type": "execute_result"
    }
   ],
   "source": [
    "#Tabla de resultados por modelo\n",
    "pd.DataFrame({'Model':['Decision Tree Classifier', 'Random Forest Classifier', 'Logistic Regression'],\n",
    "    'Training set accuracy':  [acc_tr_dtc    , acc_tr_rfc   , acc_tr_lr ],\n",
    "    'Validation set accuracy':[acc_val_dtc   , acc_val_rfc  , acc_val_lr],\n",
    "    'Test set accuracy':      [acc_ts_dtc    , acc_ts_rfc   , acc_ts_lr ] })"
   ]
  },
  {
   "cell_type": "markdown",
   "metadata": {},
   "source": [
    "- Los modelos árbol de decisión para clasificación (DTC) y bosque aleatorio para clasificación (RFC) muestran alta exactitud en los tres conjuntos de datos.\n",
    "\n",
    "- El modelo de regresión lógistica tiene una exactitud menor a la objetivo (0.75) en todos los conjuntos de datos.\n",
    "\n",
    "- Con los resultados obtenidos y considerando la velocidad de procesamiento del modelo árbol de decisión para clasificación, se escoge este como el modelo más apropiado para el análisis."
   ]
  },
  {
   "cell_type": "markdown",
   "metadata": {},
   "source": [
    "### Conclusión general\n",
    "\n",
    "El proyecto consiste principalmente en identificar cual tipo de modelo es el más apropiado para el análisis en sugerir un plan a los clientes de Megaline.\n",
    "\n",
    "#### Abrir el dataframe\n",
    "Con la carga de las librerías apropiadas para el proyecto y una revisión del dataframe, se observó que solo un tipo de datos de una columna ameritaba ser cambiado para un análisis correcto y no hubo ni filas vacías ni duplicados.\n",
    "\n",
    "#### Modelo de aprendizaje\n",
    "\n",
    "Se realizó una segmentación de datos en 3 conjuntos uno de entrenamiento, uno de validación y uno de prueba. Posterior a esto se empezó a probar con cada modelo que parámetros eran los más apropiados para mantener una exactitud de al menos 0.75.\n",
    "\n",
    "#### Árbol de decisión para clasificación\n",
    "\n",
    "Se determinó que la mejor profundidad para este tipo de modelo era la de 7 y al comprobar el modelo mantenía una exactitud superior a la de 0.75. Inclusó se lo seleccionó como el modelo respuesta a este proyecto, ya que por su velocidad de procesamiento y resultados de precisión es el más apropiado para determinar los planes de los clientes.\n",
    "\n",
    "#### Bosque aleatorio para clasificación\n",
    "\n",
    "Con una profundida de 4 y estimadores 4, este modelo presentó valores en su exactitud superiores a la de 0.75. Aunque este modelo estuvo por poco detrás del de árbol de decisión para clasificar, para ser considerado el mejor a usar.\n",
    "\n",
    "#### Regresión logística\n",
    "\n",
    "Este modelo meramente no pudo tener una precisión superior a 0.75\n",
    "\n",
    "#### Prueba de cordura\n",
    "\n",
    "Usando el Dummy.Classifier se obtuvo una cordura de valor 68.8%"
   ]
  },
  {
   "cell_type": "code",
   "execution_count": null,
   "metadata": {},
   "outputs": [],
   "source": []
  }
 ],
 "metadata": {
  "kernelspec": {
   "display_name": "Python 3 (ipykernel)",
   "language": "python",
   "name": "python3"
  },
  "language_info": {
   "codemirror_mode": {
    "name": "ipython",
    "version": 3
   },
   "file_extension": ".py",
   "mimetype": "text/x-python",
   "name": "python",
   "nbconvert_exporter": "python",
   "pygments_lexer": "ipython3",
   "version": "3.9.19"
  },
  "toc": {
   "base_numbering": 1,
   "nav_menu": {},
   "number_sections": true,
   "sideBar": false,
   "skip_h1_title": true,
   "title_cell": "Table of Contents",
   "title_sidebar": "Contents",
   "toc_cell": false,
   "toc_position": {
    "height": "563.819px",
    "left": "21px",
    "top": "110.806px",
    "width": "294.319px"
   },
   "toc_section_display": true,
   "toc_window_display": true
  }
 },
 "nbformat": 4,
 "nbformat_minor": 2
}
