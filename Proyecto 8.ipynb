{
 "cells": [
  {
   "cell_type": "markdown",
   "metadata": {},
   "source": [
    "## Descripción del proyecto"
   ]
  },
  {
   "cell_type": "markdown",
   "metadata": {},
   "source": [
    "Trabajas en la compañía de extracción de petróleo OilyGiant. Tu tarea es encontrar los mejores lugares donde abrir 200 pozos nuevos de petróleo.\n",
    "\n",
    "Para completar esta tarea, tendrás que realizar los siguientes pasos:\n",
    "\n",
    "- Leer los archivos con los parámetros recogidos de pozos petrolíferos en la región seleccionada: calidad de crudo y volumen de reservas.\n",
    "\n",
    "- Crear un modelo para predecir el volumen de reservas en pozos nuevos.\n",
    "\n",
    "- Elegir los pozos petrolíferos que tienen los valores estimados más altos.\n",
    " \n",
    "- Elegir la región con el beneficio total más alto para los pozos petrolíferos seleccionados.\n",
    "\n",
    "\n",
    "Tienes datos sobre muestras de crudo de tres regiones. Ya se conocen los parámetros de cada pozo petrolero de la región. Crea un modelo que ayude a elegir la región con el mayor margen de beneficio. Analiza los beneficios y riesgos potenciales utilizando la técnica bootstrapping.\n",
    "\n",
    "Condiciones:\n",
    "\n",
    "- Solo se debe usar la regresión lineal para el entrenamiento del modelo.\n",
    "\n",
    "- Al explorar la región, se lleva a cabo un estudio de 500 puntos con la selección de los mejores 200 puntos para el cálculo del beneficio.\n",
    "\n",
    "- El presupuesto para el desarrollo de 200 pozos petroleros es de 100 millones de dólares.\n",
    "\n",
    "- Un barril de materias primas genera 4.5 USD de ingresos. \n",
    "\n",
    "- El ingreso de una unidad de producto es de 4500 dólares (el volumen de reservas está expresado en miles de barriles).\n",
    "\n",
    "- Después de la evaluación de riesgo, mantén solo las regiones con riesgo de pérdidas inferior al 2.5%. \n",
    "\n",
    "- De las que se ajustan a los criterios, se debe seleccionar la región con el beneficio promedio más alto.\n",
    "\n",
    "Los datos son sintéticos: los detalles del contrato y las características del pozo no se publican."
   ]
  },
  {
   "cell_type": "markdown",
   "metadata": {},
   "source": [
    "### Descripción de datos"
   ]
  },
  {
   "cell_type": "markdown",
   "metadata": {},
   "source": [
    "Los datos de exploración geológica de las tres regiones se almacenan en archivos:\n",
    "\n",
    "- geo_data_0.csv.\n",
    "\n",
    "- geo_data_1.csv. \n",
    "\n",
    "- geo_data_2.csv. \n",
    "\n",
    "- id — identificador único de pozo de petróleo\n",
    "\n",
    "- f0, f1, f2 — tres características de los puntos (su significado específico no es importante, pero las características en sí son significativas)\n",
    "\n",
    "- product — volumen de reservas en el pozo de petróleo (miles de barriles)."
   ]
  },
  {
   "cell_type": "markdown",
   "metadata": {},
   "source": [
    "## Inicialización"
   ]
  },
  {
   "cell_type": "markdown",
   "metadata": {},
   "source": [
    "### Cargar librerías"
   ]
  },
  {
   "cell_type": "code",
   "execution_count": 1,
   "metadata": {},
   "outputs": [],
   "source": [
    "# Cargar librerías\n",
    "import pandas as pd\n",
    "import matplotlib.pyplot as plt \n",
    "from sklearn.preprocessing import StandardScaler\n",
    "from sklearn.model_selection import train_test_split\n",
    "from sklearn.linear_model import LinearRegression \n",
    "from statistics import mean \n",
    "from sklearn.metrics import mean_squared_error \n",
    "import numpy as np \n",
    "from numpy.random import RandomState"
   ]
  },
  {
   "cell_type": "code",
   "execution_count": 2,
   "metadata": {},
   "outputs": [],
   "source": [
    "# Cargar archivos de datos\n",
    "df0 = pd.read_csv('/datasets/geo_data_0.csv')\n",
    "df1 = pd.read_csv('/datasets/geo_data_1.csv')\n",
    "df2 = pd.read_csv('/datasets/geo_data_2.csv')"
   ]
  },
  {
   "cell_type": "code",
   "execution_count": 3,
   "metadata": {},
   "outputs": [
    {
     "name": "stdout",
     "output_type": "stream",
     "text": [
      "      id        f0        f1        f2     product\n",
      "0  txEyH  0.705745 -0.497823  1.221170  105.280062\n",
      "1  2acmU  1.334711 -0.340164  4.365080   73.037750\n",
      "2  409Wp  1.022732  0.151990  1.419926   85.265647\n",
      "\n",
      "      id         f0        f1        f2     product\n",
      "0  kBEdx -15.001348 -8.276000 -0.005876    3.179103\n",
      "1  62mP7  14.272088 -3.475083  0.999183   26.953261\n",
      "2  vyE1P   6.263187 -5.948386  5.001160  134.766305\n",
      "\n",
      "      id        f0        f1        f2    product\n",
      "0  fwXo0 -1.146987  0.963328 -0.828965  27.758673\n",
      "1  WJtFt  0.262778  0.269839 -2.530187  56.069697\n",
      "2  ovLUW  0.194587  0.289035 -5.586433  62.871910\n",
      "\n"
     ]
    }
   ],
   "source": [
    "# Vista previa\n",
    "for df in [df0,df1,df2]:\n",
    "    print(df.head(3))\n",
    "    print()"
   ]
  },
  {
   "cell_type": "code",
   "execution_count": 4,
   "metadata": {},
   "outputs": [
    {
     "name": "stdout",
     "output_type": "stream",
     "text": [
      "<class 'pandas.core.frame.DataFrame'>\n",
      "RangeIndex: 100000 entries, 0 to 99999\n",
      "Data columns (total 5 columns):\n",
      " #   Column   Non-Null Count   Dtype  \n",
      "---  ------   --------------   -----  \n",
      " 0   id       100000 non-null  object \n",
      " 1   f0       100000 non-null  float64\n",
      " 2   f1       100000 non-null  float64\n",
      " 3   f2       100000 non-null  float64\n",
      " 4   product  100000 non-null  float64\n",
      "dtypes: float64(4), object(1)\n",
      "memory usage: 3.8+ MB\n",
      "None\n",
      "\n",
      "<class 'pandas.core.frame.DataFrame'>\n",
      "RangeIndex: 100000 entries, 0 to 99999\n",
      "Data columns (total 5 columns):\n",
      " #   Column   Non-Null Count   Dtype  \n",
      "---  ------   --------------   -----  \n",
      " 0   id       100000 non-null  object \n",
      " 1   f0       100000 non-null  float64\n",
      " 2   f1       100000 non-null  float64\n",
      " 3   f2       100000 non-null  float64\n",
      " 4   product  100000 non-null  float64\n",
      "dtypes: float64(4), object(1)\n",
      "memory usage: 3.8+ MB\n",
      "None\n",
      "\n",
      "<class 'pandas.core.frame.DataFrame'>\n",
      "RangeIndex: 100000 entries, 0 to 99999\n",
      "Data columns (total 5 columns):\n",
      " #   Column   Non-Null Count   Dtype  \n",
      "---  ------   --------------   -----  \n",
      " 0   id       100000 non-null  object \n",
      " 1   f0       100000 non-null  float64\n",
      " 2   f1       100000 non-null  float64\n",
      " 3   f2       100000 non-null  float64\n",
      " 4   product  100000 non-null  float64\n",
      "dtypes: float64(4), object(1)\n",
      "memory usage: 3.8+ MB\n",
      "None\n",
      "\n"
     ]
    }
   ],
   "source": [
    "# Información general\n",
    "for df in [df0,df1,df2]:\n",
    "    print(df.info())\n",
    "    print()"
   ]
  },
  {
   "cell_type": "code",
   "execution_count": 5,
   "metadata": {
    "scrolled": true
   },
   "outputs": [
    {
     "name": "stdout",
     "output_type": "stream",
     "text": [
      "                  f0             f1             f2        product\n",
      "count  100000.000000  100000.000000  100000.000000  100000.000000\n",
      "mean        0.500419       0.250143       2.502647      92.500000\n",
      "std         0.871832       0.504433       3.248248      44.288691\n",
      "min        -1.408605      -0.848218     -12.088328       0.000000\n",
      "25%        -0.072580      -0.200881       0.287748      56.497507\n",
      "50%         0.502360       0.250252       2.515969      91.849972\n",
      "75%         1.073581       0.700646       4.715088     128.564089\n",
      "max         2.362331       1.343769      16.003790     185.364347\n",
      "\n",
      "                  f0             f1             f2        product\n",
      "count  100000.000000  100000.000000  100000.000000  100000.000000\n",
      "mean        1.141296      -4.796579       2.494541      68.825000\n",
      "std         8.965932       5.119872       1.703572      45.944423\n",
      "min       -31.609576     -26.358598      -0.018144       0.000000\n",
      "25%        -6.298551      -8.267985       1.000021      26.953261\n",
      "50%         1.153055      -4.813172       2.011479      57.085625\n",
      "75%         8.621015      -1.332816       3.999904     107.813044\n",
      "max        29.421755      18.734063       5.019721     137.945408\n",
      "\n",
      "                  f0             f1             f2        product\n",
      "count  100000.000000  100000.000000  100000.000000  100000.000000\n",
      "mean        0.002023      -0.002081       2.495128      95.000000\n",
      "std         1.732045       1.730417       3.473445      44.749921\n",
      "min        -8.760004      -7.084020     -11.970335       0.000000\n",
      "25%        -1.162288      -1.174820       0.130359      59.450441\n",
      "50%         0.009424      -0.009482       2.484236      94.925613\n",
      "75%         1.158535       1.163678       4.858794     130.595027\n",
      "max         7.238262       7.844801      16.739402     190.029838\n",
      "\n"
     ]
    }
   ],
   "source": [
    "# Descripción general de los datos\n",
    "for df in [df0,df1,df2]:\n",
    "    print(df.describe())\n",
    "    print()"
   ]
  },
  {
   "cell_type": "code",
   "execution_count": 6,
   "metadata": {},
   "outputs": [
    {
     "name": "stdout",
     "output_type": "stream",
     "text": [
      "               f0        f1        f2   product\n",
      "f0       1.000000 -0.440723 -0.003153  0.143536\n",
      "f1      -0.440723  1.000000  0.001724 -0.192356\n",
      "f2      -0.003153  0.001724  1.000000  0.483663\n",
      "product  0.143536 -0.192356  0.483663  1.000000\n",
      "\n",
      "               f0        f1        f2   product\n",
      "f0       1.000000  0.182287 -0.001777 -0.030491\n",
      "f1       0.182287  1.000000 -0.002595 -0.010155\n",
      "f2      -0.001777 -0.002595  1.000000  0.999397\n",
      "product -0.030491 -0.010155  0.999397  1.000000\n",
      "\n",
      "               f0        f1        f2   product\n",
      "f0       1.000000  0.000528 -0.000448 -0.001987\n",
      "f1       0.000528  1.000000  0.000779 -0.001012\n",
      "f2      -0.000448  0.000779  1.000000  0.445871\n",
      "product -0.001987 -0.001012  0.445871  1.000000\n",
      "\n"
     ]
    }
   ],
   "source": [
    "# correlación entre datos\n",
    "for df in [df0,df1,df2]:\n",
    "    print(df.corr())\n",
    "    print()"
   ]
  },
  {
   "cell_type": "markdown",
   "metadata": {},
   "source": [
    "###### Hallazgos:\n",
    "\n",
    "- Es observable una ligera correlación negativa entre la columna **f1** y la columna objetivo **product** en los 3 datasets.\n",
    "\n",
    "- En el segundo dataset, hay una fuerte correlación, de casi 1, entre la columna **f2** y **product**. En los otros dos datasets también se observa una correlación significativa de la mitad entre estas dos.\n",
    "\n",
    "- No hay prescencia de valores ausentes en los dataframes y los datos de las columnas son del tipo correcto."
   ]
  },
  {
   "cell_type": "markdown",
   "metadata": {},
   "source": [
    "## Preprocesamiento de datos"
   ]
  },
  {
   "cell_type": "markdown",
   "metadata": {},
   "source": [
    "La columna 'id' es el identificador único de cada pozo, pero no es necesario para este análisis por lo que se procede a  eliminar esta columna de los dataframes para conveniencia."
   ]
  },
  {
   "cell_type": "code",
   "execution_count": 7,
   "metadata": {},
   "outputs": [],
   "source": [
    "#Eliminar columnas\n",
    "df0 = df0.drop('id',axis=1)\n",
    "df1 = df1.drop('id',axis=1)\n",
    "df2 = df2.drop('id',axis=1)"
   ]
  },
  {
   "cell_type": "markdown",
   "metadata": {},
   "source": [
    "Ya con los dataframes listos se proocede al entrenamiento de modelos, en el que se usará el modelo de regresión lineal para los 3 dataframes por la alta precisión y predicibilidad. En el entrenamiento de los modelos, se separarán en un conjunto de entrenamiento y de validación de proporción de 75:25."
   ]
  },
  {
   "cell_type": "markdown",
   "metadata": {},
   "source": [
    "## Modelos por Región"
   ]
  },
  {
   "cell_type": "markdown",
   "metadata": {},
   "source": [
    "### Modelo Región 0 (df_0)"
   ]
  },
  {
   "cell_type": "markdown",
   "metadata": {},
   "source": [
    "#### Separar datos"
   ]
  },
  {
   "cell_type": "code",
   "execution_count": 8,
   "metadata": {},
   "outputs": [],
   "source": [
    "# Dividir datos en conjunto de entrenamiento y de validación\n",
    "df0_train, df0_valid = train_test_split(df0,test_size=0.25,random_state=12345)"
   ]
  },
  {
   "cell_type": "code",
   "execution_count": 9,
   "metadata": {},
   "outputs": [],
   "source": [
    "# Separar variables de conjunto de entrenamiento\n",
    "df0_train_features = df0_train.drop('product',axis=1)\n",
    "df0_train_target =  df0_train['product']"
   ]
  },
  {
   "cell_type": "code",
   "execution_count": 10,
   "metadata": {},
   "outputs": [],
   "source": [
    "# Separar variables de conjunto de validación\n",
    "df0_valid_features = df0_valid.drop('product',axis=1)\n",
    "df0_valid_target =  df0_valid['product']"
   ]
  },
  {
   "cell_type": "markdown",
   "metadata": {},
   "source": [
    "#### Escalar datos"
   ]
  },
  {
   "cell_type": "code",
   "execution_count": 11,
   "metadata": {},
   "outputs": [
    {
     "data": {
      "image/png": "[encoded data removed]",
      "text/plain": [
       "<Figure size 1296x288 with 3 Axes>"
      ]
     },
     "metadata": {
      "needs_background": "light"
     },
     "output_type": "display_data"
    }
   ],
   "source": [
    "# Visualizar escalas de los datos del df0\n",
    "plt.subplots(figsize=(18, 4)) \n",
    "\n",
    "#enumerate extrae el índice y el nombre de la columna, el índice le dice al subplot dónde poner el gráfico \n",
    "for i, column in enumerate(['f0','f1','f2']): \n",
    "    df0.hist(column=column, ax=plt.subplot(1, 3, i + 1))\n",
    "plt.show() "
   ]
  },
  {
   "cell_type": "markdown",
   "metadata": {},
   "source": [
    "Las columnas númericas, **f0**, **f1** y **f2**, tienen distintas escalas por lo que se procede a estandarizarlas para darles la misma importancia y mejorar el modelo."
   ]
  },
  {
   "cell_type": "code",
   "execution_count": 12,
   "metadata": {},
   "outputs": [
    {
     "data": {
      "text/html": [
       "<div>\n",
       "<style scoped>\n",
       "    .dataframe tbody tr th:only-of-type {\n",
       "        vertical-align: middle;\n",
       "    }\n",
       "\n",
       "    .dataframe tbody tr th {\n",
       "        vertical-align: top;\n",
       "    }\n",
       "\n",
       "    .dataframe thead th {\n",
       "        text-align: right;\n",
       "    }\n",
       "</style>\n",
       "<table border=\"1\" class=\"dataframe\">\n",
       "  <thead>\n",
       "    <tr style=\"text-align: right;\">\n",
       "      <th></th>\n",
       "      <th>f0</th>\n",
       "      <th>f1</th>\n",
       "      <th>f2</th>\n",
       "    </tr>\n",
       "  </thead>\n",
       "  <tbody>\n",
       "    <tr>\n",
       "      <th>27212</th>\n",
       "      <td>-0.544828</td>\n",
       "      <td>1.390264</td>\n",
       "      <td>-0.094959</td>\n",
       "    </tr>\n",
       "    <tr>\n",
       "      <th>7866</th>\n",
       "      <td>1.455912</td>\n",
       "      <td>-0.480422</td>\n",
       "      <td>1.209567</td>\n",
       "    </tr>\n",
       "    <tr>\n",
       "      <th>62041</th>\n",
       "      <td>0.260460</td>\n",
       "      <td>0.825069</td>\n",
       "      <td>-0.204865</td>\n",
       "    </tr>\n",
       "    <tr>\n",
       "      <th>70185</th>\n",
       "      <td>-1.837105</td>\n",
       "      <td>0.010321</td>\n",
       "      <td>-0.147634</td>\n",
       "    </tr>\n",
       "    <tr>\n",
       "      <th>82230</th>\n",
       "      <td>-1.299243</td>\n",
       "      <td>0.987558</td>\n",
       "      <td>1.273181</td>\n",
       "    </tr>\n",
       "  </tbody>\n",
       "</table>\n",
       "</div>"
      ],
      "text/plain": [
       "             f0        f1        f2\n",
       "27212 -0.544828  1.390264 -0.094959\n",
       "7866   1.455912 -0.480422  1.209567\n",
       "62041  0.260460  0.825069 -0.204865\n",
       "70185 -1.837105  0.010321 -0.147634\n",
       "82230 -1.299243  0.987558  1.273181"
      ]
     },
     "execution_count": 12,
     "metadata": {},
     "output_type": "execute_result"
    }
   ],
   "source": [
    "# Escalar datos\n",
    "numeric = ['f0','f1','f2']\n",
    "scaler = StandardScaler()\n",
    "scaler.fit(df0_train_features[numeric]) \n",
    "\n",
    "#Escalar las características de todos los conjuntos de datos\n",
    "df0_train_features[numeric] = scaler.transform(df0_train_features[numeric]) \n",
    "df0_valid_features[numeric] = scaler.transform(df0_valid_features[numeric]) \n",
    "\n",
    "#Verificar cambios\n",
    "df0_train_features.head()"
   ]
  },
  {
   "cell_type": "markdown",
   "metadata": {},
   "source": [
    "#### Entrenar modelo"
   ]
  },
  {
   "cell_type": "markdown",
   "metadata": {},
   "source": [
    "Se crea una función para entrenar el modelo por región y análizarlo."
   ]
  },
  {
   "cell_type": "code",
   "execution_count": 13,
   "metadata": {},
   "outputs": [],
   "source": [
    "# Función para el entrenamiento del modelo y analísis\n",
    "def model_analysis (df_train_features,df_train_target,df_valid_features,df_valid_target):\n",
    "    #Entrenar modelo\n",
    "    model = LinearRegression()\n",
    "    model.fit(df_train_features,df_train_target)\n",
    "    \n",
    "    #Predicciones del conjunto de validación\n",
    "    df_valid_predict = model.predict(df_valid_features)\n",
    "    print('Promedio de reservas previstas', round(mean(df_valid_predict),3),'(miles de barriles)')\n",
    "    print()\n",
    "    \n",
    "    #Calcular RECM (raíz cuadrada del error cuadrático medio)\n",
    "    mse = mean_squared_error(df_valid_target,df_valid_predict)\n",
    "    print(\"MSE =\", round(mse,3))\n",
    "    print(\"RMSE =\", round(mse ** 0.5,3))\n",
    "    \n",
    "    #Prueba de cordura\n",
    "    predictions = pd.Series(df_train_target.mean(), index=df_valid_target.index)  \n",
    "    mse = mean_squared_error(df_valid_target, predictions) \n",
    "    print()\n",
    "    print('Mean') \n",
    "    print('MSE =', round(mse,3))\n",
    "    print('RMSE =', round(mse ** 0.5,3))\n",
    "    \n",
    "    return model, df_valid_predict"
   ]
  },
  {
   "cell_type": "code",
   "execution_count": 14,
   "metadata": {},
   "outputs": [
    {
     "name": "stdout",
     "output_type": "stream",
     "text": [
      "Promedio de reservas previstas 92.593 (miles de barriles)\n",
      "\n",
      "MSE = 1412.213\n",
      "RMSE = 37.579\n",
      "\n",
      "Mean\n",
      "MSE = 1961.568\n",
      "RMSE = 44.29\n"
     ]
    }
   ],
   "source": [
    "#Aplicar función a los datos de la región 0 (df_0)\n",
    "model0, df0_valid_predict= model_analysis(df0_train_features,df0_train_target,df0_valid_features,df0_valid_target)\n",
    "     "
   ]
  },
  {
   "cell_type": "markdown",
   "metadata": {},
   "source": [
    "- El RMSE al usar la media es de más de 6 mil barriles más que con el conjunto de validación.\n",
    "\n",
    "- Los RMSE anteriores son cercanos, detalle que disminuye la confiabilidad del modelo."
   ]
  },
  {
   "cell_type": "markdown",
   "metadata": {},
   "source": [
    "### Modelo Región 1"
   ]
  },
  {
   "cell_type": "markdown",
   "metadata": {},
   "source": [
    "#### Separar datos"
   ]
  },
  {
   "cell_type": "code",
   "execution_count": 15,
   "metadata": {},
   "outputs": [],
   "source": [
    "#Dividir datos en conjunto de entrenamiento y de validación\n",
    "df1_train, df1_valid = train_test_split(df1,test_size=0.25,random_state=12345)"
   ]
  },
  {
   "cell_type": "code",
   "execution_count": 16,
   "metadata": {},
   "outputs": [],
   "source": [
    "#Separar variables de conjunto de entrenamiento\n",
    "df1_train_features = df1_train.drop('product',axis=1)\n",
    "df1_train_target =  df1_train['product']"
   ]
  },
  {
   "cell_type": "code",
   "execution_count": 17,
   "metadata": {},
   "outputs": [],
   "source": [
    "#Separar variables de conjunto de validación\n",
    "df1_valid_features = df1_valid.drop('product',axis=1)\n",
    "df1_valid_target =  df1_valid['product']"
   ]
  },
  {
   "cell_type": "markdown",
   "metadata": {},
   "source": [
    "#### Escalar datos"
   ]
  },
  {
   "cell_type": "code",
   "execution_count": 18,
   "metadata": {},
   "outputs": [
    {
     "data": {
      "image/png": "[encoded data removed]",
      "text/plain": [
       "<Figure size 1296x288 with 3 Axes>"
      ]
     },
     "metadata": {
      "needs_background": "light"
     },
     "output_type": "display_data"
    }
   ],
   "source": [
    "#Visualizar escalas de los datos del df1\n",
    "plt.subplots(figsize=(18, 4)) \n",
    "\n",
    "#enumerate extrae el índice y el nombre de la columna, el índice le dice al subplot dónde poner el gráfico \n",
    "for i, column in enumerate(['f0','f1','f2']): \n",
    "    df1.hist(column=column, ax=plt.subplot(1, 3, i + 1))\n",
    "plt.show() "
   ]
  },
  {
   "cell_type": "markdown",
   "metadata": {},
   "source": [
    "Las columnas númericas **f0**, **f1** y **f2**, tienen distintas escalas por lo que hay que estandarizarlas para darles la misma importancia y mejorar el modelo."
   ]
  },
  {
   "cell_type": "code",
   "execution_count": 19,
   "metadata": {},
   "outputs": [
    {
     "data": {
      "text/html": [
       "<div>\n",
       "<style scoped>\n",
       "    .dataframe tbody tr th:only-of-type {\n",
       "        vertical-align: middle;\n",
       "    }\n",
       "\n",
       "    .dataframe tbody tr th {\n",
       "        vertical-align: top;\n",
       "    }\n",
       "\n",
       "    .dataframe thead th {\n",
       "        text-align: right;\n",
       "    }\n",
       "</style>\n",
       "<table border=\"1\" class=\"dataframe\">\n",
       "  <thead>\n",
       "    <tr style=\"text-align: right;\">\n",
       "      <th></th>\n",
       "      <th>f0</th>\n",
       "      <th>f1</th>\n",
       "      <th>f2</th>\n",
       "    </tr>\n",
       "  </thead>\n",
       "  <tbody>\n",
       "    <tr>\n",
       "      <th>27212</th>\n",
       "      <td>-0.850855</td>\n",
       "      <td>0.624428</td>\n",
       "      <td>0.296943</td>\n",
       "    </tr>\n",
       "    <tr>\n",
       "      <th>7866</th>\n",
       "      <td>1.971935</td>\n",
       "      <td>1.832275</td>\n",
       "      <td>0.294333</td>\n",
       "    </tr>\n",
       "    <tr>\n",
       "      <th>62041</th>\n",
       "      <td>1.079305</td>\n",
       "      <td>0.170127</td>\n",
       "      <td>-0.296418</td>\n",
       "    </tr>\n",
       "    <tr>\n",
       "      <th>70185</th>\n",
       "      <td>-1.512028</td>\n",
       "      <td>-0.887837</td>\n",
       "      <td>-0.880471</td>\n",
       "    </tr>\n",
       "    <tr>\n",
       "      <th>82230</th>\n",
       "      <td>-1.804775</td>\n",
       "      <td>-0.718311</td>\n",
       "      <td>-0.293255</td>\n",
       "    </tr>\n",
       "  </tbody>\n",
       "</table>\n",
       "</div>"
      ],
      "text/plain": [
       "             f0        f1        f2\n",
       "27212 -0.850855  0.624428  0.296943\n",
       "7866   1.971935  1.832275  0.294333\n",
       "62041  1.079305  0.170127 -0.296418\n",
       "70185 -1.512028 -0.887837 -0.880471\n",
       "82230 -1.804775 -0.718311 -0.293255"
      ]
     },
     "execution_count": 19,
     "metadata": {},
     "output_type": "execute_result"
    }
   ],
   "source": [
    "#Escalar datos\n",
    "numeric = ['f0','f1','f2']\n",
    "scaler = StandardScaler()\n",
    "scaler.fit(df1_train_features[numeric]) \n",
    "\n",
    "#Escalar las características de todos los conjuntos de datos\n",
    "df1_train_features[numeric] = scaler.transform(df1_train_features[numeric]) \n",
    "df1_valid_features[numeric] = scaler.transform(df1_valid_features[numeric]) \n",
    "\n",
    "#Verificar cambios\n",
    "df1_train_features.head()"
   ]
  },
  {
   "cell_type": "markdown",
   "metadata": {},
   "source": [
    "#### Entrenar modelo"
   ]
  },
  {
   "cell_type": "code",
   "execution_count": 20,
   "metadata": {},
   "outputs": [
    {
     "name": "stdout",
     "output_type": "stream",
     "text": [
      "Promedio de reservas previstas 68.729 (miles de barriles)\n",
      "\n",
      "MSE = 0.798\n",
      "RMSE = 0.893\n",
      "\n",
      "Mean\n",
      "MSE = 2117.973\n",
      "RMSE = 46.021\n"
     ]
    }
   ],
   "source": [
    "#Aplicar función 'model_analysis' a los datos de la región 1\n",
    "model1, df1_valid_predict= model_analysis(df1_train_features,df1_train_target,df1_valid_features,df1_valid_target)"
   ]
  },
  {
   "cell_type": "markdown",
   "metadata": {},
   "source": [
    "- El RMSE al usar la media es de más de 45 mil barriles más que con el conjunto de validación.\n",
    "\n",
    "- El modelo tiene un RMSE cercano a cero y muy alejado del de la prueba de cordura, detalle que le da confiabilidad al modelo."
   ]
  },
  {
   "cell_type": "markdown",
   "metadata": {},
   "source": [
    "### Modelo Región 2"
   ]
  },
  {
   "cell_type": "markdown",
   "metadata": {},
   "source": [
    "#### Separar datos"
   ]
  },
  {
   "cell_type": "code",
   "execution_count": 21,
   "metadata": {},
   "outputs": [],
   "source": [
    "#Dividir datos en conjunto de entrenamiento y de validación\n",
    "df2_train, df2_valid = train_test_split(df2,test_size=0.25,random_state=12345)"
   ]
  },
  {
   "cell_type": "code",
   "execution_count": 22,
   "metadata": {},
   "outputs": [],
   "source": [
    "#Separar variables de conjunto de entrenamiento\n",
    "df2_train_features = df2_train.drop('product',axis=1)\n",
    "df2_train_target =  df2_train['product']"
   ]
  },
  {
   "cell_type": "code",
   "execution_count": 23,
   "metadata": {},
   "outputs": [],
   "source": [
    "#Separar variables de conjunto de validación\n",
    "df2_valid_features = df2_valid.drop('product',axis=1)\n",
    "df2_valid_target =  df2_valid['product']"
   ]
  },
  {
   "cell_type": "markdown",
   "metadata": {},
   "source": [
    "#### Escalar datos"
   ]
  },
  {
   "cell_type": "code",
   "execution_count": 24,
   "metadata": {},
   "outputs": [
    {
     "data": {
      "image/png": "[encoded data removed]",
      "text/plain": [
       "<Figure size 1296x288 with 3 Axes>"
      ]
     },
     "metadata": {
      "needs_background": "light"
     },
     "output_type": "display_data"
    }
   ],
   "source": [
    "#Visualizar escalas de los datos del df2\n",
    "plt.subplots(figsize=(18, 4)) \n",
    "\n",
    "#enumerate extrae el índice y el nombre de la columna, el índice le dice al subplot dónde poner el gráfico \n",
    "for i, column in enumerate(['f0','f1','f2']): \n",
    "    df2.hist(column=column, ax=plt.subplot(1, 3, i + 1))\n",
    "plt.show() "
   ]
  },
  {
   "cell_type": "markdown",
   "metadata": {},
   "source": [
    "Las columnas númericas **f0** y **f1** tienen escalas similares, sin embargo la columna **f2** muestra una escala diferente a las otras pues sus valores mínimo y máximo se alejan de los de las otras dos columnas. Hay que estandarizar los datos para darles la misma importancia y mejorar el modelo."
   ]
  },
  {
   "cell_type": "code",
   "execution_count": 25,
   "metadata": {},
   "outputs": [
    {
     "data": {
      "text/html": [
       "<div>\n",
       "<style scoped>\n",
       "    .dataframe tbody tr th:only-of-type {\n",
       "        vertical-align: middle;\n",
       "    }\n",
       "\n",
       "    .dataframe tbody tr th {\n",
       "        vertical-align: top;\n",
       "    }\n",
       "\n",
       "    .dataframe thead th {\n",
       "        text-align: right;\n",
       "    }\n",
       "</style>\n",
       "<table border=\"1\" class=\"dataframe\">\n",
       "  <thead>\n",
       "    <tr style=\"text-align: right;\">\n",
       "      <th></th>\n",
       "      <th>f0</th>\n",
       "      <th>f1</th>\n",
       "      <th>f2</th>\n",
       "    </tr>\n",
       "  </thead>\n",
       "  <tbody>\n",
       "    <tr>\n",
       "      <th>27212</th>\n",
       "      <td>-0.526160</td>\n",
       "      <td>0.776329</td>\n",
       "      <td>-0.400793</td>\n",
       "    </tr>\n",
       "    <tr>\n",
       "      <th>7866</th>\n",
       "      <td>-0.889625</td>\n",
       "      <td>-0.404070</td>\n",
       "      <td>-1.222936</td>\n",
       "    </tr>\n",
       "    <tr>\n",
       "      <th>62041</th>\n",
       "      <td>-1.133984</td>\n",
       "      <td>0.208576</td>\n",
       "      <td>0.296765</td>\n",
       "    </tr>\n",
       "    <tr>\n",
       "      <th>70185</th>\n",
       "      <td>1.227045</td>\n",
       "      <td>1.570166</td>\n",
       "      <td>-0.764556</td>\n",
       "    </tr>\n",
       "    <tr>\n",
       "      <th>82230</th>\n",
       "      <td>-0.194289</td>\n",
       "      <td>0.878312</td>\n",
       "      <td>0.840821</td>\n",
       "    </tr>\n",
       "  </tbody>\n",
       "</table>\n",
       "</div>"
      ],
      "text/plain": [
       "             f0        f1        f2\n",
       "27212 -0.526160  0.776329 -0.400793\n",
       "7866  -0.889625 -0.404070 -1.222936\n",
       "62041 -1.133984  0.208576  0.296765\n",
       "70185  1.227045  1.570166 -0.764556\n",
       "82230 -0.194289  0.878312  0.840821"
      ]
     },
     "execution_count": 25,
     "metadata": {},
     "output_type": "execute_result"
    }
   ],
   "source": [
    "#Escalar datos\n",
    "numeric = ['f0','f1','f2']\n",
    "scaler = StandardScaler()\n",
    "scaler.fit(df2_train_features[numeric]) \n",
    "\n",
    "#Escalar las características de todos los conjuntos de datos\n",
    "df2_train_features[numeric] = scaler.transform(df2_train_features[numeric]) \n",
    "df2_valid_features[numeric] = scaler.transform(df2_valid_features[numeric]) \n",
    "\n",
    "#Verificar cambios\n",
    "df2_train_features.head()"
   ]
  },
  {
   "cell_type": "markdown",
   "metadata": {},
   "source": [
    "#### Entrenar modelo"
   ]
  },
  {
   "cell_type": "code",
   "execution_count": 26,
   "metadata": {},
   "outputs": [
    {
     "name": "stdout",
     "output_type": "stream",
     "text": [
      "Promedio de reservas previstas 94.965 (miles de barriles)\n",
      "\n",
      "MSE = 1602.378\n",
      "RMSE = 40.03\n",
      "\n",
      "Mean\n",
      "MSE = 2016.221\n",
      "RMSE = 44.902\n"
     ]
    }
   ],
   "source": [
    "#Aplicar función a los datos de la región 2\n",
    "model2, df2_valid_predict= model_analysis(df2_train_features,df2_train_target,df2_valid_features,df2_valid_target)"
   ]
  },
  {
   "cell_type": "markdown",
   "metadata": {},
   "source": [
    "- El RMSE al usar la media es de más de 4 mil barriles más que con el conjunto de validación.\n",
    "\n",
    "- Los RMSE anteriores son cercanos, disminuyendo la confiabilidad del modelo."
   ]
  },
  {
   "cell_type": "markdown",
   "metadata": {},
   "source": [
    "## Cálculo de ganancias"
   ]
  },
  {
   "cell_type": "markdown",
   "metadata": {},
   "source": [
    "Considerando que:\n",
    "\n",
    "- El presupuesto para el desarrollo de 200 pozos petroleros es de 100 millones de dólares (0.5 millones por pozo).\n",
    "\n",
    "- Un barril de materias primas genera 4.5 USD de ingresos. El ingreso de una unidad de producto es de 4500 dólares (el volumen de reservas está expresado en miles de barriles)."
   ]
  },
  {
   "cell_type": "markdown",
   "metadata": {},
   "source": [
    "### Costo de un pozo"
   ]
  },
  {
   "cell_type": "code",
   "execution_count": 27,
   "metadata": {},
   "outputs": [
    {
     "name": "stdout",
     "output_type": "stream",
     "text": [
      "Miles de barriles necesarios para cubrir el costo de un pozo:  111.11\n"
     ]
    }
   ],
   "source": [
    "#Cálculo de volumen de reservas para desarrollar un pozo sin pérdidas\n",
    "costo_200p = 100000000\n",
    "costo_pozo = costo_200p /200\n",
    "ingreso = 4500\n",
    "print('Miles de barriles necesarios para cubrir el costo de un pozo: ', round(costo_pozo / ingreso,2))"
   ]
  },
  {
   "cell_type": "markdown",
   "metadata": {},
   "source": [
    "Los barriles necesarios para cubrir el costo del desarrollo de un pozo petrólero superan el volumen promedio obtenido en todas las regiones."
   ]
  },
  {
   "cell_type": "markdown",
   "metadata": {},
   "source": [
    "### Ganancia de un conjunto de pozos"
   ]
  },
  {
   "cell_type": "markdown",
   "metadata": {},
   "source": [
    "Se crea una función para calcular la ganancia de un conjunto de pozos donde se le da a la función:\n",
    "\n",
    "- Volumen generado\n",
    "- Número de pozos\n",
    "\n",
    "La función ya cuenta con la información:\n",
    "\n",
    "- Ingreso por unidad de producto (4500 dólares)\n",
    "- Costo por pozo"
   ]
  },
  {
   "cell_type": "code",
   "execution_count": 28,
   "metadata": {},
   "outputs": [],
   "source": [
    "# función 'ganancia' para calcular ganancia\n",
    "def ganancia(volumen,pozos):\n",
    "    return (sum(volumen) * ingreso) - (costo_pozo * pozos)"
   ]
  },
  {
   "cell_type": "markdown",
   "metadata": {},
   "source": [
    "### Ganancia de los mejores pozos por región"
   ]
  },
  {
   "cell_type": "markdown",
   "metadata": {},
   "source": [
    "Se toma el 10% de las predicciones más altas de volumen por región y se calculan las ganancias de este 10%.\n",
    "\n"
   ]
  },
  {
   "cell_type": "markdown",
   "metadata": {},
   "source": [
    "#### Región 0"
   ]
  },
  {
   "cell_type": "code",
   "execution_count": 29,
   "metadata": {},
   "outputs": [
    {
     "name": "stdout",
     "output_type": "stream",
     "text": [
      "Volumen real: 1646860.876\n",
      "Volumen promedio real por pozo: 164.686\n",
      "\n",
      "Volumen predecido: 1989304.8\n",
      "Volumen promedio predecido por pozo: 198.93\n",
      "\n",
      "Ganancia prevista del 10% de los pozos con más volumen de la región 0:  3951871600.6 dólares\n",
      "Ganancia prevista promedio por pozo, de los pozos con más volumen de la región 0:  395187.16 dólares\n"
     ]
    }
   ],
   "source": [
    "#Pozos más productivos de la región 0\n",
    "df0_top10 = df0.sort_values(by='product',ascending=False).head(10000)\n",
    "\n",
    "#Separar características\n",
    "df0_top10_features = df0_top10.drop('product',axis=1)\n",
    "\n",
    "#Predicción del top 10%\n",
    "df0_top10_predict =  model0.predict(df0_top10_features)\n",
    "\n",
    "print('Volumen real:',round(sum(df0_top10['product']),3))\n",
    "print('Volumen promedio real por pozo:',round(mean(df0_top10['product']),3))\n",
    "print()\n",
    "print('Volumen predecido:',round(sum(df0_top10_predict),3))\n",
    "print('Volumen promedio predecido por pozo:', round(mean(df0_top10_predict),3))\n",
    "print()\n",
    "\n",
    "#Calcular ganancias \n",
    "print ('Ganancia prevista del 10% de los pozos con más volumen de la región 0: ',\n",
    "        round(ganancia(df0_top10_predict,10000),3),'dólares')\n",
    "print('Ganancia prevista promedio por pozo, de los pozos con más volumen de la región 0: ',\n",
    "        round(ganancia(df0_top10_predict,10000)/10000,3),'dólares')"
   ]
  },
  {
   "cell_type": "markdown",
   "metadata": {},
   "source": [
    "#### Región 1"
   ]
  },
  {
   "cell_type": "code",
   "execution_count": 30,
   "metadata": {},
   "outputs": [
    {
     "name": "stdout",
     "output_type": "stream",
     "text": [
      "Volumen real: 1373836.603\n",
      "Volumen promedio real por pozo: 137.384\n",
      "\n",
      "Volumen predecido: 3036914.963\n",
      "Volumen promedio predecido por pozo: 303.691\n",
      "\n",
      "Ganancia prevista del 10% de los pozos con más volumen de la región 1:  8666117334.966 dólares\n",
      "Ganancia prevista promedio por pozo, de los pozos con más volumen de la región 1:  866611.733 dólares\n"
     ]
    }
   ],
   "source": [
    "#Pozos más productivos de la región 1\n",
    "df1_top10 = df1.sort_values(by='product',ascending=False).head(10000)\n",
    "\n",
    "#Separar características\n",
    "df1_top10_features = df1_top10.drop('product',axis=1)\n",
    "\n",
    "#Predicción del top 10%\n",
    "df1_top10_predict =  model1.predict(df1_top10_features)\n",
    "\n",
    "print('Volumen real:',round(sum(df1_top10['product']),3))\n",
    "print('Volumen promedio real por pozo:',round(mean(df1_top10['product']),3))\n",
    "print()\n",
    "print('Volumen predecido:',round(sum(df1_top10_predict),3))\n",
    "print('Volumen promedio predecido por pozo:', round(mean(df1_top10_predict),3))\n",
    "print()\n",
    "\n",
    "#Calcular ganancias \n",
    "print ('Ganancia prevista del 10% de los pozos con más volumen de la región 1: ',\n",
    "        round(ganancia(df1_top10_predict,10000),3),'dólares')\n",
    "print('Ganancia prevista promedio por pozo, de los pozos con más volumen de la región 1: ',\n",
    "        round(ganancia(df1_top10_predict,10000)/10000,3),'dólares')"
   ]
  },
  {
   "cell_type": "markdown",
   "metadata": {},
   "source": [
    "#### Región 2"
   ]
  },
  {
   "cell_type": "code",
   "execution_count": 31,
   "metadata": {},
   "outputs": [
    {
     "name": "stdout",
     "output_type": "stream",
     "text": [
      "Volumen real: 1688627.382\n",
      "Volumen promedio real por pozo: 168.863\n",
      "\n",
      "Volumen predecido: 1898568.241\n",
      "Volumen promedio predecido por pozo: 189.857\n",
      "\n",
      "Ganancia prevista del 10% de los pozos con más volumen de la región 2:  3543557083.818 dólares\n",
      "Ganancia prevista promedio por pozo, de los pozos con más volumen de la región 2:  354355.708 dólares\n"
     ]
    }
   ],
   "source": [
    "#Pozos más productivos de la región 2\n",
    "df2_top10 = df2.sort_values(by='product',ascending=False).head(10000)\n",
    "\n",
    "#Separar características\n",
    "df2_top10_features = df2_top10.drop('product',axis=1)\n",
    "\n",
    "#Hacer predicción del top 10%\n",
    "df2_top10_predict =  model2.predict(df2_top10_features)\n",
    "\n",
    "print('Volumen real:',round(sum(df2_top10['product']),3))\n",
    "print('Volumen promedio real por pozo:',round(mean(df2_top10['product']),3))\n",
    "print()\n",
    "print('Volumen predecido:',round(sum(df2_top10_predict),3))\n",
    "print('Volumen promedio predecido por pozo:', round(mean(df2_top10_predict),3))\n",
    "print()\n",
    "\n",
    "#Calcular ganancias \n",
    "print ('Ganancia prevista del 10% de los pozos con más volumen de la región 2: ',\n",
    "        round(ganancia(df2_top10_predict,10000),3),'dólares')\n",
    "print('Ganancia prevista promedio por pozo, de los pozos con más volumen de la región 2: ',\n",
    "        round(ganancia(df2_top10_predict,10000)/10000,3),'dólares')"
   ]
  },
  {
   "cell_type": "markdown",
   "metadata": {},
   "source": [
    "### Riesgos y ganancias para cada región"
   ]
  },
  {
   "cell_type": "markdown",
   "metadata": {},
   "source": [
    "A continuación, se usa la técnica bootstrapping con 1000 muestras para predecir la ganancia de las 3 regiones.\n",
    "\n",
    "Se toma en cuenta que al explorar la región, se lleva a cabo un estudio de 500 puntos con la selección de los mejores 200."
   ]
  },
  {
   "cell_type": "code",
   "execution_count": 32,
   "metadata": {},
   "outputs": [],
   "source": [
    "#Función para calcular ganancia de los mejores 200 pozos\n",
    "def ganancia_200(target,predicted):\n",
    "    #Ordenar las mejores predicciones\n",
    "    sort_pred = predicted.sort_values(ascending=False)\n",
    "    \n",
    "    #Seleccionar los mejores 200\n",
    "    select = target[sort_pred.index][:200]\n",
    "    \n",
    "    #Calcular ganancia menos el costo\n",
    "    return (sum(select) * ingreso) - (costo_pozo * 200)"
   ]
  },
  {
   "cell_type": "code",
   "execution_count": 33,
   "metadata": {},
   "outputs": [],
   "source": [
    "state = np.random.RandomState(12345)   \n",
    "\n",
    "#Función para calcular ingresos calculados\n",
    "def ganancia_bootstrapping(target, predictions):\n",
    "    predictions = pd.Series(predictions)\n",
    "    target = target.reset_index(drop=True)\n",
    "    values = []\n",
    "\n",
    "    for i in range(1000): #crear 1,000 submuestras  \n",
    "        pred_subsample = predictions.sample(n=500, replace=True, random_state=state) \n",
    "        target_subsample = target[pred_subsample.index] \n",
    "        values.append(ganancia_200(target_subsample,pred_subsample))\n",
    "\n",
    "    values = pd.Series(values)\n",
    "    mean = round(values.mean(),2)\n",
    "    print(\"Ingresos promedio:\", mean)\n",
    "    \n",
    "    lower = round(values.quantile(.025),2)\n",
    "    upper = round(values.quantile(.975),2)\n",
    "    print('Intervalo de confianza del 95%:[',lower,' , ',upper,']')\n",
    "    \n",
    "    riesgo = round(len(values[values < 0]) / len(values)*100,2)\n",
    "    print('Porcentaje de riesgo:',riesgo,'%')\n",
    "    \n",
    "    return values"
   ]
  },
  {
   "cell_type": "code",
   "execution_count": 34,
   "metadata": {},
   "outputs": [
    {
     "name": "stdout",
     "output_type": "stream",
     "text": [
      "Region 0\n",
      "Ingresos promedio: 4259385.27\n",
      "Intervalo de confianza del 95%:[ -1020900.95  ,  9479763.53 ]\n",
      "Porcentaje de riesgo: 6.0 %\n",
      "\n",
      "Region 1\n",
      "Ingresos promedio: 5182594.94\n",
      "Intervalo de confianza del 95%:[ 1281232.31  ,  9536129.82 ]\n",
      "Porcentaje de riesgo: 0.3 %\n",
      "\n",
      "Region 2\n",
      "Ingresos promedio: 4201940.05\n",
      "Intervalo de confianza del 95%:[ -1158526.09  ,  9896299.4 ]\n",
      "Porcentaje de riesgo: 6.2 %\n"
     ]
    }
   ],
   "source": [
    "#Ganancias por región\n",
    "print('Region 0')\n",
    "ganancias0 = ganancia_bootstrapping(df0_valid_target,df0_valid_predict)\n",
    "print('\\nRegion 1')\n",
    "ganancias1 = ganancia_bootstrapping(df1_valid_target,df1_valid_predict)\n",
    "print('\\nRegion 2')\n",
    "ganancias2 = ganancia_bootstrapping(df2_valid_target,df2_valid_predict)"
   ]
  },
  {
   "cell_type": "code",
   "execution_count": 35,
   "metadata": {},
   "outputs": [
    {
     "data": {
      "image/png": "[encoded data removed]",
      "text/plain": [
       "<Figure size 1080x288 with 3 Axes>"
      ]
     },
     "metadata": {
      "needs_background": "light"
     },
     "output_type": "display_data"
    }
   ],
   "source": [
    "#Gráficas de ganancias por región\n",
    "plt.subplots(figsize=(15, 4))\n",
    "\n",
    "ganancias0.hist(ax=plt.subplot(1,3,1))\n",
    "plt.title('Ganancias región 0')\n",
    "\n",
    "ganancias1.hist(ax=plt.subplot(1,3,2))\n",
    "plt.title('Ganancias región 1')\n",
    "\n",
    "ganancias2.hist(ax=plt.subplot(1,3,3))\n",
    "plt.title('Ganancias región 2')\n",
    "\n",
    "plt.show()"
   ]
  },
  {
   "cell_type": "markdown",
   "metadata": {},
   "source": [
    "## Conclusión / Resultados"
   ]
  },
  {
   "cell_type": "markdown",
   "metadata": {},
   "source": [
    "### Resultados de los modelos por región"
   ]
  },
  {
   "cell_type": "markdown",
   "metadata": {},
   "source": [
    "Región 0\n",
    "\n",
    "- Promedio de reservas previstas 92.593 (miles de barriles)\n",
    "- RMSE = 37.579\n",
    "- RMSE prueba de cordura = 44.29\n",
    "\n",
    "Región 1\n",
    "\n",
    "- Promedio de reservas previstas 68.729 (miles de barriles)\n",
    "- RMSE = 0.893\n",
    "- RMSE prueba de cordura = RMSE = 46.021\n",
    "\n",
    "Región 2\n",
    "\n",
    "- Promedio de reservas previstas 94.965 (miles de barriles)\n",
    "- RMSE = 40.03\n",
    "- RMSE prueba de cordura = RMSE = 44.902\n",
    "\n",
    "Las regiones 0 y 2 tienen un promedio de reservas previstas significativamente alto comparado con el de la región 1. Aunque el RMSE de la región 1 es mínimo mientras que el de las otras dos regiones es muy cercano al error de la prueba de cordura cosa que le quita confiabilidad a estos modelos."
   ]
  },
  {
   "cell_type": "markdown",
   "metadata": {},
   "source": [
    "### Riesgos y ganancias por región"
   ]
  },
  {
   "cell_type": "markdown",
   "metadata": {},
   "source": [
    "Region 0\n",
    "\n",
    "- Ingresos promedio: 4259385.27\n",
    "- Intervalo de confianza del 95%:[ -1020900.95 , 9479763.53 ]\n",
    "- Porcentaje de riesgo: 6 %\n",
    "\n",
    "Region 1\n",
    "\n",
    "- Ingresos promedio: 5182594.94\n",
    "- Intervalo de confianza del 95%: [ 1281232.31 , 9536129.82 ]\n",
    "- Porcentaje de riesgo: 0.3 %\n",
    "\n",
    "Region 2\n",
    "\n",
    "- Ingresos promedio: 4201940.05\n",
    "- Intervalo de confianza del 95%: [ -1158526.09 , 9896299.4 ]\n",
    "- Porcentaje de riesgo: 6 %\n",
    "\n",
    "Hay un riesgo mínimo al crear un pozo en la región 1 ya que hay un 95% de probabilidad de no tener pérdidas mientras que en las otras 2 regiones hay un riesgo del 6%. Asimismo, la región con el ingreso promedio mayor es la 1."
   ]
  },
  {
   "cell_type": "markdown",
   "metadata": {},
   "source": [
    "### Modelo recomendado"
   ]
  },
  {
   "cell_type": "markdown",
   "metadata": {},
   "source": [
    "Al analizar los modelos creados, el modelo de la región 1 fue el de mayor confiabilidad. También el examinar los riesgos y ganancias de cada región, las regiones 0 y 2 tienen riesgo de pérdida mientras que el riesgo de la región 1 es mínimo (0.3%) y esta cuenta con el ingreso promedio más alto; por ello, se sugiere la región 1 como la mejor opción para crear nuevos pozos petroleros por su confiabilidad y ganancias predecidas."
   ]
  },
  {
   "cell_type": "markdown",
   "metadata": {},
   "source": [
    "## Conclusión general"
   ]
  },
  {
   "cell_type": "markdown",
   "metadata": {},
   "source": [
    "El proyecto consiste en encontrar los mejores 200 lugares para abrir 200 nuevos pozos de petróleo\n",
    "\n",
    "### Abrir el dataframe\n",
    "\n",
    "Con la carga de las librerías apropiadas para el proyecto y una revisión del dataframe, no existe mayor novedad como columnas con tipos de datos diferentes o valores ausentes, etc.\n",
    "\n",
    "### Preprocesamiento de datos\n",
    "\n",
    "Se procedió a eliminar la columna 'id' para conveniencia.\n",
    "\n",
    "### Modelos por región\n",
    "\n",
    "Con cada uno de los 3 dataframes se procedió a crear un modelo por dataframe en región 0(df_0), región 1 (df_1), y región 2 (df_2). Un conjunto de entrenamiento y uno de validación con proporciones de 75:25.\n",
    "\n",
    "#### Modelo Región 0\n",
    "\n",
    "Se separaron los datos y se los escalo por la diferencia que existió en las columnas numéricas **f0, f1 y f2**. Se creó una función llamada 'model_analysis' para el entrenamiento de los modelos.\n",
    "\n",
    "- El RMSE al usar la media es de más de 45 mil barriles más que con el conjunto de validación.\n",
    "\n",
    "- El modelo tiene un RMSE cercano a cero y muy alejado del de la prueba de cordura, detalle que le da confiabilidad al modelo.\n",
    "\n",
    "#### Modelo Región 1\n",
    "\n",
    "Se separaron los datos y se los escalo por la diferencia que existió en las columnas numéricas **f0, f1 y f2**. Se usó la función 'model_analysis' para entrenar el modelo.\n",
    "\n",
    "- El RMSE al usar la media es de más de 45 mil barriles más que con el conjunto de validación.\n",
    "\n",
    "- El modelo tiene un RMSE cercano a cero y muy alejado del de la prueba de cordura, detalle que le da confiabilidad al modelo.\n",
    "\n",
    "#### Modelo Región 2\n",
    "\n",
    "Se separaron los datos y se los escalo ya que las columnas númericas **f0** y **f1** tienen escalas similares, sin embargo la columna **f2** muestra una escala diferente a las otras pues sus valores mínimo y máximo se alejan de los de las otras dos columnas. Usando la función 'model_analysis' se entrenó el modelo.\n",
    "\n",
    "- El RMSE al usar la media es de más de 4 mil barriles más que con el conjunto de validación.\n",
    "\n",
    "- Los RMSE anteriores son cercanos, disminuyendo la confiabilidad del modelo.\n",
    "\n",
    "### Cálculo de ganancias\n",
    "\n",
    "El presupuesto para el desarrollo de 200 pozos petroleros es de 100 millones de dólares (0.5 millones por pozo).\n",
    "\n",
    "Un barril de materias primas genera 4.5 USD de ingresos. El ingreso de una unidad de producto es de 4500 dólares (el volumen de reservas está expresado en miles de barriles).\n",
    "\n",
    "Miles de barriles necesarios para cubrir el costo de un pozo:  111.11\n",
    "\n",
    "Se creó una función llamada 'ganancia' para calcular la ganancia.\n",
    "\n",
    "Se toma el 10% de las predicciones más altas de volumen por región y se calculan las ganancias de este 10%.\n",
    "\n",
    "#### Mejores pozos región 0\n",
    "\n",
    "Volumen real: 1646860.876\n",
    "Volumen promedio real por pozo: 164.686\n",
    "\n",
    "Volumen predecido: 1989304.8\n",
    "Volumen promedio predecido por pozo: 198.93\n",
    "\n",
    "Ganancia prevista del 10% de los pozos con más volumen de la región 0:  3951871600.6 dólares\n",
    "Ganancia prevista promedio por pozo, de los pozos con más volumen de la región 0:  395187.16 dólares\n",
    "\n",
    "#### Mejores pozos región 1\n",
    "\n",
    "Volumen real: 1373836.603\n",
    "Volumen promedio real por pozo: 137.384\n",
    "\n",
    "Volumen predecido: 3036914.963\n",
    "Volumen promedio predecido por pozo: 303.691\n",
    "\n",
    "Ganancia prevista del 10% de los pozos con más volumen de la región 1:  8666117334.966 dólares\n",
    "Ganancia prevista promedio por pozo, de los pozos con más volumen de la región 1:  866611.733 dólares\n",
    "\n",
    "#### Mejores pozos región 2\n",
    "\n",
    "Volumen real: 1688627.382\n",
    "Volumen promedio real por pozo: 168.863\n",
    "\n",
    "Volumen predecido: 1898568.241\n",
    "Volumen promedio predecido por pozo: 189.857\n",
    "\n",
    "Ganancia prevista del 10% de los pozos con más volumen de la región 2:  3543557083.818 dólares\n",
    "Ganancia prevista promedio por pozo, de los pozos con más volumen de la región 2:  354355.708 dólares\n",
    "\n",
    "### Riesgo y ganancias para cada región\n",
    "\n",
    "Se uso la técnica bootstrapping con 1000 muestras para predecir la ganancia de las 3 regiones.\n",
    "\n",
    "Tomando en cuenta que al explorar la región, se lleva a cabo un estudio de 500 puntos con la selección de los mejores 200.\n",
    "\n",
    "Region 0\n",
    "Ingresos promedio: 4259385.27\n",
    "Intervalo de confianza del 95%:[ -1020900.95  ,  9479763.53 ]\n",
    "Porcentaje de riesgo: 6.0 %\n",
    "\n",
    "Region 1\n",
    "Ingresos promedio: 5182594.94\n",
    "Intervalo de confianza del 95%:[ 1281232.31  ,  9536129.82 ]\n",
    "Porcentaje de riesgo: 0.3 %\n",
    "\n",
    "Region 2\n",
    "Ingresos promedio: 4201940.05\n",
    "Intervalo de confianza del 95%:[ -1158526.09  ,  9896299.4 ]\n",
    "Porcentaje de riesgo: 6.2 %\n",
    "\n",
    "### RMSE por Región\n",
    "\n",
    "Región 0\n",
    "\n",
    "- Promedio de reservas previstas 92.593 (miles de barriles)\n",
    "- RMSE = 37.579\n",
    "- RMSE prueba de cordura = 44.29\n",
    "\n",
    "Región 1\n",
    "\n",
    "- Promedio de reservas previstas 68.729 (miles de barriles)\n",
    "- RMSE = 0.893\n",
    "- RMSE prueba de cordura = RMSE = 46.021\n",
    "\n",
    "Región 2\n",
    "\n",
    "- Promedio de reservas previstas 94.965 (miles de barriles)\n",
    "- RMSE = 40.03\n",
    "- RMSE prueba de cordura = RMSE = 44.902\n",
    "\n",
    "Las regiones 0 y 2 tienen un promedio de reservas previstas significativamente alto comparado con el de la región 1. Aunque el RMSE de la región 1 es mínimo mientras que el de las otras dos regiones es muy cercano al error de la prueba de cordura cosa que le quita confiabilidad a estos modelos.\n",
    "\n",
    "### Modelo elegido / recomendado\n",
    "\n",
    "Al analizar los modelos creados, el modelo de la región 1 fue el de mayor confiabilidad. También el examinar los riesgos y ganancias de cada región, las regiones 0 y 2 tienen riesgo de pérdida mientras que el riesgo de la región 1 es mínimo (0.3%) y esta cuenta con el ingreso promedio más alto; por ello, se sugiere la región 1 como la mejor opción para crear nuevos pozos petroleros por su confiabilidad y ganancias predecidas."
   ]
  },
  {
   "cell_type": "code",
   "execution_count": null,
   "metadata": {},
   "outputs": [],
   "source": []
  }
 ],
 "metadata": {
  "kernelspec": {
   "display_name": "Python 3 (ipykernel)",
   "language": "python",
   "name": "python3"
  },
  "language_info": {
   "codemirror_mode": {
    "name": "ipython",
    "version": 3
   },
   "file_extension": ".py",
   "mimetype": "text/x-python",
   "name": "python",
   "nbconvert_exporter": "python",
   "pygments_lexer": "ipython3",
   "version": "3.9.19"
  },
  "toc": {
   "base_numbering": 1,
   "nav_menu": {},
   "number_sections": true,
   "sideBar": true,
   "skip_h1_title": true,
   "title_cell": "Table of Contents",
   "title_sidebar": "Contents",
   "toc_cell": false,
   "toc_position": {},
   "toc_section_display": true,
   "toc_window_display": true
  }
 },
 "nbformat": 4,
 "nbformat_minor": 2
}
