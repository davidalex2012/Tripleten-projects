{
 "cells": [
  {
   "cell_type": "markdown",
   "metadata": {},
   "source": [
    "## Descripción del proyecto\n",
    "\n",
    "Estás trabajando como analista para Zuber, una nueva empresa de viajes compartidos que se está lanzando en Chicago. Tu tarea es encontrar patrones en la información disponible. Quieres comprender las preferencias de los pasajeros y el impacto de los factores externos en los viajes.\n",
    "\n",
    "Al trabajar con una base de datos, analizarás los datos de los competidores y probarás una hipótesis sobre el impacto del clima en la frecuencia de los viajes.\n",
    "\n",
    "Se cuenta con 3 bases de datos para el análisis:\n",
    "- La primera consiste en los nombres de las compañías de taxis y la cantidad de viajes que han realizado. \n",
    "- La segunda base de datos consiste en los barrios de finalización de los viajes y la cantidad promedio en las que se dan estos. \n",
    "- La tercera conssite en fechas, horas de viaje, condiciones del clima y duración del viaje desde el barrio Loop al aeropuerto internacional O'Hare en los sábados. Esta última base de datos será usada para la prueba de la hipótesis.\n",
    "\n",
    "### Objetivos\n",
    "\n",
    "Los objetivos del proyecto a realizar son:\n",
    "\n",
    "- Identificar cuales compañías de taxi son usadas más frecuentemente\n",
    "- Identificar cuales son los barrios que con mayor frecuencia se finalizan los viajes\n",
    "- Analizar como influye las condiciones del clima en la duración promedio de los viajes de cierto lugar a otro a través de una hipótesis.\n",
    "\n",
    "\n",
    "### Fases del proyecto\n",
    "\n",
    "En este proyecto se usará datos de una base de datos del clima de Chicago, obtenidos del sitio web:  https://code.s3.yandex.net/data-analyst-eng/chicago_weather_2017.html.\n",
    "\n",
    "Para el análisis, se usará dos bases de datos en la exploración de datos: **project_sql_result_01.csv** y **project_sql_result_04.csv**. Además se usará la base de datos **project_sql_result_07.csv** para la prueba de la hipótesis.\n",
    "\n",
    "Con estas bases de datos, el proyecto consistirá en estas fases:\n",
    "\n",
    "- Importar los archivos\n",
    "- Estudiar los datos que contienen\n",
    "- Asegurarte de que los tipos de datos sean correctos\n",
    "- Identificar los 10 principales barrios en términos de finalización\n",
    "- Hacer gráficos: empresas de taxis y número de viajes, los 10 barrios principales por número de finalizaciones\n",
    "- Sacar conclusiones basadas en cada gráfico y explicar los resultados"
   ]
  },
  {
   "cell_type": "markdown",
   "metadata": {},
   "source": [
    "## Inicialización"
   ]
  },
  {
   "cell_type": "code",
   "execution_count": 1,
   "metadata": {},
   "outputs": [],
   "source": [
    "# Cargar todas las librerías\n",
    "import pandas as pd\n",
    "import matplotlib.pyplot as plt \n",
    "from scipy import stats as st\n",
    "import seaborn as sn"
   ]
  },
  {
   "cell_type": "markdown",
   "metadata": {},
   "source": [
    "### Cargar datos"
   ]
  },
  {
   "cell_type": "code",
   "execution_count": 2,
   "metadata": {},
   "outputs": [],
   "source": [
    "# Cargar archivos de datos en un DataFrame\n",
    "df_company = pd.read_csv('/datasets/project_sql_result_01.csv')\n",
    "df_trips = pd.read_csv('/datasets/project_sql_result_04.csv')\n",
    "df_trips_la = pd.read_csv('/datasets/project_sql_result_07.csv')"
   ]
  },
  {
   "cell_type": "markdown",
   "metadata": {},
   "source": [
    "#### df_company"
   ]
  },
  {
   "cell_type": "code",
   "execution_count": 3,
   "metadata": {},
   "outputs": [
    {
     "data": {
      "text/html": [
       "<div>\n",
       "<style scoped>\n",
       "    .dataframe tbody tr th:only-of-type {\n",
       "        vertical-align: middle;\n",
       "    }\n",
       "\n",
       "    .dataframe tbody tr th {\n",
       "        vertical-align: top;\n",
       "    }\n",
       "\n",
       "    .dataframe thead th {\n",
       "        text-align: right;\n",
       "    }\n",
       "</style>\n",
       "<table border=\"1\" class=\"dataframe\">\n",
       "  <thead>\n",
       "    <tr style=\"text-align: right;\">\n",
       "      <th></th>\n",
       "      <th>company_name</th>\n",
       "      <th>trips_amount</th>\n",
       "    </tr>\n",
       "  </thead>\n",
       "  <tbody>\n",
       "    <tr>\n",
       "      <th>0</th>\n",
       "      <td>Flash Cab</td>\n",
       "      <td>19558</td>\n",
       "    </tr>\n",
       "    <tr>\n",
       "      <th>1</th>\n",
       "      <td>Taxi Affiliation Services</td>\n",
       "      <td>11422</td>\n",
       "    </tr>\n",
       "    <tr>\n",
       "      <th>2</th>\n",
       "      <td>Medallion Leasing</td>\n",
       "      <td>10367</td>\n",
       "    </tr>\n",
       "    <tr>\n",
       "      <th>3</th>\n",
       "      <td>Yellow Cab</td>\n",
       "      <td>9888</td>\n",
       "    </tr>\n",
       "    <tr>\n",
       "      <th>4</th>\n",
       "      <td>Taxi Affiliation Service Yellow</td>\n",
       "      <td>9299</td>\n",
       "    </tr>\n",
       "  </tbody>\n",
       "</table>\n",
       "</div>"
      ],
      "text/plain": [
       "                      company_name  trips_amount\n",
       "0                        Flash Cab         19558\n",
       "1        Taxi Affiliation Services         11422\n",
       "2                Medallion Leasing         10367\n",
       "3                       Yellow Cab          9888\n",
       "4  Taxi Affiliation Service Yellow          9299"
      ]
     },
     "execution_count": 3,
     "metadata": {},
     "output_type": "execute_result"
    }
   ],
   "source": [
    "#Vista previa de df_company\n",
    "df_company.head()"
   ]
  },
  {
   "cell_type": "markdown",
   "metadata": {},
   "source": [
    "El dataset contiene datos sobre la cantidad de viajes hechos por las compañia el 15 y 16 de noviembre de 2017 en Chicago y se encuentran las siguientes columnas:\n",
    "\n",
    "- company_name (nombre de la empresa de taxis)\n",
    "- trips_amount (número de viajes de cada compañía de taxis el 15 y 16 de noviembre de 2017)"
   ]
  },
  {
   "cell_type": "code",
   "execution_count": 4,
   "metadata": {},
   "outputs": [
    {
     "name": "stdout",
     "output_type": "stream",
     "text": [
      "<class 'pandas.core.frame.DataFrame'>\n",
      "RangeIndex: 64 entries, 0 to 63\n",
      "Data columns (total 2 columns):\n",
      " #   Column        Non-Null Count  Dtype \n",
      "---  ------        --------------  ----- \n",
      " 0   company_name  64 non-null     object\n",
      " 1   trips_amount  64 non-null     int64 \n",
      "dtypes: int64(1), object(1)\n",
      "memory usage: 1.1+ KB\n"
     ]
    }
   ],
   "source": [
    "#Información general sobre df_company\n",
    "df_company.info()"
   ]
  },
  {
   "cell_type": "code",
   "execution_count": 5,
   "metadata": {
    "scrolled": true
   },
   "outputs": [
    {
     "data": {
      "text/html": [
       "<div>\n",
       "<style scoped>\n",
       "    .dataframe tbody tr th:only-of-type {\n",
       "        vertical-align: middle;\n",
       "    }\n",
       "\n",
       "    .dataframe tbody tr th {\n",
       "        vertical-align: top;\n",
       "    }\n",
       "\n",
       "    .dataframe thead th {\n",
       "        text-align: right;\n",
       "    }\n",
       "</style>\n",
       "<table border=\"1\" class=\"dataframe\">\n",
       "  <thead>\n",
       "    <tr style=\"text-align: right;\">\n",
       "      <th></th>\n",
       "      <th>trips_amount</th>\n",
       "    </tr>\n",
       "  </thead>\n",
       "  <tbody>\n",
       "    <tr>\n",
       "      <th>count</th>\n",
       "      <td>64.000000</td>\n",
       "    </tr>\n",
       "    <tr>\n",
       "      <th>mean</th>\n",
       "      <td>2145.484375</td>\n",
       "    </tr>\n",
       "    <tr>\n",
       "      <th>std</th>\n",
       "      <td>3812.310186</td>\n",
       "    </tr>\n",
       "    <tr>\n",
       "      <th>min</th>\n",
       "      <td>2.000000</td>\n",
       "    </tr>\n",
       "    <tr>\n",
       "      <th>25%</th>\n",
       "      <td>20.750000</td>\n",
       "    </tr>\n",
       "    <tr>\n",
       "      <th>50%</th>\n",
       "      <td>178.500000</td>\n",
       "    </tr>\n",
       "    <tr>\n",
       "      <th>75%</th>\n",
       "      <td>2106.500000</td>\n",
       "    </tr>\n",
       "    <tr>\n",
       "      <th>max</th>\n",
       "      <td>19558.000000</td>\n",
       "    </tr>\n",
       "  </tbody>\n",
       "</table>\n",
       "</div>"
      ],
      "text/plain": [
       "       trips_amount\n",
       "count     64.000000\n",
       "mean    2145.484375\n",
       "std     3812.310186\n",
       "min        2.000000\n",
       "25%       20.750000\n",
       "50%      178.500000\n",
       "75%     2106.500000\n",
       "max    19558.000000"
      ]
     },
     "execution_count": 5,
     "metadata": {},
     "output_type": "execute_result"
    }
   ],
   "source": [
    "df_company.describe()"
   ]
  },
  {
   "cell_type": "code",
   "execution_count": 6,
   "metadata": {},
   "outputs": [
    {
     "data": {
      "text/plain": [
       "0"
      ]
     },
     "execution_count": 6,
     "metadata": {},
     "output_type": "execute_result"
    }
   ],
   "source": [
    "#Revisión de duplicados\n",
    "df_company.duplicated().sum()"
   ]
  },
  {
   "cell_type": "markdown",
   "metadata": {},
   "source": [
    "#### df_trips"
   ]
  },
  {
   "cell_type": "code",
   "execution_count": 7,
   "metadata": {
    "scrolled": true
   },
   "outputs": [
    {
     "data": {
      "text/html": [
       "<div>\n",
       "<style scoped>\n",
       "    .dataframe tbody tr th:only-of-type {\n",
       "        vertical-align: middle;\n",
       "    }\n",
       "\n",
       "    .dataframe tbody tr th {\n",
       "        vertical-align: top;\n",
       "    }\n",
       "\n",
       "    .dataframe thead th {\n",
       "        text-align: right;\n",
       "    }\n",
       "</style>\n",
       "<table border=\"1\" class=\"dataframe\">\n",
       "  <thead>\n",
       "    <tr style=\"text-align: right;\">\n",
       "      <th></th>\n",
       "      <th>dropoff_location_name</th>\n",
       "      <th>average_trips</th>\n",
       "    </tr>\n",
       "  </thead>\n",
       "  <tbody>\n",
       "    <tr>\n",
       "      <th>0</th>\n",
       "      <td>Loop</td>\n",
       "      <td>10727.466667</td>\n",
       "    </tr>\n",
       "    <tr>\n",
       "      <th>1</th>\n",
       "      <td>River North</td>\n",
       "      <td>9523.666667</td>\n",
       "    </tr>\n",
       "    <tr>\n",
       "      <th>2</th>\n",
       "      <td>Streeterville</td>\n",
       "      <td>6664.666667</td>\n",
       "    </tr>\n",
       "    <tr>\n",
       "      <th>3</th>\n",
       "      <td>West Loop</td>\n",
       "      <td>5163.666667</td>\n",
       "    </tr>\n",
       "    <tr>\n",
       "      <th>4</th>\n",
       "      <td>O'Hare</td>\n",
       "      <td>2546.900000</td>\n",
       "    </tr>\n",
       "  </tbody>\n",
       "</table>\n",
       "</div>"
      ],
      "text/plain": [
       "  dropoff_location_name  average_trips\n",
       "0                  Loop   10727.466667\n",
       "1           River North    9523.666667\n",
       "2         Streeterville    6664.666667\n",
       "3             West Loop    5163.666667\n",
       "4                O'Hare    2546.900000"
      ]
     },
     "execution_count": 7,
     "metadata": {},
     "output_type": "execute_result"
    }
   ],
   "source": [
    "#Vista previa de df_trips\n",
    "df_trips.head()"
   ]
  },
  {
   "cell_type": "markdown",
   "metadata": {},
   "source": [
    "El dataset contiene datos de la terminación de viajes de Chicago en noviembre de 2017 y se encuentran las siguientes columnas:\n",
    "\n",
    "- dropoff_location_name (barrios donde finalizaron los viajes)\n",
    "\n",
    "- average_trips (el promedio de viajes que terminaron en cada barrio)"
   ]
  },
  {
   "cell_type": "code",
   "execution_count": 8,
   "metadata": {},
   "outputs": [
    {
     "name": "stdout",
     "output_type": "stream",
     "text": [
      "<class 'pandas.core.frame.DataFrame'>\n",
      "RangeIndex: 94 entries, 0 to 93\n",
      "Data columns (total 2 columns):\n",
      " #   Column                 Non-Null Count  Dtype  \n",
      "---  ------                 --------------  -----  \n",
      " 0   dropoff_location_name  94 non-null     object \n",
      " 1   average_trips          94 non-null     float64\n",
      "dtypes: float64(1), object(1)\n",
      "memory usage: 1.6+ KB\n"
     ]
    }
   ],
   "source": [
    "#información general sobre df_trips\n",
    "df_trips.info()"
   ]
  },
  {
   "cell_type": "code",
   "execution_count": 9,
   "metadata": {},
   "outputs": [
    {
     "data": {
      "text/html": [
       "<div>\n",
       "<style scoped>\n",
       "    .dataframe tbody tr th:only-of-type {\n",
       "        vertical-align: middle;\n",
       "    }\n",
       "\n",
       "    .dataframe tbody tr th {\n",
       "        vertical-align: top;\n",
       "    }\n",
       "\n",
       "    .dataframe thead th {\n",
       "        text-align: right;\n",
       "    }\n",
       "</style>\n",
       "<table border=\"1\" class=\"dataframe\">\n",
       "  <thead>\n",
       "    <tr style=\"text-align: right;\">\n",
       "      <th></th>\n",
       "      <th>average_trips</th>\n",
       "    </tr>\n",
       "  </thead>\n",
       "  <tbody>\n",
       "    <tr>\n",
       "      <th>count</th>\n",
       "      <td>94.000000</td>\n",
       "    </tr>\n",
       "    <tr>\n",
       "      <th>mean</th>\n",
       "      <td>599.953728</td>\n",
       "    </tr>\n",
       "    <tr>\n",
       "      <th>std</th>\n",
       "      <td>1714.591098</td>\n",
       "    </tr>\n",
       "    <tr>\n",
       "      <th>min</th>\n",
       "      <td>1.800000</td>\n",
       "    </tr>\n",
       "    <tr>\n",
       "      <th>25%</th>\n",
       "      <td>14.266667</td>\n",
       "    </tr>\n",
       "    <tr>\n",
       "      <th>50%</th>\n",
       "      <td>52.016667</td>\n",
       "    </tr>\n",
       "    <tr>\n",
       "      <th>75%</th>\n",
       "      <td>298.858333</td>\n",
       "    </tr>\n",
       "    <tr>\n",
       "      <th>max</th>\n",
       "      <td>10727.466667</td>\n",
       "    </tr>\n",
       "  </tbody>\n",
       "</table>\n",
       "</div>"
      ],
      "text/plain": [
       "       average_trips\n",
       "count      94.000000\n",
       "mean      599.953728\n",
       "std      1714.591098\n",
       "min         1.800000\n",
       "25%        14.266667\n",
       "50%        52.016667\n",
       "75%       298.858333\n",
       "max     10727.466667"
      ]
     },
     "execution_count": 9,
     "metadata": {},
     "output_type": "execute_result"
    }
   ],
   "source": [
    "df_trips.describe()"
   ]
  },
  {
   "cell_type": "code",
   "execution_count": 10,
   "metadata": {},
   "outputs": [
    {
     "data": {
      "text/plain": [
       "0"
      ]
     },
     "execution_count": 10,
     "metadata": {},
     "output_type": "execute_result"
    }
   ],
   "source": [
    "#Revisión de duplicados\n",
    "df_trips.duplicated().sum()"
   ]
  },
  {
   "cell_type": "markdown",
   "metadata": {},
   "source": [
    "#### df_trips_la"
   ]
  },
  {
   "cell_type": "code",
   "execution_count": 11,
   "metadata": {},
   "outputs": [
    {
     "data": {
      "text/html": [
       "<div>\n",
       "<style scoped>\n",
       "    .dataframe tbody tr th:only-of-type {\n",
       "        vertical-align: middle;\n",
       "    }\n",
       "\n",
       "    .dataframe tbody tr th {\n",
       "        vertical-align: top;\n",
       "    }\n",
       "\n",
       "    .dataframe thead th {\n",
       "        text-align: right;\n",
       "    }\n",
       "</style>\n",
       "<table border=\"1\" class=\"dataframe\">\n",
       "  <thead>\n",
       "    <tr style=\"text-align: right;\">\n",
       "      <th></th>\n",
       "      <th>start_ts</th>\n",
       "      <th>weather_conditions</th>\n",
       "      <th>duration_seconds</th>\n",
       "    </tr>\n",
       "  </thead>\n",
       "  <tbody>\n",
       "    <tr>\n",
       "      <th>0</th>\n",
       "      <td>2017-11-25 16:00:00</td>\n",
       "      <td>Good</td>\n",
       "      <td>2410.0</td>\n",
       "    </tr>\n",
       "    <tr>\n",
       "      <th>1</th>\n",
       "      <td>2017-11-25 14:00:00</td>\n",
       "      <td>Good</td>\n",
       "      <td>1920.0</td>\n",
       "    </tr>\n",
       "    <tr>\n",
       "      <th>2</th>\n",
       "      <td>2017-11-25 12:00:00</td>\n",
       "      <td>Good</td>\n",
       "      <td>1543.0</td>\n",
       "    </tr>\n",
       "    <tr>\n",
       "      <th>3</th>\n",
       "      <td>2017-11-04 10:00:00</td>\n",
       "      <td>Good</td>\n",
       "      <td>2512.0</td>\n",
       "    </tr>\n",
       "    <tr>\n",
       "      <th>4</th>\n",
       "      <td>2017-11-11 07:00:00</td>\n",
       "      <td>Good</td>\n",
       "      <td>1440.0</td>\n",
       "    </tr>\n",
       "  </tbody>\n",
       "</table>\n",
       "</div>"
      ],
      "text/plain": [
       "              start_ts weather_conditions  duration_seconds\n",
       "0  2017-11-25 16:00:00               Good            2410.0\n",
       "1  2017-11-25 14:00:00               Good            1920.0\n",
       "2  2017-11-25 12:00:00               Good            1543.0\n",
       "3  2017-11-04 10:00:00               Good            2512.0\n",
       "4  2017-11-11 07:00:00               Good            1440.0"
      ]
     },
     "execution_count": 11,
     "metadata": {},
     "output_type": "execute_result"
    }
   ],
   "source": [
    "#Vista previa de df_trips_la\n",
    "df_trips_la.head()"
   ]
  },
  {
   "cell_type": "markdown",
   "metadata": {},
   "source": [
    "\n",
    "El dataset contiene datos sobre viajes hechos los sábados de noviembre, desde el Loop hasta el Aeropuerto Internacional O'Hare y tiene las siguientes columnas:\n",
    "\n",
    "- start_ts (fecha y hora de la recogida)\n",
    "\n",
    "- weather_conditions (condiciones climáticas en el momento en el que comenzó el viaje)\n",
    "\n",
    "- duration_seconds (duración del viaje en segundos)"
   ]
  },
  {
   "cell_type": "code",
   "execution_count": 12,
   "metadata": {},
   "outputs": [
    {
     "name": "stdout",
     "output_type": "stream",
     "text": [
      "<class 'pandas.core.frame.DataFrame'>\n",
      "RangeIndex: 1068 entries, 0 to 1067\n",
      "Data columns (total 3 columns):\n",
      " #   Column              Non-Null Count  Dtype  \n",
      "---  ------              --------------  -----  \n",
      " 0   start_ts            1068 non-null   object \n",
      " 1   weather_conditions  1068 non-null   object \n",
      " 2   duration_seconds    1068 non-null   float64\n",
      "dtypes: float64(1), object(2)\n",
      "memory usage: 25.2+ KB\n"
     ]
    }
   ],
   "source": [
    "#información general sobre df_trips_la\n",
    "df_trips_la.info()"
   ]
  },
  {
   "cell_type": "code",
   "execution_count": 13,
   "metadata": {},
   "outputs": [
    {
     "data": {
      "text/html": [
       "<div>\n",
       "<style scoped>\n",
       "    .dataframe tbody tr th:only-of-type {\n",
       "        vertical-align: middle;\n",
       "    }\n",
       "\n",
       "    .dataframe tbody tr th {\n",
       "        vertical-align: top;\n",
       "    }\n",
       "\n",
       "    .dataframe thead th {\n",
       "        text-align: right;\n",
       "    }\n",
       "</style>\n",
       "<table border=\"1\" class=\"dataframe\">\n",
       "  <thead>\n",
       "    <tr style=\"text-align: right;\">\n",
       "      <th></th>\n",
       "      <th>duration_seconds</th>\n",
       "    </tr>\n",
       "  </thead>\n",
       "  <tbody>\n",
       "    <tr>\n",
       "      <th>count</th>\n",
       "      <td>1068.000000</td>\n",
       "    </tr>\n",
       "    <tr>\n",
       "      <th>mean</th>\n",
       "      <td>2071.731273</td>\n",
       "    </tr>\n",
       "    <tr>\n",
       "      <th>std</th>\n",
       "      <td>769.461125</td>\n",
       "    </tr>\n",
       "    <tr>\n",
       "      <th>min</th>\n",
       "      <td>0.000000</td>\n",
       "    </tr>\n",
       "    <tr>\n",
       "      <th>25%</th>\n",
       "      <td>1438.250000</td>\n",
       "    </tr>\n",
       "    <tr>\n",
       "      <th>50%</th>\n",
       "      <td>1980.000000</td>\n",
       "    </tr>\n",
       "    <tr>\n",
       "      <th>75%</th>\n",
       "      <td>2580.000000</td>\n",
       "    </tr>\n",
       "    <tr>\n",
       "      <th>max</th>\n",
       "      <td>7440.000000</td>\n",
       "    </tr>\n",
       "  </tbody>\n",
       "</table>\n",
       "</div>"
      ],
      "text/plain": [
       "       duration_seconds\n",
       "count       1068.000000\n",
       "mean        2071.731273\n",
       "std          769.461125\n",
       "min            0.000000\n",
       "25%         1438.250000\n",
       "50%         1980.000000\n",
       "75%         2580.000000\n",
       "max         7440.000000"
      ]
     },
     "execution_count": 13,
     "metadata": {},
     "output_type": "execute_result"
    }
   ],
   "source": [
    "df_trips_la.describe()"
   ]
  },
  {
   "cell_type": "code",
   "execution_count": 14,
   "metadata": {},
   "outputs": [
    {
     "data": {
      "text/plain": [
       "197"
      ]
     },
     "execution_count": 14,
     "metadata": {},
     "output_type": "execute_result"
    }
   ],
   "source": [
    "#Revisión de duplicados\n",
    "df_trips_la.duplicated().sum()"
   ]
  },
  {
   "cell_type": "markdown",
   "metadata": {},
   "source": [
    "### Hallazgos\n",
    "\n",
    "La información anterior muestra que los tres dataframes tienen los tipos de datos correctos, a excepción de la columna 'start_ts' del dataframe df_trips_la, y no hay prescencia de valores ausentes. Adicionalmente el dataframe df_trips_la, presenta duplicados, aunque se ha de esperar que sean datos duplicados por el tipo de datos que son de fechas y duraciones en un mismo día."
   ]
  },
  {
   "cell_type": "markdown",
   "metadata": {},
   "source": [
    "## Preprocesamiento de datos\n",
    "\n",
    "\n",
    "Se realiza una revisión más a fondo de los datos sobre duplicados, ausentes o tipo de datos de las columnas para hacer las correcciones pertinentes.\n",
    "\n",
    "Se analizará: \n",
    "- La columna **company_name** del dataframe df_company.\n",
    "- La columna **dropoff_location_name** del dataframe df_trips. \n",
    "- La columna **weather_conditions**del dataframe df_trips_la.\n",
    "- La columna **start_ts** del dataframe df_trips_la."
   ]
  },
  {
   "cell_type": "markdown",
   "metadata": {},
   "source": [
    "### Columna 'company_name'"
   ]
  },
  {
   "cell_type": "code",
   "execution_count": 15,
   "metadata": {},
   "outputs": [
    {
     "data": {
      "text/plain": [
       "array(['0118 - 42111 Godfrey S. Awir', '1085 - 72312 N and W Cab Co',\n",
       "       '1469 - 64126 Omar Jada', '2092 - 61288 Sbeih Company',\n",
       "       '2192 - 73487 Zeymane Corp', '2241 - 44667 - Felman Corp',\n",
       "       '24 Seven Taxi', '2733 - 74600 Benny Jona',\n",
       "       '2809 - 95474 C & D Cab Co Inc.', '2823 - 73307 Lee Express Inc',\n",
       "       '3011 - 66308 JBL Cab Inc.', '303 Taxi',\n",
       "       '3556 - 36214 RC Andrews Cab', '3591 - 63480 Chuks Cab',\n",
       "       '3620 - 52292 David K. Cab Corp.',\n",
       "       '3623 - 72222 Arrington Enterprises', '3721 - Santamaria Express',\n",
       "       '4053 - 40193 Adwar H. Nikola', '4615 - 83503 Tyrone Henderson',\n",
       "       '4623 - 27290 Jay Kim', '5 Star Taxi', '5006 - 39261 Salifu Bawa',\n",
       "       '5062 - 34841 Sam Mestas', '5074 - 54002 Ahzmi Inc',\n",
       "       '5874 - 73628 Sergey Cab Corp.', '5997 - 65283 AW Services Inc.',\n",
       "       '6057 - 24657 Richard Addo', '6574 - Babylon Express Inc.',\n",
       "       '6742 - 83735 Tasha Ride Inc', '6743 - 78771 Luhak Corp',\n",
       "       'American United', 'American United Taxi Affiliation',\n",
       "       'Blue Diamond', 'Blue Ribbon Taxi Association Inc.',\n",
       "       'Checker Taxi', 'Checker Taxi Affiliation',\n",
       "       'Chicago Carriage Cab Corp', 'Chicago Independents',\n",
       "       'Chicago Medallion Leasing INC', 'Chicago Medallion Management',\n",
       "       'Chicago Star Taxicab', 'Chicago Taxicab',\n",
       "       'Choice Taxi Association', 'City Service',\n",
       "       'Dispatch Taxi Affiliation', 'Flash Cab', 'Globe Taxi',\n",
       "       'Gold Coast Taxi', 'KOAM Taxi Association', 'Leonard Cab Co',\n",
       "       'Medallion Leasing', 'Metro Group', 'Metro Jet Taxi A',\n",
       "       'Norshore Cab', 'Nova Taxi Affiliation Llc',\n",
       "       'Patriot Taxi Dba Peace Taxi Association',\n",
       "       'Service Taxi Association', 'Setare Inc',\n",
       "       'Star North Management LLC', 'Sun Taxi',\n",
       "       'Taxi Affiliation Service Yellow', 'Taxi Affiliation Services',\n",
       "       'Top Cab Affiliation', 'Yellow Cab'], dtype=object)"
      ]
     },
     "execution_count": 15,
     "metadata": {},
     "output_type": "execute_result"
    }
   ],
   "source": [
    "#Se buscan valores duplicados en la columna company_name\n",
    "df_company['company_name'].sort_values().unique()"
   ]
  },
  {
   "cell_type": "code",
   "execution_count": 16,
   "metadata": {},
   "outputs": [],
   "source": [
    "#corregir compañías duplicadas\n",
    "df_company['company_name'] = df_company['company_name'].replace('American United', 'American United Taxi Affiliation')\n",
    "df_company['company_name'] = df_company['company_name'].replace('Checker Taxi','Checker Taxi Affiliation')\n",
    "df_company['company_name'] = df_company['company_name'].replace('Medallion Leasing','Chicago Medallion Leasing INC')"
   ]
  },
  {
   "cell_type": "code",
   "execution_count": 17,
   "metadata": {},
   "outputs": [
    {
     "name": "stdout",
     "output_type": "stream",
     "text": [
      "                        company_name  trips_amount\n",
      "21  American United Taxi Affiliation          1404\n",
      "31  American United Taxi Affiliation           210\n",
      "\n",
      "                company_name  trips_amount\n",
      "15  Checker Taxi Affiliation          2216\n",
      "20  Checker Taxi Affiliation          1486\n",
      "\n",
      "                     company_name  trips_amount\n",
      "2   Chicago Medallion Leasing INC         10367\n",
      "19  Chicago Medallion Leasing INC          1607\n",
      "\n"
     ]
    }
   ],
   "source": [
    "#unir viajes de compañías duplicadas\n",
    "for company in ['American United Taxi Affiliation','Checker Taxi Affiliation','Chicago Medallion Leasing INC']:\n",
    "    print(df_company[df_company['company_name']== company])\n",
    "    print()"
   ]
  },
  {
   "cell_type": "code",
   "execution_count": 18,
   "metadata": {},
   "outputs": [],
   "source": [
    "#sumar viajes de compañías iguales\n",
    "df_company.loc[21,'trips_amount'] = 1404+210\n",
    "df_company.loc[15,'trips_amount'] = 2216+1486\n",
    "df_company.loc[2,'trips_amount'] = 10367+1607\n",
    "\n",
    "#Eliminar compañías duplicadas\n",
    "df_company=df_company.drop([31, 20, 19],axis=0).reset_index(drop=True)"
   ]
  },
  {
   "cell_type": "code",
   "execution_count": 19,
   "metadata": {
    "scrolled": true
   },
   "outputs": [
    {
     "name": "stdout",
     "output_type": "stream",
     "text": [
      "<class 'pandas.core.frame.DataFrame'>\n",
      "RangeIndex: 61 entries, 0 to 60\n",
      "Data columns (total 2 columns):\n",
      " #   Column        Non-Null Count  Dtype \n",
      "---  ------        --------------  ----- \n",
      " 0   company_name  61 non-null     object\n",
      " 1   trips_amount  61 non-null     int64 \n",
      "dtypes: int64(1), object(1)\n",
      "memory usage: 1.1+ KB\n"
     ]
    }
   ],
   "source": [
    "#verificar resultado\n",
    "df_company.info()"
   ]
  },
  {
   "cell_type": "markdown",
   "metadata": {},
   "source": [
    "###### Hallazgos:\n",
    "\n",
    "Se encontraron unos nombres de compañías duplicados, que se los procedió a sumar sus valores con los semejantes y eliminar los duplicados. "
   ]
  },
  {
   "cell_type": "markdown",
   "metadata": {},
   "source": [
    "### Columna 'dropoff_location_name'"
   ]
  },
  {
   "cell_type": "code",
   "execution_count": 20,
   "metadata": {},
   "outputs": [
    {
     "data": {
      "text/plain": [
       "array(['Albany Park', 'Andersonville', 'Archer Heights', 'Armour Square',\n",
       "       'Ashburn', 'Auburn Gresham', 'Austin', 'Avalon Park', 'Avondale',\n",
       "       'Belmont Cragin', 'Beverly', 'Boystown', 'Bridgeport',\n",
       "       'Brighton Park', 'Bucktown', 'Burnside', 'Calumet Heights',\n",
       "       'Chatham', 'Chicago Lawn', 'Chinatown', 'Clearing', 'Douglas',\n",
       "       'Dunning', 'East Side', 'East Village', 'Edgewater', 'Edison Park',\n",
       "       'Englewood', 'Fuller Park', 'Gage Park', 'Garfield Park',\n",
       "       'Garfield Ridge', 'Gold Coast', 'Grand Boulevard',\n",
       "       'Grand Crossing', 'Grant Park', 'Hegewisch', 'Hermosa',\n",
       "       'Humboldt Park', 'Hyde Park', 'Irving Park', 'Jackson Park',\n",
       "       'Jefferson Park', 'Kenwood', 'Lake View', 'Lincoln Park',\n",
       "       'Lincoln Square', 'Little Italy, UIC', 'Little Village',\n",
       "       'Logan Square', 'Loop', 'Lower West Side', 'Mckinley Park',\n",
       "       'Montclare', 'Morgan Park', 'Mount Greenwood', 'Museum Campus',\n",
       "       'Near South Side', 'New City', 'North Center', 'North Lawndale',\n",
       "       'North Park', 'Norwood Park', \"O'Hare\", 'Oakland', 'Old Town',\n",
       "       'Portage Park', 'Pullman', 'River North', 'Riverdale',\n",
       "       'Rogers Park', 'Roseland', 'Rush & Division',\n",
       "       'Sauganash,Forest Glen', 'Sheffield & DePaul', 'South Chicago',\n",
       "       'South Deering', 'South Shore', 'Streeterville',\n",
       "       'Ukrainian Village', 'Undef', 'United Center', 'Uptown',\n",
       "       'Washington Heights', 'Washington Park', 'West Elsdon',\n",
       "       'West Lawn', 'West Loop', 'West Pullman', 'West Ridge',\n",
       "       'West Town', 'Wicker Park', 'Woodlawn', 'Wrigleyville'],\n",
       "      dtype=object)"
      ]
     },
     "execution_count": 20,
     "metadata": {},
     "output_type": "execute_result"
    }
   ],
   "source": [
    "#Se buscan valores duplicados en la columna dropoff_location_name\n",
    "df_trips['dropoff_location_name'].sort_values().unique()"
   ]
  },
  {
   "cell_type": "markdown",
   "metadata": {},
   "source": [
    "###### Hallazgos:\n",
    "\n",
    "No se encontraron valores duplicados, ni ausentes en la  columna 'dropoff_location_name'"
   ]
  },
  {
   "cell_type": "markdown",
   "metadata": {},
   "source": [
    "### Columna 'weather_conditions'"
   ]
  },
  {
   "cell_type": "code",
   "execution_count": 21,
   "metadata": {},
   "outputs": [
    {
     "data": {
      "text/plain": [
       "array(['Bad', 'Good'], dtype=object)"
      ]
     },
     "execution_count": 21,
     "metadata": {},
     "output_type": "execute_result"
    }
   ],
   "source": [
    "#Se buscan valores duplicados en la columna weather_conditions\n",
    "df_trips_la['weather_conditions'].sort_values().unique()"
   ]
  },
  {
   "cell_type": "markdown",
   "metadata": {},
   "source": [
    "###### Hallazgos:\n",
    "\n",
    "No se encontraron valores duplicados, ni ausentes en la  columna 'weather_conditions'."
   ]
  },
  {
   "cell_type": "markdown",
   "metadata": {},
   "source": [
    "### Columna 'start_ts'\n",
    "\n",
    "La única columna con un tipo de dato incorrecto, es **'start_ts'** del dataframe df_trips_la, ya que no es del tipo fecha."
   ]
  },
  {
   "cell_type": "code",
   "execution_count": 22,
   "metadata": {},
   "outputs": [
    {
     "name": "stdout",
     "output_type": "stream",
     "text": [
      "<class 'pandas.core.frame.DataFrame'>\n",
      "RangeIndex: 1068 entries, 0 to 1067\n",
      "Data columns (total 3 columns):\n",
      " #   Column              Non-Null Count  Dtype         \n",
      "---  ------              --------------  -----         \n",
      " 0   start_ts            1068 non-null   datetime64[ns]\n",
      " 1   weather_conditions  1068 non-null   object        \n",
      " 2   duration_seconds    1068 non-null   float64       \n",
      "dtypes: datetime64[ns](1), float64(1), object(1)\n",
      "memory usage: 25.2+ KB\n"
     ]
    }
   ],
   "source": [
    "#cambiar tipo de dato\n",
    "df_trips_la['start_ts'] = pd.to_datetime(df_trips_la['start_ts'],format='%Y-%m-%d %H:%M')\n",
    "#verificar cambio\n",
    "df_trips_la.info()"
   ]
  },
  {
   "cell_type": "markdown",
   "metadata": {},
   "source": [
    "###### Enriquecer datos\n",
    "\n",
    "Se añade la columna **'weekday'** al dataframe df_trips_la."
   ]
  },
  {
   "cell_type": "code",
   "execution_count": 23,
   "metadata": {},
   "outputs": [
    {
     "data": {
      "text/html": [
       "<div>\n",
       "<style scoped>\n",
       "    .dataframe tbody tr th:only-of-type {\n",
       "        vertical-align: middle;\n",
       "    }\n",
       "\n",
       "    .dataframe tbody tr th {\n",
       "        vertical-align: top;\n",
       "    }\n",
       "\n",
       "    .dataframe thead th {\n",
       "        text-align: right;\n",
       "    }\n",
       "</style>\n",
       "<table border=\"1\" class=\"dataframe\">\n",
       "  <thead>\n",
       "    <tr style=\"text-align: right;\">\n",
       "      <th></th>\n",
       "      <th>start_ts</th>\n",
       "      <th>weather_conditions</th>\n",
       "      <th>duration_seconds</th>\n",
       "      <th>weekday</th>\n",
       "    </tr>\n",
       "  </thead>\n",
       "  <tbody>\n",
       "    <tr>\n",
       "      <th>0</th>\n",
       "      <td>2017-11-25 16:00:00</td>\n",
       "      <td>Good</td>\n",
       "      <td>2410.0</td>\n",
       "      <td>5</td>\n",
       "    </tr>\n",
       "    <tr>\n",
       "      <th>1</th>\n",
       "      <td>2017-11-25 14:00:00</td>\n",
       "      <td>Good</td>\n",
       "      <td>1920.0</td>\n",
       "      <td>5</td>\n",
       "    </tr>\n",
       "    <tr>\n",
       "      <th>2</th>\n",
       "      <td>2017-11-25 12:00:00</td>\n",
       "      <td>Good</td>\n",
       "      <td>1543.0</td>\n",
       "      <td>5</td>\n",
       "    </tr>\n",
       "  </tbody>\n",
       "</table>\n",
       "</div>"
      ],
      "text/plain": [
       "             start_ts weather_conditions  duration_seconds  weekday\n",
       "0 2017-11-25 16:00:00               Good            2410.0        5\n",
       "1 2017-11-25 14:00:00               Good            1920.0        5\n",
       "2 2017-11-25 12:00:00               Good            1543.0        5"
      ]
     },
     "execution_count": 23,
     "metadata": {},
     "output_type": "execute_result"
    }
   ],
   "source": [
    "df_trips_la['weekday'] = df_trips_la['start_ts'].dt.weekday \n",
    "df_trips_la.head(3)"
   ]
  },
  {
   "cell_type": "code",
   "execution_count": 24,
   "metadata": {},
   "outputs": [
    {
     "data": {
      "text/html": [
       "<div>\n",
       "<style scoped>\n",
       "    .dataframe tbody tr th:only-of-type {\n",
       "        vertical-align: middle;\n",
       "    }\n",
       "\n",
       "    .dataframe tbody tr th {\n",
       "        vertical-align: top;\n",
       "    }\n",
       "\n",
       "    .dataframe thead th {\n",
       "        text-align: right;\n",
       "    }\n",
       "</style>\n",
       "<table border=\"1\" class=\"dataframe\">\n",
       "  <thead>\n",
       "    <tr style=\"text-align: right;\">\n",
       "      <th></th>\n",
       "      <th></th>\n",
       "      <th>start_ts</th>\n",
       "      <th>duration_seconds</th>\n",
       "    </tr>\n",
       "    <tr>\n",
       "      <th>weekday</th>\n",
       "      <th>weather_conditions</th>\n",
       "      <th></th>\n",
       "      <th></th>\n",
       "    </tr>\n",
       "  </thead>\n",
       "  <tbody>\n",
       "    <tr>\n",
       "      <th rowspan=\"2\" valign=\"top\">5</th>\n",
       "      <th>Bad</th>\n",
       "      <td>180</td>\n",
       "      <td>180</td>\n",
       "    </tr>\n",
       "    <tr>\n",
       "      <th>Good</th>\n",
       "      <td>888</td>\n",
       "      <td>888</td>\n",
       "    </tr>\n",
       "  </tbody>\n",
       "</table>\n",
       "</div>"
      ],
      "text/plain": [
       "                            start_ts  duration_seconds\n",
       "weekday weather_conditions                            \n",
       "5       Bad                      180               180\n",
       "        Good                     888               888"
      ]
     },
     "execution_count": 24,
     "metadata": {},
     "output_type": "execute_result"
    }
   ],
   "source": [
    "#se comprueba que únicamente hay datos del día sábado\n",
    "df_trips_la.groupby(['weekday','weather_conditions']).count()"
   ]
  },
  {
   "cell_type": "markdown",
   "metadata": {},
   "source": [
    "## Identificación de los 10 principales barrios en términos de finalización del recorrido\n",
    "\n",
    "\n",
    "Se revisa el número de viajes hechos hacia cada barrio de Chicago."
   ]
  },
  {
   "cell_type": "code",
   "execution_count": 25,
   "metadata": {},
   "outputs": [
    {
     "data": {
      "text/html": [
       "<div>\n",
       "<style scoped>\n",
       "    .dataframe tbody tr th:only-of-type {\n",
       "        vertical-align: middle;\n",
       "    }\n",
       "\n",
       "    .dataframe tbody tr th {\n",
       "        vertical-align: top;\n",
       "    }\n",
       "\n",
       "    .dataframe thead th {\n",
       "        text-align: right;\n",
       "    }\n",
       "</style>\n",
       "<table border=\"1\" class=\"dataframe\">\n",
       "  <thead>\n",
       "    <tr style=\"text-align: right;\">\n",
       "      <th></th>\n",
       "      <th>dropoff_location_name</th>\n",
       "      <th>average_trips</th>\n",
       "    </tr>\n",
       "  </thead>\n",
       "  <tbody>\n",
       "    <tr>\n",
       "      <th>0</th>\n",
       "      <td>Loop</td>\n",
       "      <td>10727.466667</td>\n",
       "    </tr>\n",
       "    <tr>\n",
       "      <th>1</th>\n",
       "      <td>River North</td>\n",
       "      <td>9523.666667</td>\n",
       "    </tr>\n",
       "    <tr>\n",
       "      <th>2</th>\n",
       "      <td>Streeterville</td>\n",
       "      <td>6664.666667</td>\n",
       "    </tr>\n",
       "    <tr>\n",
       "      <th>3</th>\n",
       "      <td>West Loop</td>\n",
       "      <td>5163.666667</td>\n",
       "    </tr>\n",
       "    <tr>\n",
       "      <th>4</th>\n",
       "      <td>O'Hare</td>\n",
       "      <td>2546.900000</td>\n",
       "    </tr>\n",
       "    <tr>\n",
       "      <th>5</th>\n",
       "      <td>Lake View</td>\n",
       "      <td>2420.966667</td>\n",
       "    </tr>\n",
       "    <tr>\n",
       "      <th>6</th>\n",
       "      <td>Grant Park</td>\n",
       "      <td>2068.533333</td>\n",
       "    </tr>\n",
       "    <tr>\n",
       "      <th>7</th>\n",
       "      <td>Museum Campus</td>\n",
       "      <td>1510.000000</td>\n",
       "    </tr>\n",
       "    <tr>\n",
       "      <th>8</th>\n",
       "      <td>Gold Coast</td>\n",
       "      <td>1364.233333</td>\n",
       "    </tr>\n",
       "    <tr>\n",
       "      <th>9</th>\n",
       "      <td>Sheffield &amp; DePaul</td>\n",
       "      <td>1259.766667</td>\n",
       "    </tr>\n",
       "  </tbody>\n",
       "</table>\n",
       "</div>"
      ],
      "text/plain": [
       "  dropoff_location_name  average_trips\n",
       "0                  Loop   10727.466667\n",
       "1           River North    9523.666667\n",
       "2         Streeterville    6664.666667\n",
       "3             West Loop    5163.666667\n",
       "4                O'Hare    2546.900000\n",
       "5             Lake View    2420.966667\n",
       "6            Grant Park    2068.533333\n",
       "7         Museum Campus    1510.000000\n",
       "8            Gold Coast    1364.233333\n",
       "9    Sheffield & DePaul    1259.766667"
      ]
     },
     "execution_count": 25,
     "metadata": {},
     "output_type": "execute_result"
    }
   ],
   "source": [
    "#Top 10 principales barrios para terminar el recorrido\n",
    "top10_neighborhoods = df_trips.sort_values(by='average_trips', ascending=False).head(10)\n",
    "top10_neighborhoods"
   ]
  },
  {
   "cell_type": "code",
   "execution_count": 26,
   "metadata": {
    "scrolled": true
   },
   "outputs": [
    {
     "data": {
      "image/png": "[encoded data removed]",
      "text/plain": [
       "<Figure size 1224x288 with 1 Axes>"
      ]
     },
     "metadata": {
      "needs_background": "light"
     },
     "output_type": "display_data"
    }
   ],
   "source": [
    "#gráfica de cantidades de viajes terminados por barrios \n",
    "df_trips['dropoff_reduced']= df_trips['dropoff_location_name'].where( df_trips['average_trips']>70,'Others')\n",
    "df_trips.groupby('dropoff_reduced').sum().sort_values(by='average_trips',ascending=False\n",
    "                                                                                     ).plot(kind='bar',figsize=(17,4))\n",
    "plt.title('Barrios principales para finalizar recorrido')\n",
    "plt.show()"
   ]
  },
  {
   "cell_type": "code",
   "execution_count": 27,
   "metadata": {},
   "outputs": [
    {
     "data": {
      "image/png": "[encoded data removed]",
      "text/plain": [
       "<Figure size 1080x576 with 1 Axes>"
      ]
     },
     "metadata": {
      "needs_background": "light"
     },
     "output_type": "display_data"
    }
   ],
   "source": [
    "#Top 10 barrios principales para terminar recorrido\n",
    "top10_neighborhoods.plot(x='dropoff_location_name', y='average_trips', kind='bar', figsize=(15,8))\n",
    "plt.legend(['Promedio de viajes'], fontsize=15)\n",
    "plt.xlabel('Top 10 barrios principales para terminar recorrido', fontsize=15, fontweight='bold')\n",
    "plt.show()"
   ]
  },
  {
   "cell_type": "code",
   "execution_count": 28,
   "metadata": {},
   "outputs": [
    {
     "name": "stdout",
     "output_type": "stream",
     "text": [
      "Los 10 barrios principales en terminación de viajes representan el 76.69 % de todos los viajes.\n"
     ]
    }
   ],
   "source": [
    "print('Los 10 barrios principales en terminación de viajes representan el', \n",
    "      round(df_trips[df_trips['average_trips']>1259]['average_trips'].sum()/df_trips['average_trips'].sum()*100,2),\n",
    "      '% de todos los viajes.')"
   ]
  },
  {
   "cell_type": "code",
   "execution_count": 29,
   "metadata": {},
   "outputs": [
    {
     "name": "stdout",
     "output_type": "stream",
     "text": [
      "El barrio Loop, en terminación de viajes, representan el 19.02 % de todos los viajes.\n"
     ]
    }
   ],
   "source": [
    "print('El barrio Loop, en terminación de viajes, representan el',round(10727.466/df_trips['average_trips'].sum()*100,2\n",
    "                                                                                          ),'% de todos los viajes.')"
   ]
  },
  {
   "cell_type": "markdown",
   "metadata": {},
   "source": [
    "###### Conclusión:\n",
    "\n",
    "- Los 10 barrios principales en terminación de viajes representan el 76.69 % de todos los viajes.\n",
    "\n",
    "- El barrio Loop es donde terminan la mayoría de los viajes (19.02%), seguido por los barrios River North, Streeterville y West Loop. Los siguientes vecindarios tienen la mitad o menos viajes que los barrios mencionados anteriormente."
   ]
  },
  {
   "cell_type": "markdown",
   "metadata": {},
   "source": [
    "## Empresas de taxis y viajes\n",
    "\n",
    "Se analizará la cantidad de viajes por empresa de taxis."
   ]
  },
  {
   "cell_type": "code",
   "execution_count": 30,
   "metadata": {},
   "outputs": [
    {
     "data": {
      "text/html": [
       "<div>\n",
       "<style scoped>\n",
       "    .dataframe tbody tr th:only-of-type {\n",
       "        vertical-align: middle;\n",
       "    }\n",
       "\n",
       "    .dataframe tbody tr th {\n",
       "        vertical-align: top;\n",
       "    }\n",
       "\n",
       "    .dataframe thead th {\n",
       "        text-align: right;\n",
       "    }\n",
       "</style>\n",
       "<table border=\"1\" class=\"dataframe\">\n",
       "  <thead>\n",
       "    <tr style=\"text-align: right;\">\n",
       "      <th></th>\n",
       "      <th>company_name</th>\n",
       "      <th>trips_amount</th>\n",
       "    </tr>\n",
       "  </thead>\n",
       "  <tbody>\n",
       "    <tr>\n",
       "      <th>0</th>\n",
       "      <td>Flash Cab</td>\n",
       "      <td>19558</td>\n",
       "    </tr>\n",
       "    <tr>\n",
       "      <th>1</th>\n",
       "      <td>Chicago Medallion Leasing INC</td>\n",
       "      <td>11974</td>\n",
       "    </tr>\n",
       "    <tr>\n",
       "      <th>2</th>\n",
       "      <td>Taxi Affiliation Services</td>\n",
       "      <td>11422</td>\n",
       "    </tr>\n",
       "    <tr>\n",
       "      <th>3</th>\n",
       "      <td>Yellow Cab</td>\n",
       "      <td>9888</td>\n",
       "    </tr>\n",
       "    <tr>\n",
       "      <th>4</th>\n",
       "      <td>Taxi Affiliation Service Yellow</td>\n",
       "      <td>9299</td>\n",
       "    </tr>\n",
       "    <tr>\n",
       "      <th>5</th>\n",
       "      <td>Chicago Carriage Cab Corp</td>\n",
       "      <td>9181</td>\n",
       "    </tr>\n",
       "    <tr>\n",
       "      <th>6</th>\n",
       "      <td>City Service</td>\n",
       "      <td>8448</td>\n",
       "    </tr>\n",
       "    <tr>\n",
       "      <th>7</th>\n",
       "      <td>Sun Taxi</td>\n",
       "      <td>7701</td>\n",
       "    </tr>\n",
       "    <tr>\n",
       "      <th>8</th>\n",
       "      <td>Star North Management LLC</td>\n",
       "      <td>7455</td>\n",
       "    </tr>\n",
       "    <tr>\n",
       "      <th>9</th>\n",
       "      <td>Blue Ribbon Taxi Association Inc.</td>\n",
       "      <td>5953</td>\n",
       "    </tr>\n",
       "  </tbody>\n",
       "</table>\n",
       "</div>"
      ],
      "text/plain": [
       "                        company_name  trips_amount\n",
       "0                          Flash Cab         19558\n",
       "1      Chicago Medallion Leasing INC         11974\n",
       "2          Taxi Affiliation Services         11422\n",
       "3                         Yellow Cab          9888\n",
       "4    Taxi Affiliation Service Yellow          9299\n",
       "5          Chicago Carriage Cab Corp          9181\n",
       "6                       City Service          8448\n",
       "7                           Sun Taxi          7701\n",
       "8          Star North Management LLC          7455\n",
       "9  Blue Ribbon Taxi Association Inc.          5953"
      ]
     },
     "execution_count": 30,
     "metadata": {},
     "output_type": "execute_result"
    }
   ],
   "source": [
    "#top 10 compañías de taxis según número de viajes\n",
    "top10_taxi = df_company.sort_values(by='trips_amount', ascending=False).head(10).reset_index(drop=True)\n",
    "top10_taxi"
   ]
  },
  {
   "cell_type": "code",
   "execution_count": 31,
   "metadata": {},
   "outputs": [
    {
     "data": {
      "image/png": "[encoded data removed]",
      "text/plain": [
       "<Figure size 1080x576 with 1 Axes>"
      ]
     },
     "metadata": {
      "needs_background": "light"
     },
     "output_type": "display_data"
    }
   ],
   "source": [
    "#Gráfico de las top 10 compañias de taxis según número de viajes\n",
    "top10_taxi.plot(x='company_name', y='trips_amount', kind='bar', figsize=(15,8))\n",
    "plt.legend(['Número de viajes'], fontsize=15)\n",
    "plt.xlabel('Top 10 compañías por número de viajes', fontsize=15)\n",
    "plt.show()"
   ]
  },
  {
   "cell_type": "code",
   "execution_count": 32,
   "metadata": {
    "scrolled": true
   },
   "outputs": [
    {
     "data": {
      "image/png": "[encoded data removed]",
      "text/plain": [
       "<Figure size 1224x288 with 1 Axes>"
      ]
     },
     "metadata": {
      "needs_background": "light"
     },
     "output_type": "display_data"
    }
   ],
   "source": [
    "#gráfica de cantidades de viajes hechos por cada compañía\n",
    "df_company['company_name_reduced'] = df_company['company_name'].where(df_company['trips_amount']>500,'Others')\n",
    "df_company.groupby('company_name_reduced').sum().sort_values(by='trips_amount',ascending=False\n",
    "                                                                                    ).plot(kind='bar',figsize=(17,4))\n",
    "plt.title('Viajes hechos por compañía de taxis')\n",
    "plt.show()\n"
   ]
  },
  {
   "cell_type": "code",
   "execution_count": 33,
   "metadata": {},
   "outputs": [
    {
     "name": "stdout",
     "output_type": "stream",
     "text": [
      "Las 10 compañías de taxis principales poseen el 73.47 % de todos los viajes.\n"
     ]
    }
   ],
   "source": [
    "print('Las 10 compañías de taxis principales poseen el',\n",
    "      round(df_company[df_company['trips_amount']>=5953]['trips_amount'].sum()/df_company['trips_amount'].sum()*100,2),\n",
    "      '% de todos los viajes.')"
   ]
  },
  {
   "cell_type": "code",
   "execution_count": 34,
   "metadata": {
    "scrolled": true
   },
   "outputs": [
    {
     "name": "stdout",
     "output_type": "stream",
     "text": [
      "La empresa Flash Cab es la principal compañía de taxis, posee el 14.24 % de todos los viajes.\n"
     ]
    }
   ],
   "source": [
    "print('La empresa Flash Cab es la principal compañía de taxis, posee el',\n",
    "      round(19558/df_company['trips_amount'].sum()*100,2), '% de todos los viajes.')"
   ]
  },
  {
   "cell_type": "markdown",
   "metadata": {},
   "source": [
    "###### Conclusión:\n",
    "\n",
    "- Las 10 compañías de taxis principales poseen el 73.47 % de todos los viajes.\n",
    "\n",
    "- La empresa Flash Cab es la principal compañía de taxis, posee el 14.24 % de todos los viajes."
   ]
  },
  {
   "cell_type": "markdown",
   "metadata": {},
   "source": [
    "## Relación entre clima y duración de viajes\n",
    "\n",
    "\n",
    "Se analizará la duración de viajes según el tipo de clima."
   ]
  },
  {
   "cell_type": "code",
   "execution_count": 35,
   "metadata": {},
   "outputs": [
    {
     "data": {
      "text/html": [
       "<div>\n",
       "<style scoped>\n",
       "    .dataframe tbody tr th:only-of-type {\n",
       "        vertical-align: middle;\n",
       "    }\n",
       "\n",
       "    .dataframe tbody tr th {\n",
       "        vertical-align: top;\n",
       "    }\n",
       "\n",
       "    .dataframe thead th {\n",
       "        text-align: right;\n",
       "    }\n",
       "</style>\n",
       "<table border=\"1\" class=\"dataframe\">\n",
       "  <thead>\n",
       "    <tr style=\"text-align: right;\">\n",
       "      <th></th>\n",
       "      <th>duration_seconds</th>\n",
       "      <th>weekday</th>\n",
       "    </tr>\n",
       "    <tr>\n",
       "      <th>weather_conditions</th>\n",
       "      <th></th>\n",
       "      <th></th>\n",
       "    </tr>\n",
       "  </thead>\n",
       "  <tbody>\n",
       "    <tr>\n",
       "      <th>Bad</th>\n",
       "      <td>2427.205556</td>\n",
       "      <td>5</td>\n",
       "    </tr>\n",
       "    <tr>\n",
       "      <th>Good</th>\n",
       "      <td>1999.675676</td>\n",
       "      <td>5</td>\n",
       "    </tr>\n",
       "  </tbody>\n",
       "</table>\n",
       "</div>"
      ],
      "text/plain": [
       "                    duration_seconds  weekday\n",
       "weather_conditions                           \n",
       "Bad                      2427.205556        5\n",
       "Good                     1999.675676        5"
      ]
     },
     "execution_count": 35,
     "metadata": {},
     "output_type": "execute_result"
    }
   ],
   "source": [
    "#Obtener la media de cada condición de clima\n",
    "df_trips_la.groupby('weather_conditions').mean('duration_seconds')"
   ]
  },
  {
   "cell_type": "code",
   "execution_count": 36,
   "metadata": {},
   "outputs": [
    {
     "data": {
      "text/html": [
       "<div>\n",
       "<style scoped>\n",
       "    .dataframe tbody tr th:only-of-type {\n",
       "        vertical-align: middle;\n",
       "    }\n",
       "\n",
       "    .dataframe tbody tr th {\n",
       "        vertical-align: top;\n",
       "    }\n",
       "\n",
       "    .dataframe thead th {\n",
       "        text-align: right;\n",
       "    }\n",
       "</style>\n",
       "<table border=\"1\" class=\"dataframe\">\n",
       "  <thead>\n",
       "    <tr style=\"text-align: right;\">\n",
       "      <th></th>\n",
       "      <th>duration_seconds</th>\n",
       "      <th>weekday</th>\n",
       "    </tr>\n",
       "    <tr>\n",
       "      <th>weather_conditions</th>\n",
       "      <th></th>\n",
       "      <th></th>\n",
       "    </tr>\n",
       "  </thead>\n",
       "  <tbody>\n",
       "    <tr>\n",
       "      <th>Bad</th>\n",
       "      <td>2540.0</td>\n",
       "      <td>5</td>\n",
       "    </tr>\n",
       "    <tr>\n",
       "      <th>Good</th>\n",
       "      <td>1800.0</td>\n",
       "      <td>5</td>\n",
       "    </tr>\n",
       "  </tbody>\n",
       "</table>\n",
       "</div>"
      ],
      "text/plain": [
       "                    duration_seconds  weekday\n",
       "weather_conditions                           \n",
       "Bad                           2540.0        5\n",
       "Good                          1800.0        5"
      ]
     },
     "execution_count": 36,
     "metadata": {},
     "output_type": "execute_result"
    }
   ],
   "source": [
    "#mediana de cada condición de clima\n",
    "df_trips_la.groupby('weather_conditions').median('duration_seconds')"
   ]
  },
  {
   "cell_type": "markdown",
   "metadata": {},
   "source": [
    "Los viajes donde el clima es malo (Bad), tienden a durar más que cuando el clima es bueno (Good)."
   ]
  },
  {
   "cell_type": "code",
   "execution_count": 37,
   "metadata": {},
   "outputs": [
    {
     "name": "stdout",
     "output_type": "stream",
     "text": [
      "En promedio, los viajes con clima malo duran 740 segundos más, o 12.33 minutos más, que los viajes con clima bueno.\n"
     ]
    }
   ],
   "source": [
    "print('En promedio, los viajes con clima malo duran',2540-1800, 'segundos más, o',round((2540-1800)/60,2 ),\n",
    "      'minutos más, que los viajes con clima bueno.')"
   ]
  },
  {
   "cell_type": "markdown",
   "metadata": {},
   "source": [
    "###### Conclusión:\n",
    "\n",
    "- Los viajes donde el clima es malo (Bad), tienden a durar más que cuando el clima es bueno (Good).\n",
    "\n",
    "- En promedio, los viajes con clima malo duran 740 segundos más, o 12.33 minutos más, que los viajes con clima bueno."
   ]
  },
  {
   "cell_type": "markdown",
   "metadata": {},
   "source": [
    "## Prueba de hipótesis\n",
    "\n",
    "A continuación se prueba la siguiente hipótesis \"La duración promedio de los viajes desde el Loop hasta el Aeropuerto Internacional O'Hare cambia los sábados lluviosos\".\n",
    "\n",
    "Se establece el nivel de significación (alfa) como 5%."
   ]
  },
  {
   "cell_type": "code",
   "execution_count": 38,
   "metadata": {},
   "outputs": [],
   "source": [
    "df_trips_la_bad = df_trips_la.query('weather_conditions == \"Bad\"')['duration_seconds']\n",
    "df_trips_la_good = df_trips_la.query('weather_conditions == \"Good\"')['duration_seconds']"
   ]
  },
  {
   "cell_type": "markdown",
   "metadata": {},
   "source": [
    "###### Comprobación de distribución normal\n",
    "\n",
    "Se verifica que la distribucion de ambas muestras sea normal.\n",
    "\n",
    "- Hipótesis nula: Los datos siguen una distribución normal.\n",
    "\n",
    "- Hipótesis alterna: Los datos no siguen una distribución normal."
   ]
  },
  {
   "cell_type": "code",
   "execution_count": 39,
   "metadata": {},
   "outputs": [
    {
     "name": "stdout",
     "output_type": "stream",
     "text": [
      "ShapiroResult(statistic=0.9303929209709167, pvalue=7.176113416711356e-22)\n",
      "Se rechaza la hipótesis nula\n"
     ]
    }
   ],
   "source": [
    "#comprobación de distribución normal para la muestra\n",
    "alpha = 0.05 #nivel de significancia alfa\n",
    "\n",
    "# Normalidad de los residuos Shapiro-Wilk test Xone\n",
    "shapiro_test = st.shapiro(df_trips_la['duration_seconds'])\n",
    "print(shapiro_test)\n",
    "\n",
    "if shapiro_test[1] < alpha: print(\"Se rechaza la hipótesis nula\")\n",
    "else: print(\"No se rechaza la hipótesis nula\")"
   ]
  },
  {
   "cell_type": "code",
   "execution_count": 40,
   "metadata": {
    "scrolled": true
   },
   "outputs": [
    {
     "data": {
      "image/png": "[encoded data removed]",
      "text/plain": [
       "<Figure size 432x288 with 1 Axes>"
      ]
     },
     "metadata": {
      "needs_background": "light"
     },
     "output_type": "display_data"
    }
   ],
   "source": [
    "sn.histplot(df_trips_la['duration_seconds'], kde=True, stat=\"density\", linewidth=0)\n",
    "plt.show()"
   ]
  },
  {
   "cell_type": "markdown",
   "metadata": {},
   "source": [
    "Los datos no siguen una distribución normal, a través de un gráfico, se observa una distribución bimodal que comunmente aparece al tener datos de dos sistemas o condiciones diferentes, en este caso puede inferirse por la diferencia del clima."
   ]
  },
  {
   "cell_type": "markdown",
   "metadata": {},
   "source": [
    "###### Comprobación de varianzas iguales\n",
    "\n",
    "Se verifica que las muestras tengan varianzas iguales.\n",
    "\n",
    "- Hipótesis nula: las muestras tienen varianzas iguales.\n",
    "\n",
    "- Hipótesis alterna: las muestras tienen varianzas diferentes."
   ]
  },
  {
   "cell_type": "code",
   "execution_count": 41,
   "metadata": {
    "scrolled": true
   },
   "outputs": [
    {
     "name": "stdout",
     "output_type": "stream",
     "text": [
      "Prueba de varianzas iguales:\n",
      "LeveneResult(statistic=0.38853489683656073, pvalue=0.5332038671974493)\n",
      "No se rechaza la hipótesis nula\n",
      "\n"
     ]
    }
   ],
   "source": [
    "#Varianza de las muestras - prueba de levene\n",
    "levene_test = st.levene (df_trips_la_bad, df_trips_la_good, center = 'median') \n",
    "print('Prueba de varianzas iguales:')\n",
    "print(levene_test)\n",
    "\n",
    "if levene_test[1] < alpha: print(\"Se rechaza la hipótesis nula\")\n",
    "else: print(\"No se rechaza la hipótesis nula\")\n",
    "print()"
   ]
  },
  {
   "cell_type": "markdown",
   "metadata": {},
   "source": [
    "Al no recharzarse la hipótesis nula, se asume que las muestras tienen varianzas iguales."
   ]
  },
  {
   "cell_type": "markdown",
   "metadata": {},
   "source": [
    "### \"La duración promedio de los viajes desde el Loop hasta el Aeropuerto Internacional O'Hare cambia los sábados lluviosos\""
   ]
  },
  {
   "cell_type": "markdown",
   "metadata": {},
   "source": [
    "###### Aplicar prueba de hipótesis\n",
    "\n",
    "Se tiene una distribución binomial con varianzas iguales por lo que se continua la prueba de hipótesis aplicando el test de Mann-Whitney.\n",
    "\n",
    "- Hipótesis nula: La duración promedio de los viajes desde el Loop hasta el Aeropuerto Internacional O'Hare, es igual los sábados lluviosos.\n",
    "\n",
    "- Hipótesis alterna: La duración promedio de los viajes desde el Loop hasta el Aeropuerto Internacional O'Hare, cambia los sábados lluviosos."
   ]
  },
  {
   "cell_type": "code",
   "execution_count": 42,
   "metadata": {},
   "outputs": [
    {
     "name": "stdout",
     "output_type": "stream",
     "text": [
      "p-value:0.0000\n",
      "Se rechaza la hipótesis nula.\n"
     ]
    }
   ],
   "source": [
    "ttest,pvalue = st.mannwhitneyu(df_trips_la_bad,df_trips_la_good, alternative=\"two-sided\")\n",
    "print(\"p-value:%.4f\" % pvalue)\n",
    "if pvalue <alpha:\n",
    "    print(\"Se rechaza la hipótesis nula.\")\n",
    "else:\n",
    "    print(\"No se rechaza la hipótesis nula\")"
   ]
  },
  {
   "cell_type": "markdown",
   "metadata": {},
   "source": [
    "Por lo tanto se puede determinar que la duración promedio de los viajes desde el Loop ahsta el Aeropuerto Internacional O'Hare, cambia los sábados lluviosos."
   ]
  },
  {
   "cell_type": "markdown",
   "metadata": {},
   "source": [
    "## Conclusión / Resultados\n",
    "\n",
    "Respecto a los 10 barrios principales en terminación de viajes:\n",
    "\n",
    "- Los 10 barrios principales en terminación de viajes representan el 76.69 % de todos los viajes.\n",
    "\n",
    "- El barrio Loop es donde terminan la mayoría de los viajes (19.02%), seguido por los barrios River North, Streeterville y West Loop. Los siguientes vecindarios tienen la mitad o menos viajes que los barrios mencionados anteriormente.\n",
    "\n",
    "Respecto a las empresas de taxis y viajes:\n",
    "\n",
    "- Las 10 compañías de taxis principales poseen el 73.47 % de todos los viajes.\n",
    "\n",
    "- La empresa Flash Cab es la principal compañía de taxis, posee el 14.24 % de todos los viajes.\n",
    "\n",
    "Respecto a la relación entre el clima y la duración de los viajes:\n",
    "\n",
    "- Los viajes donde el clima es malo (Bad), tienden a durar más que cuando el clima es bueno (Good).\n",
    "\n",
    "- En promedio, los viajes con clima malo duran 740 segundos más, o 12.33 minutos más, que los viajes con clima bueno.\n",
    "\n",
    "- Existen varios motivos por los que los viajes demoran más los días que llueven, como un tráfico más lento debido a un empeoramiento de las condiciones de manejo propias de la lluvia. Esto por ejemplo hace que un viaje demore más de lo usual comparado a los días que no llueve.\n",
    "\n",
    "Respecto a la hipótesis:\n",
    "\n",
    "- La duración promedio de los viajes desde el Loop hasta el Aeropuerto Internacional O'Hare, cambia los sábados lluviosos. Los sábados con mal clima hace que los viajes aumenten un promedio de 12.33 minutos comparados a los sábados con buen clima."
   ]
  },
  {
   "cell_type": "markdown",
   "metadata": {},
   "source": [
    "### Conclusión general\n",
    "\n",
    "Anteriormente del proyecto como tal se realizó una recuperación de datos de una página web de los datos del clima de Chicago. En esto se creó un dataframe que sería usado para la prueba de la hipótesis.\n",
    "\n",
    "#### Importar los archivos\n",
    "\n",
    "Se importaron los 3 dataframes, los primeros dos denominados 'df_company' y 'df_trips', fueron analizados para determinar los diez barrios principales en términos de finalización y las diez principales compañías de taxis según el número de recorrido. El tercero se usó para la prueba de hipótesis.\n",
    "\n",
    "#### Estudiar los datos que contienen y tipos de datos correctos\n",
    "\n",
    "Antes de poder comprobarlo, se analizó la calidad de los datos que no presentaban mayor problema, el que si ameritaba mayor atención fue la columna 'start_ts' del dataframe 'df_trips_la' que presentaba un tipo de datos que no sería el más apropiado y se lo transformó a el tipo fecha. También se revisó a más a fondo a las columnas que podían presentar problemas como la columna 'company_name' que tenía duplicados por el nombre de la compañía que estaban escritos con una palabra faltante y se los unió. La columna 'dropoff_location_name' no tenía problema alguno, comprobar si la columna 'weather_conditions' mostraba 'Good' y 'Bad' y el transfromar la columna 'start_ts' a tipo fecha.\n",
    "\n",
    "#### Identificación de los 10 principales barrios en términos de finalización\n",
    "\n",
    "Se realizaron dos gráficos, uno en el que se puede apreciar solo los 10 principales barrios y otro en el que se pueden ver más barrios dando una visión más general de estos. \n",
    "\n",
    "#### Identificación de las 10 compañías principales de taxis según número de viajes\n",
    "\n",
    "Se realizaron dos gráficos, en el que se puede visualizar las 10 compañías principales de taxis según el número de viajes y otro gráfico donde se ve de manera más general el resto de compañías para dar una mejor impresión de la diferencia de uso de ciertas compañías comparadas a las otras.\n",
    "\n",
    "#### Prueba de hipótesis\n",
    "\n",
    "Previo a realizar la prueba se verificó si la distribución era normal, y resultó que no, era de caracter bimodal presumible a el factor del clima de bueno y malo. Posterior verificar si la varianza era igual y usando la prueba de Levene se comprueba que si eran iguales. Ya con esto se pasó a la prueba de hipótesis en la que aplicando el test se obtiene que se rechaza la hipótesis nula de que la duración promedio no cambia según el clima y se acepta la hipósis alterna de que la duración promedio si cambia según el clima.\n",
    "\n",
    "Finalmente todos los resultados pertinentes del trabajo se encuentran en el punto 8 de conclusión / resultados."
   ]
  }
 ],
 "metadata": {
  "kernelspec": {
   "display_name": "Python 3 (ipykernel)",
   "language": "python",
   "name": "python3"
  },
  "language_info": {
   "codemirror_mode": {
    "name": "ipython",
    "version": 3
   },
   "file_extension": ".py",
   "mimetype": "text/x-python",
   "name": "python",
   "nbconvert_exporter": "python",
   "pygments_lexer": "ipython3",
   "version": "3.9.19"
  },
  "toc": {
   "base_numbering": 1,
   "nav_menu": {},
   "number_sections": true,
   "sideBar": true,
   "skip_h1_title": true,
   "title_cell": "Table of Contents",
   "title_sidebar": "Contents",
   "toc_cell": false,
   "toc_position": {
    "height": "calc(100% - 180px)",
    "left": "10px",
    "top": "150px",
    "width": "368.094px"
   },
   "toc_section_display": true,
   "toc_window_display": true
  }
 },
 "nbformat": 4,
 "nbformat_minor": 2
}
